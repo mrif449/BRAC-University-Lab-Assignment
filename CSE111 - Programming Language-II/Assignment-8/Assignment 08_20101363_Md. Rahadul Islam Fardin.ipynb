{
 "cells": [
  {
   "cell_type": "markdown",
   "metadata": {
    "id": "5EDZMKqtb3b8"
   },
   "source": [
    "### Answer to the Question Number: 1"
   ]
  },
  {
   "cell_type": "code",
   "execution_count": null,
   "metadata": {
    "colab": {
     "base_uri": "https://localhost:8080/"
    },
    "id": "xBrtkEoab8kk",
    "outputId": "e48e3667-cc7d-4f48-b3e2-f879dc8fe4b3"
   },
   "outputs": [
    {
     "name": "stdout",
     "output_type": "stream",
     "text": [
      "RealPart: 1.0\n",
      "ImaginaryPart: 1.0\n",
      "---------\n",
      "RealPart: 5.0\n",
      "ImaginaryPart: 7.0\n"
     ]
    }
   ],
   "source": [
    "class RealNumber:\n",
    " \n",
    "    def __init__(self, r=0):\n",
    "        self.__realValue = r \n",
    "    def getRealValue(self):\n",
    "        return self.__realValue\n",
    "    def setRealValue(self, r):\n",
    "        self.__realValue = r\n",
    "    def __str__(self):\n",
    "        return 'RealPart: '+str(self.getRealValue())\n",
    "class ComplexNumber(RealNumber):\n",
    "    def __init__(self, r=1,i=1):\n",
    "        super().__init__(r=r)\n",
    "        self.__imaginaryValue = i\n",
    "    def getImaginaryValue(self):\n",
    "        return self.__imaginaryValue\n",
    "    def setImaginarylValue(self, i):\n",
    "        self.__imaginaryValue = i\n",
    "    def __str__(self):\n",
    "        return f\"RealPart: {str('{:.1f}'.format(self.getRealValue()))}\\nImaginaryPart: {str('{:.1f}'.format(self.getImaginaryValue()))}\"\n",
    "cn1 = ComplexNumber()\n",
    "print(cn1)\n",
    "print('---------')\n",
    "cn2 = ComplexNumber(5,7)\n",
    "print(cn2)"
   ]
  },
  {
   "cell_type": "markdown",
   "metadata": {
    "id": "KfCmYSD-b8_M"
   },
   "source": [
    "### Answer to the Question Number: 2"
   ]
  },
  {
   "cell_type": "code",
   "execution_count": 1,
   "metadata": {
    "colab": {
     "base_uri": "https://localhost:8080/"
    },
    "id": "XKpDnbY0b9kD",
    "outputId": "41d105df-b028-48b0-816c-01252b47329b"
   },
   "outputs": [
    {
     "name": "stdout",
     "output_type": "stream",
     "text": [
      "8\n",
      "2 + 1i\n",
      "3 + 5i\n",
      "5 + 6i\n",
      "-1 + -4i\n"
     ]
    }
   ],
   "source": [
    "class RealNumber:\n",
    "    def __init__(self, number=0):\n",
    "        self.number = number\n",
    "    def __add__(self, anotherRealNumber):\n",
    "        return self.number + anotherRealNumber.number\n",
    "    def __sub__(self, anotherRealNumber):\n",
    "        return self.number - anotherRealNumber.number\n",
    "    def __str__(self):\n",
    "        return str(self.number)\n",
    "class ComplexNumber(RealNumber):\n",
    "    def __init__(self, number, number2):\n",
    "        super().__init__(number=number)\n",
    "        #self.number = number\n",
    "        self.number2 = number2\n",
    "    def __str__(self):\n",
    "        return str(self.number)+\" +\"+\" \"+str(self.number2)+\"i\"\n",
    "    \n",
    "    def __add__(self, other):\n",
    "        new_num1 = self.number + other.number.number    \n",
    "        new_num2 = self.number2 + other.number2\n",
    "        obj = ComplexNumber(new_num1,new_num2)\n",
    "        return obj\n",
    "    def __sub__(self, other):\n",
    "        new_num3 = self.number - other.number.number\n",
    "        new_num4 = self.number2 - other.number2\n",
    "        obj2 = ComplexNumber(new_num3,new_num4)\n",
    "        return obj2\n",
    "r1 = RealNumber(3)\n",
    "r2 = RealNumber(5)\n",
    "print(r1+r2)\n",
    "cn1 = ComplexNumber(2, 1)\n",
    "print(cn1)\n",
    "cn2 = ComplexNumber(r1, 5)\n",
    "print(cn2)\n",
    "cn3 = cn1 + cn2\n",
    "print(cn3)\n",
    "cn4 = cn1 - cn2\n",
    "print(cn4)"
   ]
  },
  {
   "cell_type": "markdown",
   "metadata": {
    "id": "UwMBB_gRb92k"
   },
   "source": [
    "### Answer to the Question Number: 3"
   ]
  },
  {
   "cell_type": "code",
   "execution_count": null,
   "metadata": {
    "colab": {
     "base_uri": "https://localhost:8080/"
    },
    "id": "9nXnj4jtb-f0",
    "outputId": "9226d834-0580-4f2d-8024-09abb403cf6d"
   },
   "outputs": [
    {
     "name": "stdout",
     "output_type": "stream",
     "text": [
      "Number of Checking Accounts:  0\n",
      "Account Balance: 0.00\n",
      "Account Balance: 100.00\n",
      "Account Balance: 200.00\n",
      "Number of Checking Accounts:  3\n"
     ]
    }
   ],
   "source": [
    "class Account:\n",
    "    def __init__(self, balance):\n",
    "        self._balance = balance\n",
    " \n",
    "    def getBalance(self):\n",
    "        return self._balance\n",
    "class CheckingAccount(Account):\n",
    "    numberOfAccount = 0\n",
    "    def __init__(self, balance=0.00):\n",
    "        super().__init__(balance)\n",
    "        CheckingAccount.numberOfAccount += 1\n",
    "    def __str__(self):\n",
    "        return f\"Account Balance: {str('{:.2f}'.format(self.getBalance()))}\" \n",
    " \n",
    "print('Number of Checking Accounts: ', CheckingAccount.numberOfAccount)\n",
    "print(CheckingAccount())\n",
    "print(CheckingAccount(100.00))\n",
    "print(CheckingAccount(200.00))\n",
    "print('Number of Checking Accounts: ', CheckingAccount.numberOfAccount)"
   ]
  },
  {
   "cell_type": "markdown",
   "metadata": {
    "id": "ZhbnAnCEb-2c"
   },
   "source": [
    "### Answer to the Question Number: 4"
   ]
  },
  {
   "cell_type": "code",
   "execution_count": null,
   "metadata": {
    "colab": {
     "base_uri": "https://localhost:8080/"
    },
    "id": "5BAwhsUlb_dT",
    "outputId": "4328c4f6-b9ee-42c4-8b8e-d25514984277"
   },
   "outputs": [
    {
     "name": "stdout",
     "output_type": "stream",
     "text": [
      "----Printing Detail----\n",
      "Do not eat the Mango .\n",
      "Mangos are bad for you\n",
      "----Printing Detail----\n",
      "Eat the Jackfruit .\n",
      "Jackfruits are good for you\n"
     ]
    }
   ],
   "source": [
    "class Fruit:\n",
    "    def __init__(self, formalin=False, name=''):\n",
    "        self.__formalin = formalin\n",
    "        self.name = name\n",
    " \n",
    "    def getName(self):\n",
    "        return self.name\n",
    " \n",
    "    def hasFormalin(self):\n",
    "        return self.__formalin\n",
    " \n",
    "class testFruit:\n",
    "    def test(self, f):\n",
    "        print('----Printing Detail----')\n",
    "        if f.hasFormalin():\n",
    "            print('Do not eat the',f.getName(),'.')\n",
    "            print(f)\n",
    "        else:\n",
    "            print('Eat the',f.getName(),'.')\n",
    "            print(f)\n",
    "class Mango(Fruit):\n",
    "    def __init__(self, formalin=True, name= \"Mango\"):\n",
    "        super().__init__(formalin=formalin, name=name)\n",
    "    def __str__(self):\n",
    "        return \"Mangos are bad for you\"\n",
    "class Jackfruit(Fruit):\n",
    "    def __init__(self, formalin=False, name=\"Jackfruit\"):\n",
    "        super().__init__(formalin=formalin, name=name)\n",
    "    def __str__(self):\n",
    "        return \"Jackfruits are good for you\"\n",
    "m = Mango()\n",
    "j = Jackfruit()\n",
    "t1 = testFruit()\n",
    "t1.test(m)\n",
    "t1.test(j)"
   ]
  },
  {
   "cell_type": "markdown",
   "metadata": {
    "id": "eyUhfmnNb_yc"
   },
   "source": [
    "### Answer to the Question Number: 5"
   ]
  },
  {
   "cell_type": "code",
   "execution_count": null,
   "metadata": {
    "colab": {
     "base_uri": "https://localhost:8080/"
    },
    "id": "4uQUFk4CcAXz",
    "outputId": "b33da94b-1b7f-407f-edf6-8ec7b818e462"
   },
   "outputs": [
    {
     "name": "stdout",
     "output_type": "stream",
     "text": [
      "Marks: 100 Time: 90 minutes Number of Parts: 4\n",
      "----------------------------------\n",
      "Maths , English , Physics , HigherMaths\n",
      "Part 1 - Maths\n",
      "Part 2 - English\n",
      "Part 3 - Physics \n",
      "Part 4 - HigherMaths\n",
      "==================================\n",
      "Marks: 100 Time: 120 minutes Number of Parts: 5\n",
      "----------------------------------\n",
      "Maths , English , Physics , HigherMaths , Drawing\n",
      "Part 1 - Maths\n",
      "Part 2 - English\n",
      "Part 3 - Physics \n",
      "Part 4 - HigherMaths\n",
      "Part 5 - Drawing\n"
     ]
    }
   ],
   "source": [
    "class Exam:\n",
    "    def __init__(self,marks):\n",
    "        self.marks = marks\n",
    "        self.time = 60\n",
    "    def examSyllabus(self):\n",
    "        return \"Maths , English\"\n",
    "    def examParts(self):\n",
    "        return \"Part 1 - Maths\\nPart 2 - English\\n\"\n",
    "class ScienceExam(Exam):\n",
    "    def __init__(self, marks, time, s1, s2, s3= None):\n",
    "        super().__init__(marks)\n",
    "        self.time = time\n",
    "        self.s1 = s1\n",
    "        self.s2 = s2\n",
    "        self.s3 = s3\n",
    "    def __str__(self):\n",
    "        if self.s3 != None:\n",
    "            return \"Marks: \"+str(self.marks)+\" Time: \"+str(self.time)+\" minutes \"+\"Number of Parts: 5\"\n",
    "        else:\n",
    "            return \"Marks: \"+str(self.marks)+\" Time: \"+str(self.time)+\" minutes \"+\"Number of Parts: 4\"\n",
    "    def examSyllabus(self):\n",
    "        if self.s3 == None: \n",
    "            return super().examSyllabus()+\" , \"+self.s1+\" , \"+self.s2\n",
    "        else:\n",
    "            return super().examSyllabus()+\" , \"+self.s1+\" , \"+self.s2+\" , \"+self.s3\n",
    "    def examParts(self):\n",
    "        if self.s3 != None:\n",
    "            return super().examParts()+\"Part 3 - \"+self.s1+\" \\nPart 4 - \"+self.s2+\"\\nPart 5 - \"+self.s3\n",
    "        else:\n",
    "            return super().examParts()+\"Part 3 - \"+self.s1+\" \\nPart 4 - \"+self.s2\n",
    "        \n",
    "engineering = ScienceExam(100,90,\"Physics\",\"HigherMaths\")\n",
    "print(engineering)\n",
    "print('----------------------------------')\n",
    "print(engineering.examSyllabus())\n",
    "print(engineering.examParts())\n",
    "print('==================================')\n",
    "architecture = ScienceExam(100,120,\"Physics\",\"HigherMaths\",\"Drawing\")\n",
    "print(architecture)\n",
    "print('----------------------------------')\n",
    "print(architecture.examSyllabus())\n",
    "print(architecture.examParts())"
   ]
  },
  {
   "cell_type": "markdown",
   "metadata": {
    "id": "N8sLPiS9cAvc"
   },
   "source": [
    "### Answer to the Question Number: 6"
   ]
  },
  {
   "cell_type": "code",
   "execution_count": null,
   "metadata": {
    "colab": {
     "base_uri": "https://localhost:8080/"
    },
    "id": "V5TC5d6UcBO0",
    "outputId": "de1eebd1-aeeb-4da2-c709-77659f93ec44"
   },
   "outputs": [
    {
     "name": "stdout",
     "output_type": "stream",
     "text": [
      "Shape name: Sphere, Area Formula: 4 * pi * r * r\n",
      "----------------------------------\n",
      "Radius: 5, Height: No need \n",
      "Area: 314.159\n",
      "==================================\n",
      "Shape name: Cylinder, Area Formula: 2 * pi * r * (r + h)\n",
      "----------------------------------\n",
      "Radius: 5, Height: 10 \n",
      "Area: 471.2385\n"
     ]
    }
   ],
   "source": [
    "class Shape3D:\n",
    "    pi = 3.14159\n",
    "    def __init__(self, name = 'Default', radius = 0):\n",
    "        self._area = 0\n",
    "        self._name = name\n",
    "        self._height = 'No need'\n",
    "        self._radius = radius \n",
    "    def calc_surface_area(self):\n",
    "        return 2 * Shape3D.pi * self._radius\n",
    "    def __str__(self):\n",
    "        return \"Radius: \"+str(self._radius)\n",
    "class Sphere(Shape3D):\n",
    "    def __init__(self, name, radius):\n",
    "        super().__init__(name=name, radius=radius)\n",
    "        print(\"Shape name: Sphere, Area Formula: 4 * pi * r * r\")\n",
    "    def calc_surface_area(self):\n",
    "        self._area += 4*Shape3D.pi*self._radius*self._radius\n",
    "    def __str__(self):\n",
    "        return super().__str__() +\", Height: \"+str(self._height)+\" \\nArea: \"+str(self._area)\n",
    "class Cylinder(Shape3D):\n",
    "    def __init__(self, name, radius,height):\n",
    "        super().__init__(name=name, radius=radius)\n",
    "        self._height = height\n",
    "        print(\"Shape name: Cylinder, Area Formula: 2 * pi * r * (r + h)\")\n",
    "    def calc_surface_area(self):\n",
    "        self._area += 2*Shape3D.pi*self._radius*(self._radius+self._height)\n",
    "    def __str__(self):\n",
    "        return super().__str__()+\", Height: \"+str(self._height)+\" \\nArea: \"+str(self._area)\n",
    "sph = Sphere('Sphere', 5)\n",
    "print('----------------------------------')\n",
    "sph.calc_surface_area()\n",
    "print(sph)\n",
    "print('==================================')\n",
    "cyl = Cylinder('Cylinder', 5, 10)\n",
    "print('----------------------------------')\n",
    "cyl.calc_surface_area()\n",
    "print(cyl)"
   ]
  },
  {
   "cell_type": "markdown",
   "metadata": {
    "id": "nb4w-Sa2cBnT"
   },
   "source": [
    "### Answer to the Question Number: 7"
   ]
  },
  {
   "cell_type": "code",
   "execution_count": null,
   "metadata": {
    "colab": {
     "base_uri": "https://localhost:8080/"
    },
    "id": "HKFrOivzcCRz",
    "outputId": "87424c67-4427-49e8-f2aa-be921b08d2ea"
   },
   "outputs": [
    {
     "name": "stdout",
     "output_type": "stream",
     "text": [
      "\n",
      "------------Basic Info:--------------\n",
      "Name: Default, HP: 0, Weakness: None\n",
      "Main type: Unknown\n",
      "Basic move: Quick Attack\n",
      "\n",
      "------------Pokemon 1 Info:-------------\n",
      "Name: Charmander, HP: 39, Weakness: Water\n",
      "Main type: Fire\n",
      "Basic move: Quick Attack\n",
      "\n",
      "------------Pokemon 2 Info:-------------\n",
      "Name: Charizard, HP: 78, Weakness: Water\n",
      "Main type: Fire, Secondary type: Flying \n",
      "Basic move: Quick Attack, Other move: Fire Spin, Fire Blaze\n"
     ]
    }
   ],
   "source": [
    "class PokemonBasic:\n",
    "    def __init__(self, name = 'Default', hp = 0, \n",
    "        weakness = 'None', type = 'Unknown'):\n",
    "        self.name = name\n",
    "        self.hit_point = hp\n",
    "        self.weakness = weakness\n",
    "        self.type = type\n",
    "    def get_type(self):\n",
    "        return 'Main type: ' + self.type\n",
    "    def get_move(self):\n",
    "        return 'Basic move: ' + 'Quick Attack'\n",
    "    def __str__(self):\n",
    "        return \"Name: \" + self.name + \", HP: \" + str(self.hit_point) + \", Weakness: \" + self.weakness\n",
    "class PokemonExtra(PokemonBasic):\n",
    "    def __init__(self, name, hp, weakness, type,s_type=\"\",o_move=\"\"):\n",
    "        super().__init__(name=name, hp=hp, weakness=weakness, type=type)\n",
    "        self.name = name\n",
    "        self.hit_point = hp\n",
    "        self.weakness = weakness\n",
    "        self.s_type = s_type\n",
    "        self.o_move = o_move\n",
    "        for x in self.o_move:\n",
    "            self.a = self.o_move[0]\n",
    "            self.b = self.o_move[1]\n",
    "    def get_type(self):\n",
    "        if self.s_type == \"\":\n",
    "            return 'Main type: ' + self.type\n",
    "        else:\n",
    "            return f\"Main type: {self.type}, Secondary type: {self.s_type} \"\n",
    "    def get_move(self):\n",
    "        if self.o_move == \"\":\n",
    "            return 'Basic move: ' + 'Quick Attack'\n",
    "        else:\n",
    "            return f\"Basic move: Quick Attack, Other move: {self.a}, {self.b}\"\n",
    "        \n",
    "print('\\n------------Basic Info:--------------')\n",
    "pk = PokemonBasic()\n",
    "print(pk)\n",
    "print(pk.get_type())\n",
    "print(pk.get_move())\n",
    "print('\\n------------Pokemon 1 Info:-------------')\n",
    "charmander = PokemonExtra('Charmander', 39, 'Water', \n",
    "'Fire')\n",
    "print(charmander)\n",
    "print(charmander.get_type())\n",
    "print(charmander.get_move())\n",
    "print('\\n------------Pokemon 2 Info:-------------')\n",
    "charizard = PokemonExtra('Charizard', 78, 'Water', \n",
    "'Fire', 'Flying', ('Fire Spin', 'Fire Blaze'))\n",
    "print(charizard)\n",
    "print(charizard.get_type())\n",
    "print(charizard.get_move())"
   ]
  },
  {
   "cell_type": "markdown",
   "metadata": {
    "id": "S811FfxEcCrb"
   },
   "source": [
    "### Answer to the Question Number: 8"
   ]
  },
  {
   "cell_type": "code",
   "execution_count": null,
   "metadata": {
    "colab": {
     "base_uri": "https://localhost:8080/"
    },
    "id": "NgpjfVktcDPj",
    "outputId": "588019fd-bb0d-4990-b047-5a727d75725d"
   },
   "outputs": [
    {
     "name": "stdout",
     "output_type": "stream",
     "text": [
      "=========================\n",
      "Total Player: 11\n",
      "Our name is Brazil\n",
      "We play Football\n",
      "We love sports\n",
      "=========================\n",
      "Total Player: 11\n",
      "Our name is Bangladesh\n",
      "We play Cricket\n",
      "We love sports\n"
     ]
    }
   ],
   "source": [
    "class Team:\n",
    "    def __init__(self, name):\n",
    "        self.name = \"default\"\n",
    "        self.total_player = 5\n",
    "    def info(self):\n",
    "        print(\"We love sports\")\n",
    "\n",
    "# Write your code here.\n",
    "class FootBallTeam(Team):\n",
    "    def __init__(self, name):\n",
    "        super().__init__(name)\n",
    "        self.name = name\n",
    "        self.total_player += 6\n",
    "    def info(self):\n",
    "        print(\"Our name is Brazil\")\n",
    "        print(\"We play Football\")\n",
    "        print(\"We love sports\")\n",
    "class CricketTeam(Team):\n",
    "    def __init__(self, name):\n",
    "        super().__init__(name)\n",
    "        self.name = name\n",
    "        self.total_player += 6\n",
    "    def info(self):\n",
    "        print(\"Our name is Bangladesh\")\n",
    "        print(\"We play Cricket\")\n",
    "        print(\"We love sports\")\n",
    "class Team_test:\n",
    "    def check(self, tm):\n",
    "        print(\"=========================\")\n",
    "        print(\"Total Player:\", tm.total_player)\n",
    "        tm.info()\n",
    "f = FootBallTeam(\"Brazil\")\n",
    "c = CricketTeam(\"Bangladesh\")\n",
    "test = Team_test()\n",
    "test.check(f)\n",
    "test.check(c)"
   ]
  },
  {
   "cell_type": "markdown",
   "metadata": {
    "id": "Fw2AR7z2cDqs"
   },
   "source": [
    "### Answer to the Question Number: 9"
   ]
  },
  {
   "cell_type": "code",
   "execution_count": null,
   "metadata": {
    "colab": {
     "base_uri": "https://localhost:8080/"
    },
    "id": "WZpjkpYacEcy",
    "outputId": "8c6532f5-c690-487e-853a-3df3b0f2f586"
   },
   "outputs": [
    {
     "name": "stdout",
     "output_type": "stream",
     "text": [
      "Pokemon: Pikachu\n",
      "Type: Electric\n",
      "Weakness: Ground\n",
      "I am a Pokemon.\n",
      "I am Pikachu.\n",
      "========================\n",
      "Pokemon: Charmander\n",
      "Type: Fire\n",
      "Weakness: Water, Ground and Rock\n",
      "I am a Pokemon.\n",
      "I am Charmander.\n"
     ]
    }
   ],
   "source": [
    "class Pokemon:\n",
    "    def __init__(self, p):\n",
    "        self.pokemon = p\n",
    "        self.pokemon_type = \"Needs to be set\"\n",
    "        self.pokemon_weakness = \"Needs to be set\"\n",
    "    def kind(self):\n",
    "        return self.pokemon_type \n",
    "    def weakness(self):\n",
    "        return self.pokemon_weakness\n",
    "    def what_am_i(self):\n",
    "        print(\"I am a Pokemon.\")\n",
    "class Pikachu(Pokemon):\n",
    "    def __init__(self, p= \"Pikachu\"):\n",
    "        super().__init__(p)\n",
    "        self.pokemon_type = \"Electric\"\n",
    "        self.pokemon_weakness = \"Ground\"\n",
    "    def what_am_i(self):\n",
    "        print(\"I am a Pokemon.\")\n",
    "        print(\"I am Pikachu.\")\n",
    "class Charmander(Pokemon):\n",
    "    def __init__(self, p=\"Charmander\"):\n",
    "        super().__init__(p)\n",
    "        self.pokemon_type = \"Fire\"\n",
    "        self.pokemon_weakness = \"Water, Ground and Rock\"\n",
    "    def what_am_i(self):\n",
    "        print(\"I am a Pokemon.\")\n",
    "        print(\"I am Charmander.\")\n",
    "\n",
    "pk1 = Pikachu()\n",
    "print(\"Pokemon:\", pk1.pokemon)\n",
    "print(\"Type:\", pk1.kind())\n",
    "print(\"Weakness:\", pk1.weakness())\n",
    "pk1.what_am_i()\n",
    "print(\"========================\")\n",
    "c1 = Charmander()\n",
    "print(\"Pokemon:\", c1.pokemon)\n",
    "print(\"Type:\", c1.kind())\n",
    "print(\"Weakness:\", c1.weakness())\n",
    "c1.what_am_i()"
   ]
  },
  {
   "cell_type": "markdown",
   "metadata": {
    "id": "rO58WrxicExT"
   },
   "source": [
    "### Answer to the Question Number: 10"
   ]
  },
  {
   "cell_type": "code",
   "execution_count": null,
   "metadata": {
    "colab": {
     "base_uri": "https://localhost:8080/"
    },
    "id": "Z6fg_a1XcGFz",
    "outputId": "629d0bd0-8506-4973-f430-72dd51e5dcad"
   },
   "outputs": [
    {
     "name": "stdout",
     "output_type": "stream",
     "text": [
      "Name: Rahim\n",
      "ID: 16101328\n",
      "Courses Approved to this CSE student in Spring2016 semester :\n",
      "CSE110\n",
      "MAT110\n",
      "ENG101\n",
      "==================\n",
      "Name: Tanzim\n",
      "ID: 18101326\n",
      "Courses Approved to this CSE student in Spring2018 semester :\n",
      "Mat110\n",
      "PHY111\n",
      "ENG101\n",
      "==================\n",
      "Name: Rudana\n",
      "ID: 18101326\n",
      "Courses Approved to this CSE student in Fall2017 semester :\n",
      "CSE111\n",
      "PHY101\n",
      "MAT120\n",
      "==================\n",
      "Name: Zainab\n",
      "ID: 19201623\n",
      "Courses Approved to this CSE student in Summer2019 semester :\n",
      "EEE201\n",
      "PHY112\n",
      "MAT120\n"
     ]
    }
   ],
   "source": [
    "class Department:\n",
    "    def __init__(self, s):\n",
    "        self.semester = s\n",
    "        self.name = \"Default\"\n",
    "        self.id = -1\n",
    " \n",
    "    def student_info(self):\n",
    "        print(\"Name:\", self.name)\n",
    "        print(\"ID:\", self.id)\n",
    " \n",
    "    def courses(self, c1, c2, c3):\n",
    "        print(\"No courses Approved yet!\")\n",
    "\n",
    "class CSE(Department):\n",
    "    def __init__(self, name, id, s):\n",
    "        super().__init__(s)\n",
    "        self.name = name\n",
    "        self.id = id\n",
    "    def courses(self, c1, c2, c3):\n",
    "        print(\"Courses Approved to this CSE student in\",self.semester,\"semester :\")\n",
    "        print(c1)\n",
    "        print(c2)\n",
    "        print(c3)\n",
    "class EEE(Department):\n",
    "    def __init__(self, name, id, s):\n",
    "        super().__init__(s)\n",
    "        self.name = name\n",
    "        self.id = id\n",
    "    def courses(self, c1, c2, c3):\n",
    "        print(\"Courses Approved to this CSE student in\",self.semester,\"semester :\")\n",
    "        print(c1)\n",
    "        print(c2)\n",
    "        print(c3)    \n",
    "\n",
    "s1 = CSE(\"Rahim\", 16101328,\"Spring2016\")\n",
    "s1.student_info()\n",
    "s1.courses(\"CSE110\", \"MAT110\", \"ENG101\")\n",
    "print(\"==================\")\n",
    "s2 = EEE(\"Tanzim\", 18101326, \"Spring2018\")\n",
    "s2.student_info()\n",
    "s2.courses(\"Mat110\", \"PHY111\", \"ENG101\")\n",
    "print(\"==================\")\n",
    "s3 = CSE(\"Rudana\", 18101326, \"Fall2017\")\n",
    "s3.student_info()\n",
    "s3.courses(\"CSE111\", \"PHY101\", \"MAT120\")\n",
    "print(\"==================\")\n",
    "s4 = EEE(\"Zainab\", 19201623, \"Summer2019\")\n",
    "s4.student_info()\n",
    "s4.courses(\"EEE201\", \"PHY112\", \"MAT120\")"
   ]
  }
 ],
 "metadata": {
  "colab": {
   "collapsed_sections": [],
   "name": "Assignment 08_20101363_Md. Rahadul Islam Fardin.ipynb",
   "provenance": []
  },
  "kernelspec": {
   "display_name": "Python 3 (ipykernel)",
   "language": "python",
   "name": "python3"
  },
  "language_info": {
   "codemirror_mode": {
    "name": "ipython",
    "version": 3
   },
   "file_extension": ".py",
   "mimetype": "text/x-python",
   "name": "python",
   "nbconvert_exporter": "python",
   "pygments_lexer": "ipython3",
   "version": "3.9.7"
  }
 },
 "nbformat": 4,
 "nbformat_minor": 1
}
