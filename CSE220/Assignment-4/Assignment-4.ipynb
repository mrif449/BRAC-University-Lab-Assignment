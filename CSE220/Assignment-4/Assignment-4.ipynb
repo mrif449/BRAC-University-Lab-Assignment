{
 "cells": [
  {
   "cell_type": "markdown",
   "metadata": {},
   "source": [
    "## Task-1:"
   ]
  },
  {
   "cell_type": "code",
   "execution_count": null,
   "metadata": {},
   "outputs": [],
   "source": [
    "def Brackets_Checker(expression):\n",
    "    openning_brackets = [\"(\",\"{\",\"[\"]\n",
    "    closing_brackets = [\")\",\"}\",\"]\"]\n",
    "    stack = []\n",
    "    for x in expression:\n",
    "        if x in openning_brackets:\n",
    "            stack.append(x)\n",
    "        elif x in closing_brackets:\n",
    "            counter = len(stack)\n",
    "            if counter <= 0:\n",
    "\n",
    "                idx = expression.index(x)\n",
    "                idx += 1\n",
    "                print(\"This expression is NOT correct\\n\"\"Error at character #{0}. {1} - not opened\".format(idx,x)) \n",
    "            else:\n",
    "                idx2 = closing_brackets.index(x)\n",
    "                if openning_brackets[idx2] == stack[counter-1]:\n",
    "                    stack.pop()\n",
    "                else:\n",
    "                    last = stack[-1]\n",
    "                    for x in expression:\n",
    "                        if x == last:\n",
    "                            idx3 = expression.index(x)+1\n",
    "                    print(\"This expression is NOT correct\\n\"\"Error at character #{0}. {1} - not closed\".format(idx3,last))\n",
    "    if len(stack) == 0:\n",
    "        print(\"This expression is correct\")\n",
    "\n",
    "#==================Tester==================#\n",
    "expression = input(\"Enter the expression: \")\n",
    "Brackets_Checker(expression)"
   ]
  },
  {
   "cell_type": "markdown",
   "metadata": {},
   "source": [
    "## Task-2:"
   ]
  },
  {
   "cell_type": "code",
   "execution_count": null,
   "metadata": {},
   "outputs": [],
   "source": [
    "class Node:\n",
    "    def __init__(self,value,idx):\n",
    "        self.value = value\n",
    "        self.idx = idx\n",
    "        self.next = None\n",
    "class Stack:\n",
    "    def __init__(self):\n",
    "        self.head = None\n",
    "    def  push(self,key,idx):\n",
    "        if self.head != None:\n",
    "            new = Node(key,idx)\n",
    "            new.next = self.head\n",
    "            self.head = new\n",
    "        else:\n",
    "            self.head = Node(key,idx)\n",
    "    def peek(self):\n",
    "        if self.head != None:\n",
    "            return self.head.key\n",
    "    def pop(self):\n",
    "        if self.head != None:\n",
    "            removed = self.head\n",
    "            self.head = self.head.next\n",
    "            removed.next = None\n",
    "            return removed.key\n",
    "        else:\n",
    "            return None\n",
    "    def Brackets_Checker(self,expression):\n",
    "        openning_brackets = [\"(\",\"{\",\"[\"]\n",
    "        closing_brackets = [\")\",\"}\",\"]\"]\n",
    "        stack = []\n",
    "        for x in expression:\n",
    "            if x in openning_brackets:\n",
    "                stack.append(x)\n",
    "            elif x in closing_brackets:\n",
    "                counter = len(stack)\n",
    "                if counter <= 0:\n",
    "    \n",
    "                    idx = expression.index(x)\n",
    "                    idx += 1\n",
    "                    print(\"This expression is NOT correct\\n\"\"Error at character #{0}. {1} - not opened\".format(idx,x)) \n",
    "                else:\n",
    "                    idx2 = closing_brackets.index(x)\n",
    "                    if openning_brackets[idx2] == stack[counter-1]:\n",
    "                        stack.pop()\n",
    "                    else:\n",
    "                        last = stack[-1]\n",
    "                        for x in expression:\n",
    "                            if x == last:\n",
    "                                idx3 = expression.index(x)+1\n",
    "                        print(\"This expression is NOT correct\\n\"\"Error at character #{0}. {1} - not closed\".format(idx3,last))\n",
    "        if len(stack) == 0:\n",
    "            print(\"This expression is correct\")\n",
    "\n",
    "\n",
    "#==================Tester==================#\n",
    "expression = input(\"Enter the expression: \")\n",
    "stack1 = Stack()\n",
    "stack1.Brackets_Checker(expression)"
   ]
  }
 ],
 "metadata": {
  "kernelspec": {
   "display_name": "Python 3.10.7 64-bit",
   "language": "python",
   "name": "python3"
  },
  "language_info": {
   "name": "python",
   "version": "3.10.7"
  },
  "orig_nbformat": 4,
  "vscode": {
   "interpreter": {
    "hash": "3b4bcf71e5b419684ee911c7bbaf0f70bce12017f0d8c78835186c2a07f09cd9"
   }
  }
 },
 "nbformat": 4,
 "nbformat_minor": 2
}
