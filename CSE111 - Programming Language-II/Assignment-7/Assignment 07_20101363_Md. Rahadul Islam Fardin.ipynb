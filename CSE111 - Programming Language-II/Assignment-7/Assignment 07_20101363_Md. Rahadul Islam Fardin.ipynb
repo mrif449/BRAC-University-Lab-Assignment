{
 "cells": [
  {
   "cell_type": "markdown",
   "metadata": {
    "id": "m5hAjSac8ThQ"
   },
   "source": [
    "### Answer to the Question Number: 1"
   ]
  },
  {
   "cell_type": "code",
   "execution_count": null,
   "metadata": {
    "colab": {
     "base_uri": "https://localhost:8080/"
    },
    "id": "rMj2Shri8Ywg",
    "outputId": "5d2b0173-bc9e-4886-df43-3cc832e81779"
   },
   "outputs": [
    {
     "name": "stdout",
     "output_type": "stream",
     "text": [
      "Name: default Department: BBA\n",
      "Name: Humpty Dumpty Department: BBA\n",
      "Name: Little Bo Peep Department: BBA\n"
     ]
    }
   ],
   "source": [
    "class Student:\n",
    "    def __init__(self, name='Just a student', dept='nothing'):\n",
    "        self.__name = name\n",
    "        self.__department = dept\n",
    "    def set_department(self, dept):\n",
    "        self.__department = dept\n",
    "    def get_name(self):\n",
    "        return self.__name\n",
    "    def set_name(self,name):\n",
    "        self.__name = name\n",
    "    def __str__(self):\n",
    "        return 'Name: '+self.__name+' Department: '+self.__department\n",
    "#write your code here\n",
    "class BBA_Student(Student):\n",
    "    def __init__(self,string='default',dept='BBA'):\n",
    "        super().__init__(string,dept)\n",
    "print(BBA_Student())\n",
    "print(BBA_Student('Humpty Dumpty'))\n",
    "print(BBA_Student('Little Bo Peep'))"
   ]
  },
  {
   "cell_type": "markdown",
   "metadata": {
    "id": "nyRnHEhR8ZMR"
   },
   "source": [
    "### Answer to the Question Number: 2"
   ]
  },
  {
   "cell_type": "code",
   "execution_count": null,
   "metadata": {
    "colab": {
     "base_uri": "https://localhost:8080/"
    },
    "id": "HujzywJb8aFg",
    "outputId": "ee9a799f-83b1-4c43-89e6-71e022848b4f"
   },
   "outputs": [
    {
     "name": "stdout",
     "output_type": "stream",
     "text": [
      "Part 1\n",
      "------\n",
      "(0 , 0)\n",
      "(0 , 1)\n",
      "(-1 , 1)\n",
      "(-1 , 0)\n",
      "(0 , 0)\n",
      "------\n",
      "Part 2\n",
      "------\n",
      "(0 , 0)\n",
      "(-1 , -1)\n",
      "False\n",
      "True\n"
     ]
    }
   ],
   "source": [
    "class Vehicle:\n",
    "    def __init__(self):\n",
    "        self.x = 0\n",
    "        self.y = 0\n",
    "    def moveUp(self):\n",
    "        self.y+=1\n",
    "    def moveDown(self):\n",
    "        self.y-=1\n",
    "    def moveRight(self):\n",
    "       self.x+=1\n",
    "    def moveLeft(self):\n",
    "        self.x-=1\n",
    "    def __str__(self):\n",
    "        return '('+str(self.x)+' , '+str(self.y)+')'\n",
    "#write your code here\n",
    "class Vehicle2010(Vehicle):\n",
    "    def moveUpperRight(self):\n",
    "        self.moveUp()\n",
    "        self.moveRight()\n",
    "    def moveUpperLedt(self):\n",
    "        self.moveUp()\n",
    "        self.moveLeft()\n",
    "    def moveLowerRight(self):\n",
    "        self.moveDown()\n",
    "        self.moveRight()\n",
    "    def moveLowerLeft(self):\n",
    "        self.moveDown()\n",
    "        self.moveLeft()\n",
    "    def equals(self,other):\n",
    "        if self.x == other.x and self.y == other.y:\n",
    "            return True\n",
    "        else:\n",
    "            return False\n",
    "print('Part 1')\n",
    "print('------')\n",
    "car = Vehicle()\n",
    "print(car)\n",
    "car.moveUp()\n",
    "print(car)\n",
    "car.moveLeft()\n",
    "print(car)\n",
    "car.moveDown()\n",
    "print(car)\n",
    "car.moveRight()\n",
    "print(car)\n",
    "print('------')\n",
    "print('Part 2')\n",
    "print('------')\n",
    "car1 = Vehicle2010()\n",
    "print(car1)\n",
    "car1.moveLowerLeft()\n",
    "print(car1)\n",
    "car2 = Vehicle2010()\n",
    "car2.moveLeft()\n",
    "print(car1.equals(car2))\n",
    "car2.moveDown()\n",
    "print(car1.equals(car2))"
   ]
  },
  {
   "cell_type": "markdown",
   "metadata": {
    "id": "EVSPvXn18adx"
   },
   "source": [
    "### Answer to the Question Number: 3"
   ]
  },
  {
   "cell_type": "code",
   "execution_count": null,
   "metadata": {
    "colab": {
     "base_uri": "https://localhost:8080/"
    },
    "id": "KozRnLpx8bMA",
    "outputId": "4a5eb59d-3e31-4de3-a619-762db4068cf3"
   },
   "outputs": [
    {
     "name": "stdout",
     "output_type": "stream",
     "text": [
      "Cricket Tournament Name: Default\n",
      "Number of Teams: 0\n",
      "Type: No type\n",
      "-----------------------\n",
      "Cricket Tournament Name: IPL\n",
      "Number of Teams: 10\n",
      "Type: t20\n",
      "-----------------------\n",
      "Tennis Tournament Name: Roland Garros\n",
      "Number of Players: 128\n"
     ]
    }
   ],
   "source": [
    "class Tournament:\n",
    "    def __init__(self,name='Default'):\n",
    "        self.__name = name\n",
    "    def set_name(self,name):\n",
    "        self.__name = name\n",
    "    def get_name(self):\n",
    "        return self.__name\n",
    "#write your code here\n",
    "class Cricket_Tournament(Tournament):\n",
    "    def __init__(self,name= \"Default\",num = 0,type= \"No type\"):\n",
    "        super().__init__(name)\n",
    "        self.num = num\n",
    "        self.type = type\n",
    "    def detail(self):\n",
    "        return f\"Cricket Tournament Name: {super().get_name()}\\nNumber of Teams: {self.num}\\nType: {self.type}\"\n",
    "class Tennis_Tournament(Tournament):\n",
    "    def __init__(self, name, players):\n",
    "        super().__init__(name)\n",
    "        self.players = players\n",
    "    def detail(self):\n",
    "        return f\"Tennis Tournament Name: {super().get_name()}\\nNumber of Players: {self.players}\"\n",
    "ct1 = Cricket_Tournament()\n",
    "print(ct1.detail())\n",
    "print(\"-----------------------\")\n",
    "ct2 = Cricket_Tournament(\"IPL\",10,\"t20\")\n",
    "print(ct2.detail())\n",
    "print(\"-----------------------\")\n",
    "tt = Tennis_Tournament(\"Roland Garros\",128)\n",
    "print(tt.detail())"
   ]
  },
  {
   "cell_type": "markdown",
   "metadata": {
    "id": "kRDdNNBg8bhJ"
   },
   "source": [
    "### Answer to the Question Number: 4"
   ]
  },
  {
   "cell_type": "code",
   "execution_count": null,
   "metadata": {
    "colab": {
     "base_uri": "https://localhost:8080/"
    },
    "id": "axUC0drx8cOg",
    "outputId": "0a7a97c2-cfe9-4287-fd6e-0a5f1ef7f968"
   },
   "outputs": [
    {
     "name": "stdout",
     "output_type": "stream",
     "text": [
      "ID: 1 Title:The AlchemistPrice: 500\n",
      "ISBN: 97806 Publisher: HarperCollins\n",
      "-----------------------\n",
      "ID: 2 Title:ShottoPrice: 300\n",
      "Band: Warfaze Duration: 50minutes\n",
      "Genre: Hard Rock\n"
     ]
    }
   ],
   "source": [
    "class Product:\n",
    "    def __init__(self,id, title, price):\n",
    "        self.__id = id\n",
    "        self. __title = title\n",
    "        self. __price = price\n",
    "    def get_id_title_price(self):\n",
    "        return \"ID: \"+str(self.__id)+\" Title:\"+self.__title+ \"Price: \"+str(self.__price)\n",
    "#write your code here\n",
    "class Book(Product):\n",
    "    def __init__(self, book_id, book_title, book_price, isbn, publisher):\n",
    "        super().__init__(book_id, book_title, book_price)\n",
    "        self.isbn = isbn\n",
    "        self.publisher = publisher\n",
    "    def printDetail(self):\n",
    "        return f\"{super().get_id_title_price()}\\nISBN: {self.isbn} Publisher: {self.publisher}\"\n",
    "class CD(Product):\n",
    "    def __init__(self, cd_id, cd_title, cd_price, band, duration, genre):\n",
    "        super().__init__(cd_id, cd_title, cd_price)\n",
    "        self.band = band\n",
    "        self.duration = duration\n",
    "        self.genre = genre\n",
    "    def printDetail(self):\n",
    "        return f\"{super().get_id_title_price()}\\nBand: {self.band} Duration: {self.duration}minutes\\nGenre: {self.genre}\"\n",
    "\n",
    "book = Book(1,\"The Alchemist\",500,\"97806\",\"HarperCollins\")\n",
    "print(book.printDetail())\n",
    "print(\"-----------------------\")\n",
    "cd = CD(2,\"Shotto\",300,\"Warfaze\",50,\"Hard Rock\")\n",
    "print(cd.printDetail())"
   ]
  },
  {
   "cell_type": "markdown",
   "metadata": {
    "id": "iFPvTT3q8cix"
   },
   "source": [
    "### Answer to the Question Number: 5"
   ]
  },
  {
   "cell_type": "code",
   "execution_count": null,
   "metadata": {
    "colab": {
     "base_uri": "https://localhost:8080/"
    },
    "id": "h-Fz8IgC8dMQ",
    "outputId": "36a608b7-3860-4377-a1f4-b7059f702fdc"
   },
   "outputs": [
    {
     "name": "stdout",
     "output_type": "stream",
     "text": [
      "Animal does not make sound\n",
      "meow\n",
      "bark\n"
     ]
    }
   ],
   "source": [
    "class Animal: \n",
    "    def __init__(self,sound):\n",
    "        self.__sound = sound\n",
    " \n",
    "    def makeSound(self):\n",
    "        return self.__sound\n",
    " \n",
    "class Printer: \n",
    "    def printSound(self, a):\n",
    "        print(a.makeSound())\n",
    "#write your code here\n",
    "class Dog(Animal):\n",
    "    pass\n",
    "class Cat(Animal):\n",
    "    pass\n",
    "d1 = Dog('bark')\n",
    "c1 = Cat('meow')\n",
    "a1 = Animal('Animal does not make sound')\n",
    "pr = Printer()\n",
    "pr.printSound(a1)\n",
    "pr.printSound(c1)\n",
    "pr.printSound(d1)"
   ]
  },
  {
   "cell_type": "markdown",
   "metadata": {
    "id": "e_jsjo2V8djp"
   },
   "source": [
    "### Answer to the Question Number: 6"
   ]
  },
  {
   "cell_type": "code",
   "execution_count": 8,
   "metadata": {
    "colab": {
     "base_uri": "https://localhost:8080/"
    },
    "id": "AcrrX3ri8eLw",
    "outputId": "7918b76e-acb5-45cf-902a-987284281d0a"
   },
   "outputs": [
    {
     "name": "stdout",
     "output_type": "stream",
     "text": [
      "Shape name: Default\n",
      "Height: 0,Base: 0\n",
      "Area: 0.0\n",
      "--------------------------\n",
      "Shape name: Triangle\n",
      "Height: 10,Base: 5\n",
      "Area: 25.0\n",
      "---------------------------\n",
      "Shape name: Trapezoid\n",
      "Height: 10,Base: 6, Side_A: 4\n",
      "Area: 50.0\n"
     ]
    }
   ],
   "source": [
    "class Shape:\n",
    "    def __init__(self, name='Default', height=0, base=0):\n",
    "        self.area = 0\n",
    "        self.name = name\n",
    "        self.height = height\n",
    "        self.base = base\n",
    "    def get_height_base(self):\n",
    "        return \"Height: \"+str(self.height)+\",Base: \"+str(self.base)\n",
    "#write your code here\n",
    "class triangle(Shape):\n",
    "    def calcArea(self):\n",
    "        self.area = 0.5 * self.base * self.height\n",
    "    def printDetail(self):\n",
    "        return f\"Shape name: {self.name}\\n{super().get_height_base()}\\nArea: {self.area}\"\n",
    "class trapezoid(Shape):\n",
    "    def __init__(self, name, height, base, side_a):\n",
    "        super().__init__(name, height, base)\n",
    "        self.side_a = side_a\n",
    "    def calcArea(self):\n",
    "        self.area = ((self.base + self.side_a) / 2) * self.height\n",
    "    def printDetail(self):\n",
    "        return f\"Shape name: {self.name}\\n{super().get_height_base()}, Side_A: {self.side_a}\\nArea: {self.area}\"\n",
    "tri_default = triangle()\n",
    "tri_default.calcArea()\n",
    "print(tri_default.printDetail())\n",
    "print('--------------------------')\n",
    "tri = triangle('Triangle', 10, 5)\n",
    "tri.calcArea()\n",
    "print(tri.printDetail())\n",
    "print('---------------------------')\n",
    "trap = trapezoid('Trapezoid', 10, 6, 4)\n",
    "trap.calcArea()\n",
    "print(trap.printDetail())"
   ]
  },
  {
   "cell_type": "markdown",
   "metadata": {
    "id": "jFkUjRe28eei"
   },
   "source": [
    "### Answer to the Question Number: 7"
   ]
  },
  {
   "cell_type": "code",
   "execution_count": null,
   "metadata": {
    "id": "V7WbD1X_8fQh"
   },
   "outputs": [],
   "source": [
    "class Football:\n",
    "    def __init__(self, team_name, name, role):\n",
    "        self.__team = team_name\n",
    "        self.__name = name\n",
    "        self.role = role\n",
    "        self.earning_per_match = 0\n",
    "    def get_name_team(self):\n",
    "        return 'Name: '+self.__name+', Team Name: ' +self.__team\n",
    "#write your code here\n",
    "class Player(Football):\n",
    "    def __init__(self, team_name, name, role, goal, played):\n",
    "        super().__init__(team_name, name, role)\n",
    "        self.goal = goal\n",
    "        self.played = played\n",
    "    def calculate_ratio(self):\n",
    "        self.ratio = self.goal / self.played\n",
    "    def print_details(self):\n",
    "        self.earning_per_match = (self.goal * 1000) + (self.played * 10)\n",
    "        print(f\"{super().get_name_team()}\\nTeam Role: {self.role}\\nTotal Goal: {self.goal}, Total Played: {self.played}\\nGoal Ration: {self.ratio}\\nMatch Earning: {self.earning_per_match}K\")\n",
    "class Manager(Football):\n",
    "    def __init__(self, team_name, name, role, win):\n",
    "        super().__init__(team_name, name, role)\n",
    "        self.win = win\n",
    "    def print_details(self):\n",
    "        self.earning_per_match = self.win * 1000\n",
    "        print(f\"{super().get_name_team()}\\nTeam Role: {self.role}\\nTotal Win: {self.win}\\nMatch Earning: {self.earning_per_match}K\")\n",
    "player_one = Player('Juventus', 'Ronaldo', 'Striker', 25, 32)\n",
    "player_one.calculate_ratio()\n",
    "player_one.print_details()\n",
    "print('------------------------------------------')\n",
    "manager_one = Manager('Real Madrid', 'Zidane', 'Manager', 25)\n",
    "manager_one.print_details()\n"
   ]
  }
 ],
 "metadata": {
  "colab": {
   "collapsed_sections": [],
   "name": "Md. Rahadul Islam Fardin_20101363_03_Assignment 7.ipynb",
   "provenance": []
  },
  "kernelspec": {
   "display_name": "Python 3 (ipykernel)",
   "language": "python",
   "name": "python3"
  },
  "language_info": {
   "codemirror_mode": {
    "name": "ipython",
    "version": 3
   },
   "file_extension": ".py",
   "mimetype": "text/x-python",
   "name": "python",
   "nbconvert_exporter": "python",
   "pygments_lexer": "ipython3",
   "version": "3.9.7"
  }
 },
 "nbformat": 4,
 "nbformat_minor": 1
}
