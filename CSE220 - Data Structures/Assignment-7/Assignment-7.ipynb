{
 "cells": [
  {
   "cell_type": "markdown",
   "id": "7a9d485a",
   "metadata": {},
   "source": [
    "## Question: 1"
   ]
  },
  {
   "cell_type": "code",
   "execution_count": null,
   "id": "97a0e516",
   "metadata": {},
   "outputs": [],
   "source": [
    "class KeyIndex:\n",
    "    k = []\n",
    "    def __init__(self,array):\n",
    "        self.array = array\n",
    "        self.highest = array[0]\n",
    "        self.lowest = array[0]\n",
    "        self.start = 0\n",
    "        self.end = 0\n",
    "        print(self.array)\n",
    "        for x in range(len(array)):\n",
    "            if self.array[x]>self.highest:\n",
    "                self.highest = self.array[x]\n",
    "            if self.array[x]< self.lowest:\n",
    "                self.lowest = self.array[x]\n",
    "        if self.lowest < 0:\n",
    "            self.start = self.lowest*(-1)\n",
    "        else: pass\n",
    "        self.end = self.highest+self.start\n",
    "        print(\"Start:\",self.start)\n",
    "        print(\"End:\",self.end)\n",
    "        KeyIndex.k = [0]*(self.end+1)\n",
    "        for y in range(len(array)):\n",
    "            KeyIndex.k[self.array[y]+self.start] = KeyIndex.k[self.array[y]+self.start]+1\n",
    "        print(KeyIndex.k)\n",
    "    \n",
    "    def search(self,value):\n",
    "        if value+self.start < len(KeyIndex.k)  and KeyIndex.k[value+self.start]>0:\n",
    "            print(True)\n",
    "        else: print(False)\n",
    "    \n",
    "    def sort(self):\n",
    "        self.idx = 0\n",
    "        self.size = 0\n",
    "        for x in range(len(KeyIndex.k)):\n",
    "            if KeyIndex.k[x] > 0:\n",
    "                self.size += KeyIndex.k[x]\n",
    "        array_2 = [0]*len(self.array)\n",
    "        for y in range(len(KeyIndex.k)):\n",
    "            if KeyIndex.k[y] == 1:\n",
    "                array_2[self.idx] = y - self.start\n",
    "                self.idx += 1\n",
    "            if KeyIndex.k[y] > 1:\n",
    "                for z in range(KeyIndex.k[y]):\n",
    "                    array_2[self.idx] = y-self.start\n",
    "                    self.idx += 1\n",
    "        print(array_2)\n",
    "#===========Tester===========#\n",
    "array= [10, -33, 60, 7, 2, -10, 44, -33, 22]\n",
    "keyindex = KeyIndex(array)\n",
    "keyindex.search(-33)\n",
    "keyindex.sort()"
   ]
  },
  {
   "cell_type": "markdown",
   "id": "55d223b3",
   "metadata": {},
   "source": [
    "## Question: 2"
   ]
  },
  {
   "cell_type": "code",
   "execution_count": null,
   "id": "cb9d45e6",
   "metadata": {},
   "outputs": [],
   "source": [
    "def HashTable(string):\n",
    "    hash = [0]*9\n",
    "    vowel = [\"A\",\"E\",\"I\",\"O\",\"U\"]\n",
    "    for x in range(len(string)):\n",
    "        sum = 0\n",
    "        consonent = 0\n",
    "        for y in (string[x]):\n",
    "            if y not in vowel and not y.isdigit():\n",
    "                consonent += 1\n",
    "            elif y.isdigit():\n",
    "                sum += int(y)\n",
    "        index = (consonent*24+sum)%9\n",
    "        print(\"Index:\",index)\n",
    "        if hash[index] == 0:\n",
    "            while hash[index] == 0:\n",
    "                hash[index] = string[x]\n",
    "        else:\n",
    "            index %= 9\n",
    "    print(hash)\n",
    "#===========Tester===========#\n",
    "string = [\"ST1E89B8A32\"]\n",
    "HashTable(string)"
   ]
  }
 ],
 "metadata": {
  "kernelspec": {
   "display_name": "Python 3 (ipykernel)",
   "language": "python",
   "name": "python3"
  },
  "language_info": {
   "codemirror_mode": {
    "name": "ipython",
    "version": 3
   },
   "file_extension": ".py",
   "mimetype": "text/x-python",
   "name": "python",
   "nbconvert_exporter": "python",
   "pygments_lexer": "ipython3",
   "version": "3.9.7"
  }
 },
 "nbformat": 4,
 "nbformat_minor": 5
}
