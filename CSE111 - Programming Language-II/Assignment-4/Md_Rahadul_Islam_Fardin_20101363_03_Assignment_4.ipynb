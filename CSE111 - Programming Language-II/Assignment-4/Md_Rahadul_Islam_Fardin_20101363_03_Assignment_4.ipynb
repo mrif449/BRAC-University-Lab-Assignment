{
 "cells": [
  {
   "cell_type": "markdown",
   "metadata": {
    "id": "E674Y5OVeWJW"
   },
   "source": [
    "### Answer to the Question Number: 1"
   ]
  },
  {
   "cell_type": "code",
   "execution_count": null,
   "metadata": {
    "id": "m0xK5pYzebUe"
   },
   "outputs": [],
   "source": [
    "class calculator:\n",
    "    def __init__(self,num1,operator,num2):\n",
    "        self.num1 = num1\n",
    "        self.operator = operator\n",
    "        self.num2 = num2\n",
    "        print(\"Let's Calculate!\")\n",
    "    def add(self,num1,num2):\n",
    "        print(num1+num2)\n",
    "    def subtract(self,num1,num2):\n",
    "        print(num1-num2)\n",
    "    def multiply(self,num1,num2):\n",
    "        print(num1*num2)\n",
    "    def division(self,num1,num2):\n",
    "        print(num1/num2)\n",
    "    def calculating(self):\n",
    "        if self.operator == \"+\":\n",
    "            self.add(self.num1,self.num2)\n",
    "        elif self.operator == \"-\":\n",
    "            self.subtract(self.num1,self.num2)\n",
    "        elif self.operator == \"*\":\n",
    "            self.multiply(self.num1,self.num2)\n",
    "        else:\n",
    "            self.division(self.num1,self.num2)\n",
    "number_1 = int(input(\"Enter the first number: \"))\n",
    "operator = input(\"Enter the operator: \")\n",
    "number_2 = int(input(\"Enter the second number: \"))\n",
    "calculation = calculator(number_1,operator,number_2)\n",
    "print(\"Value 1:\",number_1)\n",
    "print(\"Operator:\",operator)\n",
    "print(\"Value 2:\",number_2)\n",
    "print(\"Result:\",end=\"\")\n",
    "calculation.calculating()"
   ]
  },
  {
   "cell_type": "markdown",
   "metadata": {
    "id": "BlOo5nDZecKw"
   },
   "source": [
    "### Answer to the Question Number: 2"
   ]
  },
  {
   "cell_type": "code",
   "execution_count": null,
   "metadata": {
    "id": "0uE5S_d_ec99"
   },
   "outputs": [],
   "source": [
    "class Customer:\n",
    "    def __init__(self,name):\n",
    "        self.name = name\n",
    "    def greet(self,name=None):\n",
    "        if name == None:\n",
    "            print(\"Hello!\")\n",
    "        else:\n",
    "            print(\"Hello\", name+\"!\")\n",
    "    def purchase(self,*items):\n",
    "        print(self.name+\",\",\"you purchased\",len(items),\"item(s):\")\n",
    "        for item in items:\n",
    "            print(item)\n",
    "customer_1 = Customer(\"Sam\")\n",
    "customer_1.greet()\n",
    "customer_1.purchase(\"chips\", \"chocolate\", \"orange juice\")\n",
    "print(\"-----------------------------\")\n",
    "customer_2 = Customer(\"David\")\n",
    "customer_2.greet(\"David\")\n",
    "customer_2.purchase(\"orange juice\")"
   ]
  },
  {
   "cell_type": "markdown",
   "metadata": {
    "id": "UXkFSstwedg2"
   },
   "source": [
    "### Answer to the Question Number: 3"
   ]
  },
  {
   "cell_type": "code",
   "execution_count": null,
   "metadata": {
    "id": "tiOwPJHLeeN-"
   },
   "outputs": [],
   "source": [
    "class Panda:\n",
    "    def __init__(self,name,gender,age):\n",
    "        self.name = name\n",
    "        self.gender = gender\n",
    "        self.age = age\n",
    "    def sleep(self,time=None):\n",
    "        if time == None:\n",
    "            return self.name+\"'s duration is unknown thus should have only bamboo leaves\"\n",
    "        elif time>= 3 and time<= 5:\n",
    "            return f\"{self.name} sleeps {time} hours daily and should have Mixed Veggies\"\n",
    "        elif time>= 6 and time<= 8:\n",
    "            return f\"{self.name} sleeps {time} hours daily and should have Eggplant & Tofu\"\n",
    "        elif time>= 9 and time<= 11:\n",
    "            return f\"{self.name} sleeps {time} hours daily and should have Broccoli Chicken\"\n",
    "panda1 = Panda(\"Kunfu\",\"Male\", 5)\n",
    "panda2=Panda(\"Pan Pan\",\"Female\",3)\n",
    "panda3=Panda(\"Ming Ming\",\"Female\",8)\n",
    "print(\"{} is a {} Panda Bear who is {} years old\".format(panda1.name,panda1.gender,panda1.age))\n",
    "print(\"{} is a {} Panda Bear who is {} years old\".format(panda2.name,panda2.gender,panda2.age))\n",
    "print(\"{} is a {} Panda Bear who is {} years old\".format(panda3.name,panda3.gender,panda3.age))\n",
    "print(\"===========================\")\n",
    "print(panda2.sleep(10))\n",
    "print(panda1.sleep(4))\n",
    "print(panda3.sleep())"
   ]
  },
  {
   "cell_type": "markdown",
   "metadata": {
    "id": "bLxxa8-BefTu"
   },
   "source": [
    "### Answer to the Question Number: 4"
   ]
  },
  {
   "cell_type": "code",
   "execution_count": null,
   "metadata": {
    "id": "1OX3SX3SegDt"
   },
   "outputs": [],
   "source": [
    "class Cat:\n",
    "    def __init__(self,color=\"white\",action=\"sitting\"):\n",
    "        self.color = color\n",
    "        self.action = action\n",
    "    def changeColor(self,color):\n",
    "        self.color = color\n",
    "    def printCat(self):\n",
    "        print(self.color,\"cat is\",self.action)\n",
    "c1 = Cat()\n",
    "c2 = Cat(\"Black\")\n",
    "c3 = Cat(\"Brown\", \"jumping\")\n",
    "c4 = Cat(\"Red\", \"purring\")\n",
    "c1.printCat()\n",
    "c2.printCat()\n",
    "c3.printCat()\n",
    "c4.printCat()\n",
    "c1.changeColor(\"Blue\")\n",
    "c3.changeColor(\"Purple\")\n",
    "c1.printCat()\n",
    "c3.printCat()"
   ]
  },
  {
   "cell_type": "markdown",
   "metadata": {
    "id": "b1iWHHwhegt-"
   },
   "source": [
    "### Answer to the Question Number: 5"
   ]
  },
  {
   "cell_type": "code",
   "execution_count": null,
   "metadata": {
    "id": "JzVa1vlieh0t"
   },
   "outputs": [],
   "source": [
    "class Student:\n",
    "    def __init__(self,name=\"default student\"):\n",
    "        self.name = name\n",
    "    def quizcalc(self,*number):\n",
    "        count = 3\n",
    "        total = 0\n",
    "        for num in number:\n",
    "            total += num\n",
    "        self.av = total/count\n",
    "    def printdetail(self):\n",
    "        print(\"Hello\",self.name)\n",
    "        print(\"Your average quiz score is\",self.av)\n",
    "s1 = Student()\n",
    "s1.quizcalc(10)\n",
    "print('--------------------------------')\n",
    "s1.printdetail()\n",
    "s2 = Student('Harry')\n",
    "s2.quizcalc(10,8)\n",
    "print('--------------------------------')\n",
    "s2.printdetail()\n",
    "s3 = Student('Hermione')\n",
    "s3.quizcalc(10,9,10)\n",
    "print('--------------------------------')\n",
    "s3.printdetail()"
   ]
  },
  {
   "cell_type": "markdown",
   "metadata": {
    "id": "lZXuAlUveiRW"
   },
   "source": [
    "### Answer to the Question Number: 6"
   ]
  },
  {
   "cell_type": "code",
   "execution_count": null,
   "metadata": {
    "id": "eEw7xm0JejP9"
   },
   "outputs": [],
   "source": [
    "class Vehicle:\n",
    "    def __init__(self,x=0,y=0):\n",
    "        self.x = x\n",
    "        self.y = y\n",
    "    def moveUp(self):\n",
    "        self.y += 1\n",
    "    def moveDown(self):\n",
    "        self.y -= 1\n",
    "    def moveRight(self):\n",
    "        self.x += 1\n",
    "    def moveLeft(self):\n",
    "        self.x -= 1\n",
    "    def print_position(self):\n",
    "        print(f\"({self.x},{self.y})\")\n",
    "car = Vehicle()\n",
    "car.print_position()\n",
    "car.moveUp()\n",
    "car.print_position()\n",
    "car.moveLeft()\n",
    "car.print_position()\n",
    "car.moveDown()\n",
    "car.print_position()\n",
    "car.moveRight()"
   ]
  },
  {
   "cell_type": "markdown",
   "metadata": {
    "id": "-eMVtFiNej1O"
   },
   "source": [
    "### Answer to the Question Number: 7"
   ]
  },
  {
   "cell_type": "code",
   "execution_count": null,
   "metadata": {
    "id": "aE741vobekkd"
   },
   "outputs": [],
   "source": [
    "class Programmer:\n",
    "    def __init__(self,name,pro_lan,exp):\n",
    "        self.name = name\n",
    "        self.pro_lan = pro_lan\n",
    "        self.exp = exp\n",
    "        print(\"Horray! A new programmer is born\")\n",
    "    def printDetails(self):\n",
    "        print(\"Name:\",self.name)\n",
    "        print(\"Language:\",self.pro_lan)\n",
    "        print(\"Experience:\",self.exp,\"years.\")\n",
    "    def addExp(self,exp1):\n",
    "        self.exp += exp1\n",
    "        print(\"Updating experience of\",self.name)\n",
    "p1 = Programmer(\"Ethen Hunt\", \"Java\", 10)\n",
    "p1.printDetails()\n",
    "print('--------------------------')\n",
    "p2 = Programmer(\"James Bond\", \"C++\", 7)\n",
    "p2.printDetails()\n",
    "print('--------------------------')\n",
    "p3 = Programmer(\"Jon Snow\", \"Python\", 4)\n",
    "p3.printDetails()\n",
    "p3.addExp(5)\n",
    "p3.printDetails()"
   ]
  },
  {
   "cell_type": "markdown",
   "metadata": {
    "id": "P5dLIQYKek9e"
   },
   "source": [
    "### Answer to the Question Number: 8"
   ]
  },
  {
   "cell_type": "code",
   "execution_count": null,
   "metadata": {
    "id": "QRmpxcr9elrd"
   },
   "outputs": [],
   "source": [
    "class Student:\n",
    "    def __init__(self,name,id,dept= \"CSE\"):\n",
    "        self.name = name\n",
    "        self.id = id\n",
    "        self.dept = dept\n",
    "        print(\"Name:\",self.name)\n",
    "        print(\"ID:\",self.id)\n",
    "        print(\"Department:\",self.dept)\n",
    "    def dailyEffort(self,time):\n",
    "        self.time = time\n",
    "        print(\"Daily Effort:\",self.time,\"hour(s)\")\n",
    "    def printDetails(self):\n",
    "        if self.time <=2:\n",
    "            print(\"Suggestion: Should give more effort!\")\n",
    "        elif self.time <=4:\n",
    "            print(\"Suggestion: Keep up the good work!\")\n",
    "        else:\n",
    "            print(\"Suggestion: Excellent! Now motivate others.\")\n",
    "harry = Student('Harry Potter', 123)\n",
    "harry.dailyEffort(3)\n",
    "harry.printDetails()\n",
    "print('========================')\n",
    "john = Student(\"John Wick\", 456, \"BBA\")\n",
    "john.dailyEffort(2)\n",
    "john.printDetails()\n",
    "print('========================')\n",
    "naruto = Student(\"Naruto Uzumaki\", 777, \"Ninja\")\n",
    "naruto.dailyEffort(6)\n",
    "naruto.printDetails()"
   ]
  },
  {
   "cell_type": "markdown",
   "metadata": {
    "id": "Jk2nqNG8emFV"
   },
   "source": [
    "### Answer to the Question Number: 9"
   ]
  },
  {
   "cell_type": "code",
   "execution_count": null,
   "metadata": {
    "id": "3mt_RKTHemzN"
   },
   "outputs": [],
   "source": [
    "class Patient:\n",
    "    def __init__(self,name,age):\n",
    "        self.name = name\n",
    "        self.age = age\n",
    "        self.symptom = []\n",
    "    def add_Symptom(self,*symptom):\n",
    "        if len(symptom) > 0:\n",
    "            for x in symptom:\n",
    "                self.symptom.append(x)\n",
    "\n",
    "\n",
    "    def printPatientDetail(self):\n",
    "        print(\"Name:\",self.name)\n",
    "        print(\"Name:\",self.age)\n",
    "        print(\"Symptoms:\",end=\" \")\n",
    "        for y in range(len(self.symptom)):\n",
    "            if y != len(self.symptom) - 1:\n",
    "                print(self.symptom[y],end=\", \")\n",
    "            else:\n",
    "                print(self.symptom[y], end=\"\\n\")\n",
    "p1 = Patient(\"Thomas\", 23)\n",
    "p1.add_Symptom(\"Headache\")\n",
    "p2 = Patient(\"Carol\", 20)\n",
    "p2.add_Symptom(\"Vomiting\", \"Coughing\")\n",
    "p3 = Patient(\"Mike\", 25)\n",
    "p3.add_Symptom(\"Fever\", \"Headache\", \"Coughing\")\n",
    "print(\"=========================\")\n",
    "p1.printPatientDetail()\n",
    "print(\"=========================\")\n",
    "p2.printPatientDetail()\n",
    "print(\"=========================\")\n",
    "p3.printPatientDetail()\n",
    "print(\"=========================\")"
   ]
  },
  {
   "cell_type": "markdown",
   "metadata": {
    "id": "Xnb40f9CenFG"
   },
   "source": [
    "### Answer to the Question Number: 10"
   ]
  },
  {
   "cell_type": "code",
   "execution_count": null,
   "metadata": {
    "id": "hL17kIB3en9f"
   },
   "outputs": [],
   "source": [
    "class Avengers:\n",
    "    def __init__(self,name,partner):\n",
    "        self.name = name\n",
    "        self.partner = partner\n",
    "        self.sp = []\n",
    "    def super_powers(self,*sp):\n",
    "        if len(sp) > 0:\n",
    "            for x in sp:\n",
    "                self.sp.append(x)\n",
    "    def printAvengersDetail(self):\n",
    "        print(\"Name:\",self.name)\n",
    "        print(\"Partner:\",self.partner)\n",
    "        print(\"Super powers:\",end=\" \")\n",
    "        for y in range(len(self.sp)):\n",
    "            if y != len(self.sp) - 1:\n",
    "                print(self.sp[y], end=\", \")\n",
    "            else:\n",
    "                print(self.sp[y], end=\"\\n\")\n",
    "a1 = Avengers('Captain America', 'Bucky Barnes')\n",
    "a1.super_powers('Stamina', 'Slowed ageing')\n",
    "a2 = Avengers('Doctor Strange', 'Ancient One')\n",
    "a2.super_powers('Mastery of magic')\n",
    "a3 = Avengers('Iron Man', 'War Machine')\n",
    "a3.super_powers('Genius level intellect', 'Scientist ')\n",
    "print(\"=========================\")\n",
    "a1.printAvengersDetail()\n",
    "print(\"=========================\")\n",
    "a2.printAvengersDetail()\n",
    "print(\"=========================\")\n",
    "a3.printAvengersDetail()\n",
    "print(\"=========================\")"
   ]
  },
  {
   "cell_type": "markdown",
   "metadata": {
    "id": "sRXj6aHweoSG"
   },
   "source": [
    "### Answer to the Question Number: 11"
   ]
  },
  {
   "cell_type": "code",
   "execution_count": null,
   "metadata": {
    "id": "dcUp_ErlepD-"
   },
   "outputs": [],
   "source": [
    "class Shinobi:\n",
    "    def __init__(self,name,rank):\n",
    "        self.name = name\n",
    "        self.rank = rank\n",
    "        self.salary = 0\n",
    "        self.mission = 0\n",
    "    def calSalary(self,mission):\n",
    "        self.mission = self.mission+mission\n",
    "        if self.rank == \"Genin\":\n",
    "            self.salary = mission*50\n",
    "        elif self.rank == \"Chunin\":\n",
    "            self.salary = mission*100\n",
    "        else:\n",
    "            self.salary = mission*500\n",
    "    def changeRank(self,rank2):\n",
    "        self.rank = rank2\n",
    "    def printInfo(self):\n",
    "            print(\"Name:\",self.name)\n",
    "            print(\"Rank:\",self.rank)\n",
    "            print(\"Number of mission:\",self.mission)\n",
    "            print(\"Salary:\",self.salary)\n",
    "naruto = Shinobi(\"Naruto\", \"Genin\")\n",
    "naruto.calSalary(5)\n",
    "naruto.printInfo()\n",
    "print('====================')\n",
    "shikamaru = Shinobi('Shikamaru', \"Genin\")\n",
    "shikamaru.printInfo()\n",
    "shikamaru.changeRank(\"Chunin\")\n",
    "shikamaru.calSalary(10)\n",
    "shikamaru.printInfo()\n",
    "print('====================')\n",
    "neiji = Shinobi(\"Neiji\", \"Jonin\")\n",
    "neiji.calSalary(5)\n",
    "neiji.printInfo()"
   ]
  },
  {
   "cell_type": "markdown",
   "metadata": {
    "id": "aWK34z_yepWO"
   },
   "source": [
    "### Answer to the Question Number: 12"
   ]
  },
  {
   "cell_type": "code",
   "execution_count": null,
   "metadata": {
    "id": "ba0PhmtCeqEd"
   },
   "outputs": [],
   "source": [
    "class ParcelKoro:\n",
    "    def __init__(self,name=None,weight=0):\n",
    "        self.name = name\n",
    "        self.product_weight = weight\n",
    "    def calculateFee(self,location=None):\n",
    "        if location == None:\n",
    "            location_charge = 50\n",
    "        else:\n",
    "            location_charge = 100\n",
    "        if self.product_weight == 0:\n",
    "            self.total_fee = 0\n",
    "        else:\n",
    "            self.total_fee = (self.product_weight * 20) + location_charge\n",
    "    def printDetails(self):\n",
    "        if self.name == None:\n",
    "            print(\"Customer Name: No name set\")\n",
    "        else:\n",
    "            print(\"Customer Name:\",self.name)\n",
    "        print(\"Product weight:\",self.product_weight)\n",
    "        print(\"Total fee:\",self.total_fee)\n",
    "print(\"**********************\")\n",
    "p1 = ParcelKoro()\n",
    "p1.calculateFee()\n",
    "p1.printDetails()\n",
    "print(\"**********************\")\n",
    "p2 = ParcelKoro('Bob The Builder')\n",
    "p2.calculateFee()\n",
    "p2.printDetails()\n",
    "print(\"----------------------------\")\n",
    "p2.product_weight = 15\n",
    "p2.calculateFee()\n",
    "p2.printDetails()\n",
    "print(\"**********************\")\n",
    "p3 = ParcelKoro('Dora The Explorer', 10)\n",
    "p3.calculateFee('Dhanmondi')\n",
    "p3.printDetails()"
   ]
  },
  {
   "cell_type": "markdown",
   "metadata": {
    "id": "Ziap6nsKeqYe"
   },
   "source": [
    "### Answer to the Question Number: 13"
   ]
  },
  {
   "cell_type": "code",
   "execution_count": null,
   "metadata": {
    "id": "cV51zpZderkd"
   },
   "outputs": [],
   "source": [
    "class Batsman:\n",
    "    def __init__(self,*details):\n",
    "        self.name = None\n",
    "        self.run = 0\n",
    "        self.ball = 0\n",
    "        if len(details) == 2:\n",
    "            self.run = details[0]\n",
    "            self.ball = details[1]\n",
    "        elif len(details) == 3:\n",
    "            self.name = details[0]\n",
    "            self.run = details[1]\n",
    "            self.ball = details[2]\n",
    "    def setName(self,name2):\n",
    "        self.name = name2\n",
    "    def printCareerStatistics(self):\n",
    "        if self.name == None:\n",
    "            print(\"Name: New Batsman\")\n",
    "        else:\n",
    "            print(\"Name:\",self.name)\n",
    "        print(\"Runs Scored:\",self.run,\"\",\"Balls Faced:\",self.ball)\n",
    "    def battingStrikeRate(self):\n",
    "        return (self.run/self.ball*100)\n",
    "b1 = Batsman(6101, 7380)\n",
    "b1.printCareerStatistics()\n",
    "print(\"============================\")\n",
    "b2 = Batsman(\"Liton Das\", 678, 773)\n",
    "b2.printCareerStatistics()\n",
    "print(\"----------------------------\")\n",
    "print(b2.battingStrikeRate())\n",
    "print(\"============================\")\n",
    "b1.setName(\"Shakib Al Hasan\")\n",
    "b1.printCareerStatistics()\n",
    "print(\"----------------------------\")\n",
    "print(b1.battingStrikeRate())"
   ]
  },
  {
   "cell_type": "markdown",
   "metadata": {
    "id": "DlE_6MHOer1l"
   },
   "source": [
    "### Answer to the Question Number: 14"
   ]
  },
  {
   "cell_type": "code",
   "execution_count": null,
   "metadata": {
    "id": "G5p01SmEesZN"
   },
   "outputs": [],
   "source": [
    "class EPL_Team:\n",
    "    def __init__(self,name,song=None):\n",
    "        self.name = name\n",
    "        self.song = song\n",
    "        self.title = 0\n",
    "    def increaseTitle(self):\n",
    "        self.title += 1\n",
    "    def changeSong(self,song2):\n",
    "        self.song = song2\n",
    "    def showClubInfo(self):\n",
    "        print(\"Name:\",self.name)\n",
    "        if self.song == None:\n",
    "            print(\"Song: No Slogan\")\n",
    "        else:\n",
    "            print(\"Song:\",self.song)\n",
    "        return f\"Total No of title: {self.title}\"\n",
    "manu = EPL_Team('Manchester United', 'Glory Glory Man United')\n",
    "chelsea = EPL_Team('Chelsea')\n",
    "print('===================')\n",
    "print(manu.showClubInfo())\n",
    "print('##################')\n",
    "manu.increaseTitle()\n",
    "print(manu.showClubInfo())\n",
    "print('===================')\n",
    "print(chelsea.showClubInfo())\n",
    "chelsea.changeSong('Keep the blue flag flying high')\n",
    "print(chelsea.showClubInfo())"
   ]
  },
  {
   "cell_type": "markdown",
   "metadata": {
    "id": "ybcllrb_esqN"
   },
   "source": [
    "### Answer to the Question Number: 15"
   ]
  },
  {
   "cell_type": "code",
   "execution_count": null,
   "metadata": {
    "id": "dv2L_l0Uetqt"
   },
   "outputs": [],
   "source": [
    "class Account:\n",
    "    def __init__(self,name=None,amount=0):\n",
    "        self.name = name\n",
    "        self.balance = amount\n",
    "    def details(self):\n",
    "        if self.name == None:\n",
    "            print(\"Default Account\")\n",
    "        else:\n",
    "            print(self.name)\n",
    "        return (float(self.balance))\n",
    "    def withdraw(self,money):\n",
    "        minimum = 3070\n",
    "        if self.balance-money > minimum and money <= self.balance:\n",
    "            print(\"Withdraw successful! New balance is:\",float(self.balance-money))\n",
    "        else:\n",
    "            print(\"Sorry, Withdraw unsuccessful! The account balance after deducting withdraw amount is equal to or less than minimum.\")\n",
    "a1 = Account()\n",
    "print(a1.details())\n",
    "print(\"------------------------\")\n",
    "a1.name = \"Oliver\"\n",
    "a1.balance = 10000.0\n",
    "print(a1.details())\n",
    "print(\"------------------------\")\n",
    "a2 = Account(\"Liam\")\n",
    "print(a2.details())\n",
    "print(\"------------------------\")\n",
    "a3 = Account(\"Noah\",400)\n",
    "print(a3.details())\n",
    "print(\"------------------------\")\n",
    "a1.withdraw(6930);\n",
    "print(\"------------------------\")\n",
    "a2.withdraw(600);\n",
    "print(\"------------------------\")\n",
    "a1.withdraw(6929)"
   ]
  },
  {
   "cell_type": "markdown",
   "metadata": {
    "id": "iUXWpnaEeuX-"
   },
   "source": [
    "### Answer to the Question Number: 16"
   ]
  },
  {
   "cell_type": "code",
   "execution_count": null,
   "metadata": {
    "id": "DyaR36__evAt"
   },
   "outputs": [],
   "source": [
    "class Author:\n",
    "    def __init__(self,name=\"Default\",*books):\n",
    "        self.name = name\n",
    "        self.books = []\n",
    "        for x in books:\n",
    "            self.books.append(x)\n",
    "    def changeName(self,name2):\n",
    "        self.name = name2\n",
    "\n",
    "    def addBooks(self, *books2):\n",
    "        for y in books2:\n",
    "            self.books.append(y)\n",
    "    def printDetails(self):\n",
    "        print(\"Author Name:\",self.name)\n",
    "        print(\"--------\")\n",
    "        print(\"List of Books:\")\n",
    "        for z in self.books:\n",
    "            print(z)\n",
    "auth1 = Author('Humayun Ahmed')\n",
    "auth1.addBooks('Deyal', 'Megher Opor Bari')\n",
    "auth1.printDetails()\n",
    "print(\"===================\")\n",
    "auth2 = Author()\n",
    "print(auth2.name)\n",
    "auth2.changeName('Mario Puzo')\n",
    "auth2.addBooks('The Godfather', 'Omerta', 'The Sicilian')\n",
    "print(\"===================\")\n",
    "auth2.printDetails()\n",
    "print(\"===================\")\n",
    "auth3 = Author('Paolo Coelho', 'The Alchemist', 'The Fifth Mountain')\n",
    "auth3.printDetails()"
   ]
  }
 ],
 "metadata": {
  "colab": {
   "collapsed_sections": [],
   "name": "Md_Rahadul_Islam_Fardin_20101363_03_Assignment_4.ipynb",
   "provenance": []
  },
  "kernelspec": {
   "display_name": "Python 3 (ipykernel)",
   "language": "python",
   "name": "python3"
  },
  "language_info": {
   "codemirror_mode": {
    "name": "ipython",
    "version": 3
   },
   "file_extension": ".py",
   "mimetype": "text/x-python",
   "name": "python",
   "nbconvert_exporter": "python",
   "pygments_lexer": "ipython3",
   "version": "3.9.7"
  }
 },
 "nbformat": 4,
 "nbformat_minor": 1
}
