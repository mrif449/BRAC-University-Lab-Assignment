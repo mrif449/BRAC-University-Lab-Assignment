{
 "cells": [
  {
   "cell_type": "markdown",
   "metadata": {
    "id": "wqZMzlW5jFv9"
   },
   "source": [
    "### Answer to the Question Number: 1"
   ]
  },
  {
   "cell_type": "code",
   "execution_count": null,
   "metadata": {
    "colab": {
     "base_uri": "https://localhost:8080/"
    },
    "id": "RiyGKFkajL6c",
    "outputId": "f4f4e52b-5f19-49da-e1e9-6cf5ccbd7462"
   },
   "outputs": [
    {
     "name": "stdout",
     "output_type": "stream",
     "text": [
      "Quiz 1 (out of 10): 10\n",
      "Quiz 2 (out of 10): 10\n",
      "Lab (out of 30): 30\n",
      "Mid (out of 20): 20\n",
      "Final (out of 30): 30\n",
      "Total marks: 100\n"
     ]
    }
   ],
   "source": [
    "class Marks:\n",
    "    def __init__(self, marks):\n",
    "        self.mark = marks\n",
    "    def __add__(self, other):\n",
    "        other_mark = Marks(self.mark+other.mark)\n",
    "        return other_mark\n",
    "Q1 = Marks(int(input(\"Quiz 1 (out of 10): \")))\n",
    "Q2 = Marks(int(input(\"Quiz 2 (out of 10): \")))\n",
    "Lab = Marks(int(input(\"Lab (out of 30): \")))\n",
    "Mid = Marks(int(input(\"Mid (out of 20): \")))\n",
    "Final = Marks(int(input(\"Final (out of 30): \")))\n",
    "total = Q1 + Q2 + Lab + Mid + Final\n",
    "print(\"Total marks: {}\".format(total.mark))"
   ]
  },
  {
   "cell_type": "markdown",
   "metadata": {
    "id": "TjwjZcN9jMXk"
   },
   "source": [
    "### Answer to the Question Number: 2"
   ]
  },
  {
   "cell_type": "code",
   "execution_count": 2,
   "metadata": {
    "colab": {
     "base_uri": "https://localhost:8080/"
    },
    "id": "euDpQluYjQfc",
    "outputId": "1ea3e742-b5c2-4fa5-cb29-b1de18b61ed4"
   },
   "outputs": [
    {
     "name": "stdout",
     "output_type": "stream",
     "text": [
      "====================================\n",
      "Name:  Saad Abdullah\n",
      "Department:  CSE\n",
      "List of courses\n",
      "====================================\n",
      "CSE 110 Programming Language I\n",
      "CSE 111 Programming Language-II\n",
      "====================================\n",
      "====================================\n",
      "Name:  Mumit Khan\n",
      "Department:  CSE\n",
      "List of courses\n",
      "====================================\n",
      "CSE 220 Data Structures\n",
      "CSE 221 Algorithms\n",
      "CCSE 230 Discrete Mathematics\n",
      "====================================\n",
      "====================================\n",
      "Name:  Sadia Kazi\n",
      "Department:  CSE\n",
      "List of courses\n",
      "====================================\n",
      "CSE 310 Object Oriented Programming\n",
      "CSE 320 Data Communications\n",
      "CSE 340 Computer Architecture\n",
      "====================================\n"
     ]
    }
   ],
   "source": [
    "class Teacher:\n",
    "    def __init__(self,name,dept):\n",
    "        self.__name = name\n",
    "        self.__dept = dept\n",
    "        self.__course = []\n",
    "    def addCourse(self,course):\n",
    "        self.__course.append(course.n_course)\n",
    "    def printDetail(self):\n",
    "        print(\"====================================\")\n",
    "        print(\"Name: \",self.__name)\n",
    "        print(\"Department: \",self.__dept)\n",
    "        print(\"List of courses\")\n",
    "        print(\"====================================\")\n",
    "        for x in self.__course:\n",
    "            print(x)\n",
    "        print(\"====================================\")\n",
    "class Course:\n",
    "    def __init__(self,n_course):\n",
    "        self.n_course = n_course\n",
    "t1 = Teacher(\"Saad Abdullah\", \"CSE\")\n",
    "t2 = Teacher(\"Mumit Khan\", \"CSE\")\n",
    "t3 = Teacher(\"Sadia Kazi\", \"CSE\")\n",
    "c1 = Course(\"CSE 110 Programming Language I\")\n",
    "c2 = Course(\"CSE 111 Programming Language-II\")\n",
    "c3 = Course(\"CSE 220 Data Structures\")\n",
    "c4 = Course(\"CSE 221 Algorithms\")\n",
    "c5 = Course(\"CCSE 230 Discrete Mathematics\")\n",
    "c6 = Course(\"CSE 310 Object Oriented Programming\")\n",
    "c7 = Course(\"CSE 320 Data Communications\")\n",
    "c8 = Course(\"CSE 340 Computer Architecture\")\n",
    "t1.addCourse(c1)\n",
    "t1.addCourse(c2)\n",
    "t2.addCourse(c3)\n",
    "t2.addCourse(c4)\n",
    "t2.addCourse(c5)\n",
    "t3.addCourse(c6)\n",
    "t3.addCourse(c7)\n",
    "t3.addCourse(c8)\n",
    "t1.printDetail()\n",
    "t2.printDetail()\n",
    "t3.printDetail()"
   ]
  },
  {
   "cell_type": "markdown",
   "metadata": {
    "id": "-UjTt3SIjREd"
   },
   "source": [
    "### Answer to the Question Number: 3"
   ]
  },
  {
   "cell_type": "code",
   "execution_count": 3,
   "metadata": {
    "colab": {
     "base_uri": "https://localhost:8080/"
    },
    "id": "tGSMpRiijR9c",
    "outputId": "4e19c725-4f59-4fe7-a10d-9c15ed92a4f3"
   },
   "outputs": [
    {
     "name": "stdout",
     "output_type": "stream",
     "text": [
      "=====================\n",
      "Team:  Bangladesh\n",
      "List of Players:\n",
      "['Mashrafi', 'Tamim']\n",
      "=====================\n",
      "=====================\n",
      "Team:  Australia\n",
      "List of Players:\n",
      "['Ponting', 'Lee']\n",
      "=====================\n"
     ]
    }
   ],
   "source": [
    "class Team:\n",
    "    def __init__(self,country=None):\n",
    "        self.__country = country\n",
    "        self.__player = []\n",
    "    def setName(self,country):\n",
    "        self.__country =country\n",
    "    def addPlayer(self,name):\n",
    "        self.__player.append(name.player)\n",
    "    def printDetail(self):\n",
    "        print(\"=====================\")\n",
    "        print(\"Team: \",self.__country)\n",
    "        print(\"List of Players:\")\n",
    "        print(self.__player)\n",
    "        print(\"=====================\")\n",
    "class Player:\n",
    "    def __init__(self,player):\n",
    "        self.player = player\n",
    "b = Team()\n",
    "b.setName('Bangladesh')\n",
    "mashrafi = Player(\"Mashrafi\")\n",
    "b.addPlayer(mashrafi)\n",
    "tamim = Player(\"Tamim\")\n",
    "b.addPlayer(tamim)\n",
    "b.printDetail()\n",
    "a = Team(\"Australia\")\n",
    "ponting = Player(\"Ponting\")\n",
    "a.addPlayer(ponting)\n",
    "lee = Player(\"Lee\")\n",
    "a.addPlayer(lee)\n",
    "a.printDetail()"
   ]
  },
  {
   "cell_type": "markdown",
   "metadata": {
    "id": "GVwM248jjSs8"
   },
   "source": [
    "### Answer to the Question Number: 4"
   ]
  },
  {
   "cell_type": "code",
   "execution_count": 5,
   "metadata": {
    "colab": {
     "base_uri": "https://localhost:8080/"
    },
    "id": "S44sA6ItjTYM",
    "outputId": "01c6a826-472a-4527-c385-9bc311a4c62b"
   },
   "outputs": [
    {
     "name": "stdout",
     "output_type": "stream",
     "text": [
      "First Color: blue\n",
      "Second Color: yellow\n",
      "Color formed: Green\n"
     ]
    }
   ],
   "source": [
    "class Color:\n",
    "    def __init__(self,color):\n",
    "        self.clr = color\n",
    "    def __add__(self, other):\n",
    "        result = \"\"\n",
    "        if (self.clr == \"red\" or self.clr == \"blue\" or self.clr == \"yellow\") and (other.clr == \"red\" or other.clr == \"blue\" or other.clr == \"yellow\"):\n",
    "            if (self.clr + other.clr) == \"redyellow\" or (self.clr + other.clr) == \"yellowred\":\n",
    "                result = Color(\"Orange\")\n",
    "            elif (self.clr + other.clr) == \"redblue\" or (self.clr + other.clr) == \"bluered\":\n",
    "                result = Color(\"Violet\")\n",
    "            elif (self.clr + other.clr) == \"yellowblue\" or (self.clr + other.clr) == \"blueyellow\":\n",
    "                result = Color(\"Green\")\n",
    "        return  result\n",
    "C1 = Color(input(\"First Color: \").lower())\n",
    "C2 = Color(input(\"Second Color: \").lower())\n",
    "C3 = C1 + C2\n",
    "print(\"Color formed:\", C3.clr)"
   ]
  },
  {
   "cell_type": "markdown",
   "metadata": {
    "id": "qVlkT-EwjT0G"
   },
   "source": [
    "### Answer to the Question Number: 5"
   ]
  },
  {
   "cell_type": "code",
   "execution_count": 6,
   "metadata": {
    "colab": {
     "base_uri": "https://localhost:8080/"
    },
    "id": "aiiS28s5jUYc",
    "outputId": "c13aa0a0-e7d7-4afe-a52e-0c3350334d0c"
   },
   "outputs": [
    {
     "name": "stdout",
     "output_type": "stream",
     "text": [
      "First circle radius: 4\n",
      "First circle area: 50.26548245743669\n",
      "Second circle radius: 5\n",
      "Second circle area: 78.53981633974483\n",
      "Third circle radius: 9\n",
      "Third circle area: 254.46900494077323\n"
     ]
    }
   ],
   "source": [
    "import  math\n",
    "class Circle:\n",
    "    def __init__(self,radius):\n",
    "        self.__radius = radius\n",
    "        self.__area = math.pi*(self.__radius**2)\n",
    "    def setRadius(self,rad):\n",
    "        self.__radius = rad\n",
    "    def getRadius(self):\n",
    "        radius1 = self.__radius\n",
    "        return radius1\n",
    "    def area(self):\n",
    "        area1 = self.__area\n",
    "        return area1\n",
    "    def __add__(self, other):\n",
    "        radius2 = self.__radius+other.__radius\n",
    "        circle = Circle(radius2)\n",
    "        return  circle\n",
    "c1 = Circle(4)\n",
    "print(\"First circle radius:\" , c1.getRadius())\n",
    "print(\"First circle area:\" ,c1.area())\n",
    "c2 = Circle(5)\n",
    "print(\"Second circle radius:\" ,c2.getRadius())\n",
    "print(\"Second circle area:\" ,c2.area())\n",
    "c3 = c1 + c2\n",
    "print(\"Third circle radius:\" ,c3.getRadius())\n",
    "print(\"Third circle area:\" ,c3.area())"
   ]
  },
  {
   "cell_type": "markdown",
   "metadata": {
    "id": "Jt8hz5bDjVrr"
   },
   "source": [
    "### Answer to the Question Number: 6"
   ]
  },
  {
   "cell_type": "code",
   "execution_count": 7,
   "metadata": {
    "colab": {
     "base_uri": "https://localhost:8080/"
    },
    "id": "qFMwVRGrjXA8",
    "outputId": "4d5e1cb3-9b28-4906-acc3-6f50b34f2f9e"
   },
   "outputs": [
    {
     "name": "stdout",
     "output_type": "stream",
     "text": [
      "First Triangle Base: 10\n",
      "First Triangle Height: 5\n",
      "First Triangle area: 25.0\n",
      "Second Triangle Base: 5\n",
      "Second Triangle Height: 3\n",
      "Second Triangle area: 7.5\n",
      "Third Triangle Base: 5\n",
      "Third Triangle Height: 2\n",
      "Third Triangle area: 5.0\n"
     ]
    }
   ],
   "source": [
    "import math\n",
    "class Triangle:\n",
    "    def __init__(self,base,height):\n",
    "        self.__base = base\n",
    "        self.__height = height\n",
    "        self.__area = 0.5*self.__base*self.__height\n",
    "    def setBase(self,base2):\n",
    "        self.__base = base2\n",
    "    def setHeight(self,height2):\n",
    "        self.__height = height2\n",
    "    def getBase(self):\n",
    "        r_base = self.__base\n",
    "        return r_base\n",
    "    def getHeight(self):\n",
    "        r_height = self.__height\n",
    "        return r_height\n",
    "    def area(self):\n",
    "        r_area = self.__area\n",
    "        return self.__area\n",
    "    def __sub__(self, other):\n",
    "        l_base = self.__base - other.__base\n",
    "        l_height = self.__height - other.__height\n",
    "        r_triangle = Triangle(l_base,l_height)\n",
    "        return r_triangle\n",
    "t1 = Triangle(10, 5)\n",
    "print(\"First Triangle Base:\" , t1.getBase())\n",
    "print(\"First Triangle Height:\" , t1.getHeight())\n",
    "print(\"First Triangle area:\" ,t1.area())\n",
    "t2 = Triangle(5, 3)\n",
    "print(\"Second Triangle Base:\" , t2.getBase())\n",
    "print(\"Second Triangle Height:\" , t2.getHeight())\n",
    "print(\"Second Triangle area:\" ,t2.area())\n",
    "t3 = t1 - t2 \n",
    "print(\"Third Triangle Base:\" , t3.getBase())\n",
    "print(\"Third Triangle Height:\" , t3.getHeight())\n",
    "print(\"Third Triangle area:\" ,t3.area()) "
   ]
  },
  {
   "cell_type": "markdown",
   "metadata": {
    "id": "1liFoFmCjXel"
   },
   "source": [
    "### Answer to the Question Number: 7"
   ]
  },
  {
   "cell_type": "code",
   "execution_count": 10,
   "metadata": {
    "colab": {
     "base_uri": "https://localhost:8080/"
    },
    "id": "WwiRdRE7jYPM",
    "outputId": "0479cecf-6df5-4da5-cdc3-8b79f39bf9bd"
   },
   "outputs": [
    {
     "name": "stdout",
     "output_type": "stream",
     "text": [
      "Doll: Tweety\n",
      "Toral Price: 2500 taka\n",
      "Thank you!\n",
      "=========================\n",
      "Doll: Daffy Duck\n",
      "Toral Price: 1800 taka\n",
      "Thank you!\n",
      "=========================\n",
      "Doll: Bugs Bunny\n",
      "Toral Price: 3000 taka\n",
      "Congratulations! You get the Tweety as a gift!\n",
      "=========================\n",
      "Doll: Porky Pig\n",
      "Toral Price: 1500 taka\n",
      "Thank you!\n",
      "=========================\n",
      "Doll: Daffy Duck Bugs Bunny\n",
      "Toral Price: 4800 taka\n",
      "Congratulations! You get the Tweety as a gift!\n"
     ]
    }
   ],
   "source": [
    "class Dolls:\n",
    "    def __init__(self,name,price):\n",
    "        self.__name = name\n",
    "        self.__price = price\n",
    "    def __gt__(self, other):\n",
    "        if self.__price > other.__price:\n",
    "            return True\n",
    "        else:\n",
    "            return False\n",
    "    def detail(self):\n",
    "        print(\"Doll:\",self.__name)\n",
    "        return f\"Toral Price: {self.__price} taka\"\n",
    "    def __add__(self, other):\n",
    "        l_name = self.__name + \" \" + other.__name\n",
    "        l_price = self.__price + other.__price\n",
    "        doll2 = Dolls(l_name,l_price)\n",
    "        return  doll2\n",
    "obj_1 = Dolls(\"Tweety\", 2500)\n",
    "print(obj_1.detail())\n",
    "if obj_1 > obj_1:\n",
    " print(\"Congratulations! You get the Tweety as a gift!\")\n",
    "else:\n",
    " print(\"Thank you!\")\n",
    "print(\"=========================\")\n",
    "obj_2 = Dolls(\"Daffy Duck\", 1800)\n",
    "print(obj_2.detail())\n",
    "if obj_2 > obj_1:\n",
    " print(\"Congratulations! You get the Tweety as a gift!\")\n",
    "else:\n",
    " print(\"Thank you!\")\n",
    "print(\"=========================\")\n",
    "obj_3 = Dolls(\"Bugs Bunny\", 3000)\n",
    "print(obj_3.detail())\n",
    "if obj_3 > obj_1:\n",
    " print(\"Congratulations! You get the Tweety as a gift!\")\n",
    "else:\n",
    " print(\"Thank you!\")\n",
    "print(\"=========================\")\n",
    "obj_4 = Dolls(\"Porky Pig\", 1500)\n",
    "print(obj_4.detail())\n",
    "if obj_4 > obj_1:\n",
    " print(\"Congratulations! You get the Tweety as a gift!\")\n",
    "else:\n",
    " print(\"Thank you!\")\n",
    "print(\"=========================\")\n",
    "obj_5 = obj_2 + obj_3\n",
    "print(obj_5.detail())\n",
    "if obj_5 > obj_1:\n",
    " print(\"Congratulations! You get the Tweety as a gift!\")\n",
    "else:\n",
    " print(\"Thank you!\")"
   ]
  },
  {
   "cell_type": "markdown",
   "metadata": {
    "id": "e8OQRjM1jY6V"
   },
   "source": [
    "### Answer to the Question Number: 8"
   ]
  },
  {
   "cell_type": "code",
   "execution_count": 11,
   "metadata": {
    "colab": {
     "base_uri": "https://localhost:8080/"
    },
    "id": "S8lwGC1LjZ0c",
    "outputId": "4a66ece4-645f-4086-9775-82adf93fc96e"
   },
   "outputs": [
    {
     "name": "stdout",
     "output_type": "stream",
     "text": [
      "1\n",
      "2\n",
      "3\n",
      "4\n",
      "(-2, -2)\n",
      "(3, 8)\n",
      "The calculated coordinates are NOT the same.\n"
     ]
    }
   ],
   "source": [
    "class Coordinates:\n",
    "    def __init__(self,x,y):\n",
    "        self.__x = x\n",
    "        self.__y = y\n",
    "    def __sub__(self, other):\n",
    "        r_x = self.__x - other.__x\n",
    "        r_y = self.__y - other.__y\n",
    "        l_coordinate= Coordinates(r_x,r_y)\n",
    "        return l_coordinate\n",
    "    def __mul__(self, other):\n",
    "        r_x = self.__x * other.__x\n",
    "        r_y = self.__y * other.__y\n",
    "        l_coordinate= Coordinates(r_x,r_y)\n",
    "        return l_coordinate\n",
    "    def __eq__(self, other):\n",
    "        if self.__x == other.__x and self.__y == other.__y:\n",
    "            return \"The calculated coordinates are the same.\"\n",
    "        else:\n",
    "            return \"The calculated coordinates are NOT the same.\"\n",
    "    def detail(self):\n",
    "        return (self.__x,self.__y)\n",
    "p1 = Coordinates(int(input()),int(input()))\n",
    "p2 = Coordinates(int(input()),int(input()))\n",
    "p4 = p1 - p2\n",
    "print(p4.detail())\n",
    "p5 = p1 * p2\n",
    "print(p5.detail())\n",
    "point_check = (p4 == p5)\n",
    "print(point_check)"
   ]
  }
 ],
 "metadata": {
  "colab": {
   "collapsed_sections": [],
   "name": "Md Rahadul Islam Fardin_20101363_03_Assignment 5.ipynb",
   "provenance": []
  },
  "kernelspec": {
   "display_name": "Python 3 (ipykernel)",
   "language": "python",
   "name": "python3"
  },
  "language_info": {
   "codemirror_mode": {
    "name": "ipython",
    "version": 3
   },
   "file_extension": ".py",
   "mimetype": "text/x-python",
   "name": "python",
   "nbconvert_exporter": "python",
   "pygments_lexer": "ipython3",
   "version": "3.9.7"
  }
 },
 "nbformat": 4,
 "nbformat_minor": 1
}
