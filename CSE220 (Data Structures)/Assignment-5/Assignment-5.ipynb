{
  "cells": [
    {
      "cell_type": "markdown",
      "metadata": {
        "id": "eP6brTep0bMX"
      },
      "source": [
        "1"
      ]
    },
    {
      "cell_type": "code",
      "execution_count": null,
      "metadata": {
        "id": "VQyqA1Lx0cLn"
      },
      "outputs": [],
      "source": [
        "#a\n",
        "def factorial(n):\n",
        "    if n == 1:\n",
        "        return n\n",
        "    else:\n",
        "        result = factorial(n-1)\n",
        "        return result*n\n",
        "print(factorial(9))"
      ]
    },
    {
      "cell_type": "code",
      "execution_count": null,
      "metadata": {
        "id": "VzwtdNAC7z4w"
      },
      "outputs": [],
      "source": [
        "#b\n",
        "f=0\n",
        "s=1\n",
        "t=0\n",
        "def fib(n):\n",
        "    global f\n",
        "    global s\n",
        "    global t\n",
        "    print(f,end= \" \")\n",
        "    t=f+s\n",
        "    f=s\n",
        "    s=t\n",
        "    if(n!=0): \n",
        "        return fib(n-1)\n",
        "fib(5)"
      ]
    },
    {
      "cell_type": "code",
      "execution_count": null,
      "metadata": {
        "id": "jKJfUAYE70Aq"
      },
      "outputs": [],
      "source": [
        "#c\n",
        "def show_array(array):\n",
        "    if len(array) > 0:\n",
        "        print(array[0],end= \" \")\n",
        "        array.pop(0)\n",
        "        show_array(array)\n",
        "array = [1,2,3,4,5,6,7]\n",
        "show_array(array)"
      ]
    },
    {
      "cell_type": "code",
      "execution_count": null,
      "metadata": {
        "id": "u8j9rmlR70JW"
      },
      "outputs": [],
      "source": [
        "#d\n",
        "def powerN(base,n):\n",
        "    if n != 1:\n",
        "        result = powerN(base,n-1)\n",
        "        return result*base\n",
        "    else:\n",
        "        return base\n",
        "print(powerN(3,3))"
      ]
    },
    {
      "cell_type": "markdown",
      "metadata": {
        "id": "wQbkKMCt0dWH"
      },
      "source": [
        "2"
      ]
    },
    {
      "cell_type": "code",
      "execution_count": null,
      "metadata": {
        "id": "Av_KLfmt0d02"
      },
      "outputs": [],
      "source": [
        "#a\n",
        "result = \"\"\n",
        "def binary_converter(number):\n",
        "    global result\n",
        "    if number > 0:\n",
        "        result += str(number%2)\n",
        "        binary_converter(number//2)\n",
        "    return (result[::-1])\n",
        "print(binary_converter(121))"
      ]
    },
    {
      "cell_type": "code",
      "execution_count": null,
      "metadata": {
        "id": "AygPpF4Yhil1"
      },
      "outputs": [],
      "source": [
        "#b\n"
      ]
    },
    {
      "cell_type": "markdown",
      "metadata": {
        "id": "QIT28-V80gxn"
      },
      "source": [
        "3"
      ]
    },
    {
      "cell_type": "code",
      "execution_count": null,
      "metadata": {
        "id": "lr5znDaR0htn"
      },
      "outputs": [],
      "source": [
        "def hocBuilder(height):\n",
        "    if height == 0:\n",
        "        return\n",
        "    if height == 1:\n",
        "        return 8\n",
        "    else:\n",
        "        return 5 + hocBuilder(height-1)\n",
        "print(hocBuilder(5))"
      ]
    },
    {
      "cell_type": "markdown",
      "metadata": {
        "id": "2P4_uAgT0iOP"
      },
      "source": [
        "4"
      ]
    },
    {
      "cell_type": "code",
      "execution_count": null,
      "metadata": {
        "id": "EJCLeIkV0ie2"
      },
      "outputs": [],
      "source": [
        "#a\n",
        "def creator(limit,start=1):\n",
        "    if start != 0:\n",
        "        if start == limit:\n",
        "            print(start)\n",
        "            return 0\n",
        "        print(start,end=\" \")\n",
        "        start += 1\n",
        "        return creator(limit,start)\n",
        "\n",
        "def pattern(count=1,limit=5):\n",
        "    if count == limit:\n",
        "        creator(count)\n",
        "        return 0\n",
        "    creator(count)\n",
        "    count += 1\n",
        "    return pattern(count)\n",
        "pattern()"
      ]
    },
    {
      "cell_type": "code",
      "execution_count": null,
      "metadata": {
        "id": "qNlCTpU_BcRM"
      },
      "outputs": [],
      "source": [
        "#b\n",
        "def creator(limit,start=1):\n",
        "    if start != 0:\n",
        "        if start == limit:\n",
        "            print(start)\n",
        "            return 0\n",
        "        print(start,end=\" \")\n",
        "        start += 1\n",
        "        return creator(limit,start)\n",
        "\n",
        "def pattern(count=1,limit=5):\n",
        "    if count == limit:\n",
        "        print((limit-count)*\" \",end=\" \")\n",
        "        creator(count)\n",
        "        return 0\n",
        "    print((limit-count)*\"  \",end=\" \")\n",
        "    creator(count)\n",
        "    count += 1\n",
        "    return pattern(count)\n",
        "pattern()"
      ]
    },
    {
      "cell_type": "markdown",
      "metadata": {
        "id": "02bSGDSU0iy3"
      },
      "source": [
        "5"
      ]
    },
    {
      "cell_type": "code",
      "execution_count": null,
      "metadata": {
        "id": "HFhypMOk0kTG"
      },
      "outputs": [],
      "source": [
        "class FinalQ:\n",
        "    def print(self,array,idx):\n",
        "        if(idx<len(array)):\n",
        "            profit = self.calcProfit(array[idx])\n",
        "            print(f\"{idx+1}. Investment: {array[idx]}; Profit: {profit}\")\n",
        "        else:\n",
        "            return 0\n",
        "        return self.print(array,idx+1)\n",
        "    def calcProfit(self,investment):\n",
        "        if 100000<investment<200000:\n",
        "            investment -= 100000\n",
        "            temp = 100000/investment\n",
        "            return 3375.0+(8000+temp)\n",
        "        if investment <= 100000:\n",
        "            if investment == 100000:\n",
        "                return 3375.0\n",
        "            else:\n",
        "                return 0.0\n",
        "        else:\n",
        "            return 8000.0+self.calcProfit(investment-100000)\n",
        "#Tester\n",
        "array=[25000,100000,250000,350000]\n",
        "f = FinalQ()\n",
        "f.print(array,0)\n",
        "\n",
        "\n",
        "#Corrected:\n",
        "class FinalQ:\n",
        "    def print(self,array,idx):\n",
        "        if(idx<len(array)):\n",
        "            profit = self.calcProfit(array[idx])\n",
        "            print(f\"{idx+1}. Investment: {array[idx]}; Profit: {profit}\")\n",
        "        else:\n",
        "            return 0\n",
        "        return self.print(array,idx+1)\n",
        "    def calcProfit(self,investment):\n",
        "        if investment < 100000:\n",
        "            return 0.0\n",
        "        elif investment == 100000:\n",
        "            return ((investment-25000)/100)*4.5\n",
        "        elif investment>100000:\n",
        "            temp = investment-100000\n",
        "            return ((temp/100)*8)+((75000/100)*4.5)\n",
        "#Tester\n",
        "array=[25000,100000,250000,350000]\n",
        "f = FinalQ()\n",
        "f.print(array,0)"
      ]
    }
  ],
  "metadata": {
    "colab": {
      "collapsed_sections": [],
      "name": "CSE220 Assignment 5.ipynb",
      "provenance": []
    },
    "kernelspec": {
      "display_name": "Python 3",
      "name": "python3"
    },
    "language_info": {
      "name": "python"
    }
  },
  "nbformat": 4,
  "nbformat_minor": 0
}
