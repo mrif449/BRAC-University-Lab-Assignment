{
 "cells": [
  {
   "cell_type": "markdown",
   "metadata": {
    "id": "3N8ehLh1Ulqz"
   },
   "source": [
    "### Answer to the Question Number: 1"
   ]
  },
  {
   "cell_type": "code",
   "execution_count": null,
   "metadata": {
    "id": "gS2fh2nVUsCh"
   },
   "outputs": [],
   "source": [
    "number_1 = int(input(\"Enter the first number: \"))\n",
    "number_2 = int(input(\"Enter the second number: \"))\n",
    "def division(number_1,number_2):\n",
    "    if number_1==0 or number_2==0:\n",
    "        return 0\n",
    "    else:\n",
    "        result1 = number_1/number_2\n",
    "        result2 = number_1//number_2\n",
    "        final = result1-result2\n",
    "        return  final\n",
    "print(division(number_1,number_2))"
   ]
  },
  {
   "cell_type": "markdown",
   "metadata": {
    "id": "wQScsh1HUtBT"
   },
   "source": [
    "### Answer to the Question Number: 2"
   ]
  },
  {
   "cell_type": "code",
   "execution_count": null,
   "metadata": {
    "id": "xDHOOVIVUt0K"
   },
   "outputs": [],
   "source": [
    "height = int(input(\"Enter the height(in cm): \"))\n",
    "weight = int(input(\"Enter the weight(in kg): \"))\n",
    "def BMI(height,weight):\n",
    "    result = weight/((height/100)**2)\n",
    "    result2 = \"{:.1f}\".format(weight/((height/100)**2))\n",
    "    if (result) < 18.5:\n",
    "        print(\"Score is\",result2+\". You are Underweight\")\n",
    "    elif (result) >= 18.5 and (result) <= 24.9:\n",
    "        print(\"Score is\", result2+\". You are Normal\")\n",
    "    elif (result) >= 25 and (result) <= 30:\n",
    "        print(\"Score is\", result2+\". You are Overweight\")\n",
    "    elif (result) > 30:\n",
    "        print(\"Score is\", result2+\". You are Obese\")\n",
    "BMI(height,weight)"
   ]
  },
  {
   "cell_type": "markdown",
   "metadata": {
    "id": "rpTX5eqjUuLD"
   },
   "source": [
    "### Answer to the Question Number: 3"
   ]
  },
  {
   "cell_type": "code",
   "execution_count": null,
   "metadata": {
    "id": "lJYykU-KUu7K"
   },
   "outputs": [],
   "source": [
    "minimum = int(input(\"Enter the minimum number: \"))\n",
    "maximum = int(input(\"Enter the maximum number: \"))\n",
    "divisor = int(input(\"Enter the divisor: \"))\n",
    "def div_add(num1,num2,num3):\n",
    "    result = 0\n",
    "    for x in range(num1,num2):\n",
    "        if x%num3 == 0:\n",
    "            result += x\n",
    "    print(result)\n",
    "div_add(minimum,maximum,divisor)"
   ]
  },
  {
   "cell_type": "markdown",
   "metadata": {
    "id": "f9kadvtTUvXb"
   },
   "source": [
    "### Answer to the Question Number: 4"
   ]
  },
  {
   "cell_type": "code",
   "execution_count": null,
   "metadata": {
    "id": "qdiXRtg8Uwlb"
   },
   "outputs": [],
   "source": [
    "food = input(\"Enter the name of Burger: \")\n",
    "location = input(\"Enter the delivery loation(if not, enter 'None'): \")\n",
    "def total_price(item,location=\"Mohakhali\"):\n",
    "    amount = 0\n",
    "    if item.upper() == \"BBQ CHICKEN CHEESE BURGER\":\n",
    "        amount += 250\n",
    "    elif item.upper() == \"BEEF BURGER\":\n",
    "        amount += 170\n",
    "    elif item.upper() == \"NAGA DRUMS\":\n",
    "        amount += 200\n",
    "    result = amount + (amount/100*8)\n",
    "    if location == \"Mohakhali\":\n",
    "        result += 40\n",
    "    else:\n",
    "        result += 60\n",
    "    print(result)\n",
    "if location != \"None\":\n",
    "    total_price(food,location)\n",
    "else:\n",
    "    total_price(food)"
   ]
  },
  {
   "cell_type": "markdown",
   "metadata": {
    "id": "4Zu_S59SUw2_"
   },
   "source": [
    "### Answer to the Question Number: 5"
   ]
  },
  {
   "cell_type": "code",
   "execution_count": null,
   "metadata": {
    "id": "sUqaIM92UyJr"
   },
   "outputs": [],
   "source": [
    "email = input(\"Enter your email: \")\n",
    "if email.split(\"@\")[-1] == \"sheba.xyz\":\n",
    "    new_domain = input(\"Enter the new domain: \")\n",
    "else:\n",
    "    new_domain = input(\"Enter the new domain: \")\n",
    "    old_domain = input(\"Enter the old domain: \")\n",
    "def replace_domain(email,new_domain,old_domain=email.split(\"@\")[-1]):\n",
    "    email1 = email.split(\"@\")[-2]\n",
    "    domain_2 = email.split(\"@\")[-1]\n",
    "    new_email = email1+\"@\"+new_domain\n",
    "    if  old_domain!= new_domain:\n",
    "        print(\"Changed:\",new_email)\n",
    "    else:\n",
    "        print('Unchanged:',email)\n",
    "if email.split(\"@\")[-1] == \"sheba.xyz\":\n",
    "    replace_domain(email,new_domain)\n",
    "else:\n",
    "    replace_domain(email,new_domain,old_domain)"
   ]
  },
  {
   "cell_type": "markdown",
   "metadata": {
    "id": "EmkKSUblUykr"
   },
   "source": [
    "### Answer to the Question Number: 6"
   ]
  },
  {
   "cell_type": "code",
   "execution_count": null,
   "metadata": {
    "id": "xODKwBqBUzUL"
   },
   "outputs": [],
   "source": [
    "string = input(\"Enter a string: \")\n",
    "def vowel_detector(string):\n",
    "    vowel = \"\"\n",
    "    counter = 0\n",
    "    for x in string:\n",
    "        if x == 'a' or x == 'e' or x == 'i' or x == 'o' or x == 'u':\n",
    "            counter += 1\n",
    "            vowel += x + \",\"\n",
    "    if counter != 0:\n",
    "        print(\"Vowels:\"+vowel[0:len(vowel)-1]+\". Total number of vowels:\",counter)\n",
    "    else:\n",
    "        print(\"No vowels in the name\")\n",
    "vowel_detector(string)"
   ]
  },
  {
   "cell_type": "markdown",
   "metadata": {
    "id": "jgq6N3dUUz6z"
   },
   "source": [
    "### Answer to the Question Number: 7"
   ]
  },
  {
   "cell_type": "code",
   "execution_count": null,
   "metadata": {
    "id": "ChANAGs4U1gq"
   },
   "outputs": [],
   "source": [
    "string = input(\"Enter a string: \")\n",
    "def palindrome_test(string):\n",
    "    string = string.replace(\" \",\"\")\n",
    "    reverse = string[::-1]\n",
    "    if string == reverse:\n",
    "        print(\"Palindrome\")\n",
    "    else:\n",
    "        print(\"Not a palindrome\")\n",
    "palindrome_test(string)"
   ]
  },
  {
   "cell_type": "markdown",
   "metadata": {
    "id": "N3gOfOF1U1tz"
   },
   "source": [
    "### Answer to the Question Number: 8"
   ]
  },
  {
   "cell_type": "code",
   "execution_count": null,
   "metadata": {
    "id": "8C3DPJT1U2mr"
   },
   "outputs": [],
   "source": [
    "day1 = int(input(\"Enter the number of days: \"))\n",
    "def day_counter(days):\n",
    "    year = days//365\n",
    "    remain = days % 365\n",
    "    month = remain//30\n",
    "    remain = days % 365\n",
    "    day = remain % 30\n",
    "    print(year,\"years,\",month,\"months and\",day,\"days\")\n",
    "day_counter(day1)"
   ]
  },
  {
   "cell_type": "markdown",
   "metadata": {
    "id": "bOiq-oHlU3C7"
   },
   "source": [
    "### Answer to the Question Number: 9"
   ]
  },
  {
   "cell_type": "code",
   "execution_count": null,
   "metadata": {
    "id": "4oXGjKIxU4Er"
   },
   "outputs": [],
   "source": [
    "paragraph = input(\"Enter the paragragh: \")\n",
    "def punctuate(paragraph):\n",
    "    result = \"\"\n",
    "    for x in range(len(paragraph)):\n",
    "        if x == 0:\n",
    "            result += paragraph[x].upper()\n",
    "        elif paragraph[x-2] == \".\" or paragraph[x-2] == \"!\" or paragraph[x-2] == \"?\":\n",
    "            result += paragraph[x].upper()\n",
    "        elif paragraph[x] == \"i\" and paragraph[x-1] == \" \" and paragraph[x+1] == \" \":\n",
    "            result += paragraph[x].upper()\n",
    "        else:\n",
    "            result += paragraph[x]\n",
    "    return result\n",
    "print(punctuate(paragraph))"
   ]
  }
 ],
 "metadata": {
  "colab": {
   "collapsed_sections": [],
   "name": "Md. Rahadul Islam Fardin_20101363_03_Assignment 2.ipynb",
   "provenance": []
  },
  "kernelspec": {
   "display_name": "Python 3 (ipykernel)",
   "language": "python",
   "name": "python3"
  },
  "language_info": {
   "codemirror_mode": {
    "name": "ipython",
    "version": 3
   },
   "file_extension": ".py",
   "mimetype": "text/x-python",
   "name": "python",
   "nbconvert_exporter": "python",
   "pygments_lexer": "ipython3",
   "version": "3.9.7"
  }
 },
 "nbformat": 4,
 "nbformat_minor": 1
}
