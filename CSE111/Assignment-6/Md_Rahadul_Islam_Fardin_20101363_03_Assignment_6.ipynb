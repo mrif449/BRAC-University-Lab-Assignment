{
 "cells": [
  {
   "cell_type": "markdown",
   "metadata": {
    "id": "JXDkqlwBN-xn"
   },
   "source": [
    "### Answer to the Question Number: 1"
   ]
  },
  {
   "cell_type": "code",
   "execution_count": 10,
   "metadata": {
    "colab": {
     "base_uri": "https://localhost:8080/"
    },
    "id": "x6ZwMsHdOD--",
    "outputId": "b43f92bd-eeaf-49e6-f42b-5379120ca5cf"
   },
   "outputs": [
    {
     "name": "stdout",
     "output_type": "stream",
     "text": [
      "ID:  1\n",
      "Name:  Samin\n",
      "Department:  CSE\n",
      "Age:  21\n",
      "CGPA:  3.91\n",
      "-----------------------\n",
      "ID:  2\n",
      "Name:  Fahim\n",
      "Department:  ECE\n",
      "Age:  21\n",
      "CGPA:  3.85\n",
      "-----------------------\n",
      "ID:  3\n",
      "Name:  Tahura\n",
      "Department:  EEE\n",
      "Age:  22\n",
      "CGPA:  3.01\n",
      "-----------------------\n",
      "ID:  4\n",
      "Name:  Sumaiya\n",
      "Department:  BBA\n",
      "Age:  23\n",
      "CGPA:  3.96\n",
      "Class variable is shared to all the objects of the particular class, where the instance variable is no shared with full class and reserved for the specific object only.\n",
      "Class method is able to access only the class variables and methods, if it has a 'cls' argument, where the instance method can only access the instance properties of an object and if the variable name has 'self.' argument.\n"
     ]
    }
   ],
   "source": [
    "class Student:\n",
    "    id = 0\n",
    "    def __init__(self,name,dept,age,cg):\n",
    "        self.name = name\n",
    "        self.dept = dept\n",
    "        self.age = age\n",
    "        self.cg = cg\n",
    "        Student.id += 1\n",
    "\n",
    "    def get_details(self):\n",
    "        print(\"ID: \",Student.id)\n",
    "        print(\"Name: \",self.name)\n",
    "        print(\"Department: \",self.dept)\n",
    "        print(\"Age: \",self.age)\n",
    "        print(\"CGPA: \",self.cg)\n",
    "    @classmethod\n",
    "    def from_String(cls,details):\n",
    "        name, dept, age, cg = details.split(\"-\")\n",
    "        student = Student(name,dept,age,cg)\n",
    "        return student\n",
    "s1 = Student(\"Samin\", \"CSE\", 21, 3.91)\n",
    "s1.get_details()\n",
    "print(\"-----------------------\")\n",
    "s2 = Student(\"Fahim\", \"ECE\", 21, 3.85)\n",
    "s2.get_details()\n",
    "print(\"-----------------------\")\n",
    "s3 = Student(\"Tahura\", \"EEE\", 22, 3.01)\n",
    "s3.get_details()\n",
    "print(\"-----------------------\")\n",
    "s4 = Student.from_String(\"Sumaiya-BBA-23-3.96\")\n",
    "s4.get_details()\n",
    "\n",
    "#Answer to the Subtask No. 4\n",
    "print(\"Class variable is shared to all the objects of the particular class, where the instance variable is no shared with full class and reserved for the specific object only.\")\n",
    "#Answer to the Subtask No. 5\n",
    "print(\"Class method is able to access only the class variables and methods, if it has a 'cls' argument, where the instance method can only access the instance properties of an object and if the variable name has 'self.' argument.\")"
   ]
  },
  {
   "cell_type": "markdown",
   "metadata": {
    "id": "yil0j7w1OEh2"
   },
   "source": [
    "### Answer to the Question Number: 2"
   ]
  },
  {
   "cell_type": "code",
   "execution_count": 1,
   "metadata": {
    "colab": {
     "base_uri": "https://localhost:8080/"
    },
    "id": "oe6zthD0OFsd",
    "outputId": "5a5aaeab-6a70-4410-c451-cfe4bb38fd37"
   },
   "outputs": [
    {
     "name": "stdout",
     "output_type": "stream",
     "text": [
      "Name: John Wick\n",
      "Success rate: 100%\n",
      "Total number of Assassin: 1\n",
      "================================\n",
      "Name: Nagisa\n",
      "Success rate: 80%\n",
      "Total number of Assassin: 2\n",
      "================================\n",
      "Name: Akabane\n",
      "Success rate: 90%\n",
      "Total number of Assassin: 3\n"
     ]
    }
   ],
   "source": [
    "class Assassin:\n",
    "    total_num_of_assassin = 0\n",
    "    def __init__(self,name,rate):\n",
    "        self.name = name\n",
    "        self.rate = rate\n",
    "        Assassin.total_num_of_assassin += 1\n",
    "    def  printDetails(self):\n",
    "        print(\"Name:\",self.name)\n",
    "        print(f\"Success rate: {self.rate}%\")\n",
    "        print(\"Total number of Assassin:\",Assassin.total_num_of_assassin)\n",
    "    @classmethod\n",
    "    def failureRate(cls,name,f_rate):\n",
    "        assasssin = Assassin(name,(100-f_rate))\n",
    "        return assasssin\n",
    "    @classmethod\n",
    "    def failurePercentage(cls,name,f_rate):\n",
    "        assasssin = Assassin(name,(100-f_rate))\n",
    "        return assasssin\n",
    "john_wick = Assassin('John Wick', 100)\n",
    "john_wick.printDetails()\n",
    "print('================================')\n",
    "nagisa = Assassin.failureRate(\"Nagisa\", 20)\n",
    "nagisa.printDetails()\n",
    "print('================================')\n",
    "akabane = Assassin.failurePercentage('Akabane', 10)\n",
    "akabane.printDetails()"
   ]
  },
  {
   "cell_type": "markdown",
   "metadata": {
    "id": "GSFanS7QOGBm"
   },
   "source": [
    "### Answer to the Question Number: 3"
   ]
  },
  {
   "cell_type": "code",
   "execution_count": 2,
   "metadata": {
    "colab": {
     "base_uri": "https://localhost:8080/"
    },
    "id": "fIpo-nFKOGxu",
    "outputId": "4810d680-4898-4143-b097-8fc1e6b39b2f"
   },
   "outputs": [
    {
     "name": "stdout",
     "output_type": "stream",
     "text": [
      "Total Passenger: 0\n",
      "=========================\n",
      "Name: Jack\n",
      "Bus Fare: 550\n",
      "=========================\n",
      "Name: Carol\n",
      "Bus Fare: 450\n",
      "=========================\n",
      "Name: Mike\n",
      "Bus Fare: 500\n",
      "=========================\n",
      "Total Passenger: 3\n"
     ]
    }
   ],
   "source": [
    "class Passenger:\n",
    "    count = 0\n",
    "    def __init__(self,name):\n",
    "        self.name = name\n",
    "        self.fare = 450\n",
    "        Passenger.count += 1\n",
    "\n",
    "    def set_bag_weight(self,num):\n",
    "        if num<21:\n",
    "            self.fare += 0\n",
    "        elif 20<num<=50:\n",
    "            self.fare += 50\n",
    "        else:\n",
    "            self.fare += 100\n",
    "    def printDetail(self):\n",
    "        print(\"Name:\",self.name)\n",
    "        print(\"Bus Fare:\",self.fare)\n",
    "print(\"Total Passenger:\", Passenger.count)\n",
    "p1 = Passenger(\"Jack\")\n",
    "p1.set_bag_weight(90)\n",
    "p2 = Passenger(\"Carol\")\n",
    "p2.set_bag_weight(10)\n",
    "p3 = Passenger(\"Mike\")\n",
    "p3.set_bag_weight(25)\n",
    "print(\"=========================\")\n",
    "p1.printDetail()\n",
    "print(\"=========================\")\n",
    "p2.printDetail()\n",
    "print(\"=========================\")\n",
    "p3.printDetail()\n",
    "print(\"=========================\")\n",
    "print(\"Total Passenger:\", Passenger.count)"
   ]
  },
  {
   "cell_type": "markdown",
   "metadata": {
    "id": "06tRekCoOHLG"
   },
   "source": [
    "### Answer to the Question Number: 4"
   ]
  },
  {
   "cell_type": "code",
   "execution_count": 3,
   "metadata": {
    "colab": {
     "base_uri": "https://localhost:8080/"
    },
    "id": "aMNR615MOHzt",
    "outputId": "16eb8c54-288a-4c72-b2cb-b183acbaf1ce"
   },
   "outputs": [
    {
     "name": "stdout",
     "output_type": "stream",
     "text": [
      "No. of Traveller = 0\n",
      "=======================\n",
      "Source: Dhaka\n",
      "Destination:India\n",
      "Flight Time:1:00\n",
      "=======================\n",
      "Source: Kuala Lampur\n",
      "Destination:Dhaka\n",
      "Flight Time:23:00\n",
      "=======================\n",
      "Source: Dhaka\n",
      "Destination:Germany\n",
      "Flight Time:15:00\n",
      "=======================\n",
      "Source: Malaysia\n",
      "Destination:Canada\n",
      "Flight Time:9:00\n",
      "=======================\n",
      "No. of Traveller = 4\n"
     ]
    }
   ],
   "source": [
    "class Travel:\n",
    "    count = 0\n",
    "    def __init__(self,from1,to):\n",
    "        self.from1 = from1\n",
    "        self.to = to\n",
    "        Travel.count += 1\n",
    "        self.time = \"1:00\"\n",
    "    def set_time(self,time):\n",
    "        self.time = f\"{time}:00\"\n",
    "    def set_source(self,source):\n",
    "        self.from1 = source\n",
    "    def set_destination(self,destination):\n",
    "        self.to = destination\n",
    "    def display_travel_info(self):\n",
    "        print(\"Source:\",self.from1)\n",
    "        print(\"Destination:\"+self.to)\n",
    "        return f\"Flight Time:{self.time}\"\n",
    "print(\"No. of Traveller =\", Travel.count)\n",
    "print(\"=======================\")\n",
    "t1 = Travel(\"Dhaka\",\"India\")\n",
    "print(t1.display_travel_info())\n",
    "print(\"=======================\")\n",
    "t2 = Travel(\"Kuala Lampur\",\"Dhaka\")\n",
    "t2.set_time(23)\n",
    "print(t2.display_travel_info())\n",
    "print(\"=======================\")\n",
    "t3 = Travel(\"Dhaka\",\"New_Zealand\")\n",
    "t3.set_time(15)\n",
    "t3.set_destination(\"Germany\")\n",
    "print(t3.display_travel_info())\n",
    "print(\"=======================\")\n",
    "t4 = Travel(\"Dhaka\",\"India\")\n",
    "t4.set_time(9)\n",
    "t4.set_source(\"Malaysia\")\n",
    "t4.set_destination(\"Canada\")\n",
    "print(t4.display_travel_info())\n",
    "print(\"=======================\")\n",
    "print(\"No. of Traveller =\", Travel.count)"
   ]
  },
  {
   "cell_type": "markdown",
   "metadata": {
    "id": "fz5-xFGjOJn2"
   },
   "source": [
    "### Answer to the Question Number: 5"
   ]
  },
  {
   "cell_type": "code",
   "execution_count": 4,
   "metadata": {
    "colab": {
     "base_uri": "https://localhost:8080/"
    },
    "id": "UCIcNGlHOKIe",
    "outputId": "d3d03394-188d-49c1-92e3-8d8fbebd5135"
   },
   "outputs": [
    {
     "name": "stdout",
     "output_type": "stream",
     "text": [
      "3\n",
      "5\n",
      "Dororo\n",
      "Harry\n",
      "He is not experienced\n"
     ]
    }
   ],
   "source": [
    "class Employee:\n",
    "    def __init__(self,name,duration):\n",
    "        self.name = name\n",
    "        self.workingPeriod = duration\n",
    "    @classmethod\n",
    "    def employeeByJoiningYear(cls,name,year):\n",
    "        employee = Employee(name,(2021-year))\n",
    "        return employee\n",
    "    @classmethod\n",
    "    def experienceCheck(cls,year1,gender):\n",
    "        if gender == \"male\":\n",
    "            if year1<3:\n",
    "                return f\"He is not experienced\"\n",
    "            else:\n",
    "                return f\"He is experienced\"\n",
    "        if gender == \"female\":\n",
    "            if year1<3:\n",
    "                return f\"She is not experienced\"\n",
    "            else:\n",
    "                return f\"She is experienced\"\n",
    "employee1 = Employee('Dororo', 3)\n",
    "employee2 = Employee.employeeByJoiningYear('Harry', 2016)\n",
    "print(employee1.workingPeriod)\n",
    "print(employee2.workingPeriod)\n",
    "print(employee1.name)\n",
    "print(employee2.name)\n",
    "print(Employee.experienceCheck(2, \"male\"))"
   ]
  },
  {
   "cell_type": "markdown",
   "metadata": {
    "id": "_MIL6_lfOKhm"
   },
   "source": [
    "### Answer to the Question Number: 6"
   ]
  },
  {
   "cell_type": "code",
   "execution_count": 5,
   "metadata": {
    "colab": {
     "base_uri": "https://localhost:8080/"
    },
    "id": "HQXnJEoNOK7-",
    "outputId": "232c40ae-ff86-4ee7-d8b5-fc1fc982a3a1"
   },
   "outputs": [
    {
     "name": "stdout",
     "output_type": "stream",
     "text": [
      "Lenovo 5\n",
      "Dell 7\n",
      "Total number of Laptops 12\n",
      "Laptops are portable\n",
      "Total number of Laptops 0\n"
     ]
    }
   ],
   "source": [
    "class Laptop:\n",
    "    laptopCount = 0\n",
    "    def __init__(self,brand,count):\n",
    "        self.name = brand\n",
    "        self.count = count\n",
    "        Laptop.laptopCount += self.count\n",
    "    @classmethod\n",
    "    def advantage(cls):\n",
    "        print(\"Laptops are portable\")\n",
    "    @classmethod\n",
    "    def resetCount(cls):\n",
    "        Laptop.laptopCount = 0\n",
    "lenovo = Laptop(\"Lenovo\", 5);\n",
    "dell = Laptop(\"Dell\", 7);\n",
    "print(lenovo.name, lenovo.count)\n",
    "print(dell.name, dell.count)\n",
    "print(\"Total number of Laptops\", Laptop.laptopCount)\n",
    "Laptop.advantage()\n",
    "Laptop.resetCount()\n",
    "print(\"Total number of Laptops\", Laptop.laptopCount)"
   ]
  },
  {
   "cell_type": "markdown",
   "metadata": {
    "id": "mRIOTmnIOLYu"
   },
   "source": [
    "### Answer to the Question Number: 7"
   ]
  },
  {
   "cell_type": "code",
   "execution_count": 6,
   "metadata": {
    "colab": {
     "base_uri": "https://localhost:8080/"
    },
    "id": "pjYaJbMKOMH-",
    "outputId": "89f04bc0-732f-4009-f975-b7bbe5e76e8e"
   },
   "outputs": [
    {
     "name": "stdout",
     "output_type": "stream",
     "text": [
      "Total number of cats: 0\n",
      "=======================\n",
      "White cat is sitting\n",
      "Black cat is sitting\n",
      "Brown cat is jumping\n",
      "Red cat is purring\n",
      "Grey cat is playing\n",
      "Blue cat is sitting\n",
      "Purple cat is jumping\n",
      "=======================\n",
      "Total number of cats: 5\n"
     ]
    }
   ],
   "source": [
    "class Cat:\n",
    "    Number_of_cats = 0\n",
    "    def __init__(self,color,action):\n",
    "        self.color = color\n",
    "        self.action = action\n",
    "        Cat.Number_of_cats += 1\n",
    "    def changeColor(self,color):\n",
    "        self.color = color\n",
    "    @classmethod\n",
    "    def no_parameter(cls):\n",
    "        cat = Cat(\"White\",\"sitting\")\n",
    "        return cat\n",
    "    @classmethod\n",
    "    def first_parameter(cls,color):\n",
    "        cat = Cat(color,\"sitting\")\n",
    "        return cat\n",
    "    @classmethod\n",
    "    def second_parameter(cls,action):\n",
    "        cat = Cat(\"Grey\",action)\n",
    "        return cat\n",
    "    def printCat(self):\n",
    "        print(self.color,\"cat is\",self.action)\n",
    "print(\"Total number of cats:\", Cat.Number_of_cats)\n",
    "c1 = Cat.no_parameter()\n",
    "c2 = Cat.first_parameter(\"Black\")\n",
    "c3 = Cat(\"Brown\", \"jumping\")\n",
    "c4 = Cat(\"Red\", \"purring\")\n",
    "c5 = Cat.second_parameter(\"playing\")\n",
    "print(\"=======================\")\n",
    "c1.printCat()\n",
    "c2.printCat()\n",
    "c3.printCat()\n",
    "c4.printCat()\n",
    "c5.printCat()\n",
    "c1.changeColor(\"Blue\")\n",
    "c3.changeColor(\"Purple\")\n",
    "c1.printCat()\n",
    "c3.printCat()\n",
    "print(\"=======================\")\n",
    "print(\"Total number of cats:\", Cat.Number_of_cats)"
   ]
  },
  {
   "cell_type": "markdown",
   "metadata": {
    "id": "xXHPk_ePOZue"
   },
   "source": [
    "### Answer to the Question Number: 8"
   ]
  },
  {
   "cell_type": "code",
   "execution_count": 7,
   "metadata": {
    "colab": {
     "base_uri": "https://localhost:8080/"
    },
    "id": "PKe5xZNiOa6e",
    "outputId": "31948eb2-c698-4c20-af3b-947579be0d03"
   },
   "outputs": [
    {
     "name": "stdout",
     "output_type": "stream",
     "text": [
      "Default radius=5 and height=18.\n",
      "Updated: radius=0 and height=0.\n",
      "Area: 0.0\n",
      "Volume: 0.0\n",
      "===============================\n",
      "Default radius=0 and height=0.\n",
      "Updated: radius=3 and height=8.\n",
      "Area: 207.34511513692635\n",
      "Volume: 226.1946710584651\n",
      "===============================\n",
      "Default radius=3 and height=8.\n",
      "Updated: radius=7 and height=13.\n",
      "Area: 879.645943005142\n",
      "Volume: 2001.1945203366981\n",
      "===============================\n",
      "Default radius=7 and height=13.\n",
      "Updated: radius=0.3 and height=5.56.\n",
      "Area: 11.045839770021713\n",
      "===============================\n",
      "Default radius=0.3 and height=5.56.\n",
      "Updated: radius=3 and height=5.\n",
      "Volume: 141.3716694115407\n"
     ]
    }
   ],
   "source": [
    "import math\n",
    "class Cylinder:\n",
    "    radius = 5\n",
    "    height = 18\n",
    "    def __init__(self,radius,height):\n",
    "        self.radius = radius\n",
    "        self.height = height\n",
    "        print(f\"Default radius={Cylinder.radius} and height={Cylinder.height}.\")\n",
    "        print(f\"Updated: radius={self.radius} and height={self.height}.\")\n",
    "        Cylinder.radius = self.radius\n",
    "        Cylinder.height = self.height\n",
    "    @classmethod\n",
    "    def swap(cls,num1,num2):\n",
    "        new_m = Cylinder(num2,num1)\n",
    "        return new_m\n",
    "    @classmethod\n",
    "    def changeFormat(cls,string):\n",
    "        radius,height = string.split(\"-\")\n",
    "        new_m = Cylinder(int(radius),int(height))\n",
    "        return new_m\n",
    "    @staticmethod\n",
    "    def area(radius,height):\n",
    "        area = 2*math.pi*(radius*radius)+(2*math.pi*radius*height)\n",
    "        print(\"Area:\",area)\n",
    "    @staticmethod\n",
    "    def volume(radius,height):\n",
    "        volume = math.pi*(height*radius*radius)\n",
    "        print(\"Volume:\",volume)\n",
    "c1 = Cylinder(0,0)\n",
    "Cylinder.area(c1.radius,c1.height)\n",
    "Cylinder.volume(c1.radius,c1.height)\n",
    "print(\"===============================\")\n",
    "c2 = Cylinder.swap(8,3)\n",
    "c2.area(c2.radius,c2.height)\n",
    "c2.volume(c2.radius,c2.height)\n",
    "print(\"===============================\")\n",
    "c3 = Cylinder.changeFormat(\"7-13\")\n",
    "c3.area(c3.radius,c3.height)\n",
    "c3.volume(c3.radius,c3.height)\n",
    "print(\"===============================\")\n",
    "Cylinder(0.3,5.56).area(Cylinder.radius,Cylinder.height)\n",
    "print(\"===============================\")\n",
    "Cylinder(3,5).volume(Cylinder.radius,Cylinder.height)"
   ]
  },
  {
   "cell_type": "markdown",
   "metadata": {
    "id": "PvPKTwfQOb-2"
   },
   "source": [
    "### Answer to the Question Number: 9"
   ]
  },
  {
   "cell_type": "code",
   "execution_count": 11,
   "metadata": {
    "colab": {
     "base_uri": "https://localhost:8080/"
    },
    "id": "UVikDzooOczd",
    "outputId": "ba29c90a-6d0a-4faa-fdd8-0721f10597a4"
   },
   "outputs": [
    {
     "name": "stdout",
     "output_type": "stream",
     "text": [
      "Total Student(s): 0\n",
      "BRAC University Student(s): 0\n",
      "Other Institution Student(s): 0\n",
      "#########################\n",
      "Name: Mikasa Ackerman\n",
      "Department: CSE\n",
      "Institution: BRAC University\n",
      "------------------------------------------\n",
      "Total Student(s): 1\n",
      "BRAC University Student(s): 1\n",
      "Other Institution Student(s): 0\n",
      "========================\n",
      "Name: Harry Potter\n",
      "Department: Defence Against Dark Arts\n",
      "Institution: Hogwarts School\n",
      "-------------------------------------------\n",
      "Total Student(s): 2\n",
      "BRAC University Student(s): 1\n",
      "Other Institution Student(s): 1\n",
      "=========================\n",
      "Name: Levi Ackerman\n",
      "Department: CSE\n",
      "Institution: BRAC University\n",
      "--------------------------------------------\n",
      "Total Student(s): 3\n",
      "BRAC University Student(s): 2\n",
      "Other Institution Student(s): 1\n"
     ]
    }
   ],
   "source": [
    "class Student:\n",
    "    total_students = 0\n",
    "    bracu_students = 0\n",
    "    other_students = 0\n",
    "    def __init__(self,name,dept,uni=\"BRAC University\"):\n",
    "        self.name = name\n",
    "        self.dept = dept\n",
    "        self.uni = uni\n",
    "        Student.total_students += 1\n",
    "        if self.uni == \"BRAC University\":\n",
    "            Student.bracu_students += 1\n",
    "        else:\n",
    "            Student.other_students += 1\n",
    "    @classmethod\n",
    "    def printDetails(cls):\n",
    "        print(\"Total Student(s):\",Student.total_students)\n",
    "        print(\"BRAC University Student(s):\",Student.bracu_students)\n",
    "        print(\"Other Institution Student(s):\",Student.other_students)\n",
    "    def individualDetail(self):\n",
    "        print(\"Name:\",self.name)\n",
    "        print(\"Department:\",self.dept)\n",
    "        print(\"Institution:\",self.uni)\n",
    "    @classmethod\n",
    "    def createStudent(cls,name,dept,uni=\"BRAC University\"):\n",
    "        student = Student(name,dept,uni)\n",
    "        return student\n",
    "Student.printDetails()\n",
    "print('#########################')\n",
    "mikasa = Student('Mikasa Ackerman', \"CSE\")\n",
    "mikasa.individualDetail()\n",
    "print('------------------------------------------')\n",
    "Student.printDetails()\n",
    "print('========================')\n",
    "harry = Student.createStudent('Harry Potter', \"Defence Against Dark Arts\", \"Hogwarts School\")\n",
    "harry.individualDetail()\n",
    "print('-------------------------------------------')\n",
    "Student.printDetails()\n",
    "print('=========================')\n",
    "levi = Student.createStudent(\"Levi Ackerman\", \"CSE\")\n",
    "levi.individualDetail()\n",
    "print('--------------------------------------------')\n",
    "Student.printDetails()"
   ]
  },
  {
   "cell_type": "markdown",
   "metadata": {
    "id": "CCJXbmP9OdHO"
   },
   "source": [
    "### Answer to the Question Number: 10"
   ]
  },
  {
   "cell_type": "code",
   "execution_count": 12,
   "metadata": {
    "colab": {
     "base_uri": "https://localhost:8080/"
    },
    "id": "acUCKNYwOeG-",
    "outputId": "19db415e-c908-4dab-e41f-d6bf4a94623f"
   },
   "outputs": [
    {
     "name": "stdout",
     "output_type": "stream",
     "text": [
      "Total Number of branch(s): 0\n",
      "Total Sell: 0 Taka\n",
      "########################\n",
      "Branch Name: Dhanmondi\n",
      "Branch Sell: 10000 Taka\n",
      "-----------------------------------------\n",
      "Total Number of branch(s): 1\n",
      "Total Sell: 10000 Taka\n",
      "Branch name Dhanmondi, Brach sell: 10000 Taka\n",
      "Branch consists of total sell's: 100.00%\n",
      "========================\n",
      "Branch Name: Baily Road\n",
      "Branch Sell: 5250 Taka\n",
      "-----------------------------------------\n",
      "Total Number of branch(s): 2\n",
      "Total Sell: 15250 Taka\n",
      "Branch name Dhanmondi, Brach sell: 10000 Taka\n",
      "Branch consists of total sell's: 65.57%\n",
      "Branch name Baily Road, Brach sell: 5250 Taka\n",
      "Branch consists of total sell's: 34.43%\n",
      "========================\n",
      "Branch Name: Gulshan\n",
      "Branch Sell: 2700 Taka\n",
      "-----------------------------------------\n",
      "Total Number of branch(s): 3\n",
      "Total Sell: 17950 Taka\n",
      "Branch name Dhanmondi, Brach sell: 10000 Taka\n",
      "Branch consists of total sell's: 55.71%\n",
      "Branch name Baily Road, Brach sell: 5250 Taka\n",
      "Branch consists of total sell's: 29.25%\n",
      "Branch name Gulshan, Brach sell: 2700 Taka\n",
      "Branch consists of total sell's: 15.04%\n"
     ]
    }
   ],
   "source": [
    "class SultansDine:\n",
    "    brunch_number = 0\n",
    "    total_sell = 0\n",
    "    details1 = []\n",
    "    def __init__(self,place):\n",
    "        self.place = place\n",
    "        self.quantity = 0\n",
    "        self.b_sell = 0\n",
    "        self.b_percentage = 0\n",
    "        SultansDine.brunch_number += 1\n",
    "        SultansDine.details1.append(self)\n",
    "    def sellQuantity(self,quantity):\n",
    "        self.quantity = quantity\n",
    "        if self.quantity < 10:\n",
    "            self.b_sell = self.quantity*300\n",
    "            SultansDine.total_sell += self.b_sell\n",
    "        elif self.quantity < 20:\n",
    "            self.b_sell = self.quantity*350\n",
    "            SultansDine.total_sell += self.b_sell\n",
    "        else:\n",
    "            self.b_sell = self.quantity*400\n",
    "            SultansDine.total_sell += self.b_sell\n",
    "    @classmethod\n",
    "    def details(cls):\n",
    "        print(\"Total Number of branch(s):\", SultansDine.brunch_number)\n",
    "        print(\"Total Sell:\", SultansDine.total_sell, \"Taka\")\n",
    "        for x in SultansDine.details1:\n",
    "            x.b_percentage = (x.b_sell/SultansDine.total_sell)*100\n",
    "            if x.b_percentage - int(x.b_percentage) == 0:\n",
    "                x.b_percentage = \"%2.2f\" % x.b_percentage\n",
    "            else:\n",
    "                x.b_percentage = round(x.b_percentage,2)\n",
    "            print(\"Branch name\",x.place+\",\",\"Brach sell:\",x.b_sell,\"Taka\")\n",
    "            print(f\"Branch consists of total sell's: {x.b_percentage}%\")\n",
    "    def branchInformation(self):\n",
    "        print(\"Branch Name:\",self.place)\n",
    "        print(\"Branch Sell:\",self.b_sell,\"Taka\")\n",
    "SultansDine.details()\n",
    "print('########################')\n",
    "dhanmodi = SultansDine('Dhanmondi')\n",
    "dhanmodi.sellQuantity(25)\n",
    "dhanmodi.branchInformation()\n",
    "print('-----------------------------------------')\n",
    "SultansDine.details()\n",
    "print('========================')\n",
    "baily_road = SultansDine('Baily Road')\n",
    "baily_road.sellQuantity(15)\n",
    "baily_road.branchInformation()\n",
    "print('-----------------------------------------')\n",
    "SultansDine.details()\n",
    "print('========================')\n",
    "gulshan = SultansDine('Gulshan')\n",
    "gulshan.sellQuantity(9)\n",
    "gulshan.branchInformation()\n",
    "print('-----------------------------------------')\n",
    "SultansDine.details()"
   ]
  }
 ],
 "metadata": {
  "colab": {
   "collapsed_sections": [],
   "name": "Md Rahadul Islam Fardin_20101363_03_Assignment 6.ipynb",
   "provenance": []
  },
  "kernelspec": {
   "display_name": "Python 3 (ipykernel)",
   "language": "python",
   "name": "python3"
  },
  "language_info": {
   "codemirror_mode": {
    "name": "ipython",
    "version": 3
   },
   "file_extension": ".py",
   "mimetype": "text/x-python",
   "name": "python",
   "nbconvert_exporter": "python",
   "pygments_lexer": "ipython3",
   "version": "3.9.6"
  }
 },
 "nbformat": 4,
 "nbformat_minor": 1
}
