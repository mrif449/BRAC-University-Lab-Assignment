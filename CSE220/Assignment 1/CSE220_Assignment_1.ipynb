{
  "nbformat": 4,
  "nbformat_minor": 0,
  "metadata": {
    "colab": {
      "name": "CSE220 Assignment-1",
      "provenance": [],
      "collapsed_sections": []
    },
    "kernelspec": {
      "display_name": "Python 3",
      "name": "python3"
    }
  },
  "cells": [
    {
      "cell_type": "markdown",
      "metadata": {
        "id": "EXLp-YNzYfbh"
      },
      "source": [
        "## Linear Arrays"
      ]
    },
    {
      "cell_type": "markdown",
      "metadata": {
        "id": "eAHhUL5sYpwQ"
      },
      "source": [
        "### 1. Shift Left k Cells\n",
        "Consider an array named source. Write a method/function named shiftLeft( source, k) that shifts all the elements of the source array to the left by 'k' positions. You must execute the method by passing an array and number of cells to be shifted. After calling the method, print the array to show whether the elements have been shifted properly.\n",
        "Example:\n",
        "source=[10,20,30,40,50,60]\n",
        "shiftLeft(source,3)\n",
        "After calling shiftLeft(source,3), printing the array should give the output as: \n",
        " [ 40, 50, 60, 0, 0, 0 ]"
      ]
    },
    {
      "cell_type": "code",
      "metadata": {
        "id": "21qBPb19YukQ"
      },
      "source": [
        "def shiftLeft( source, k):\n",
        "    temp_list1 = []\n",
        "    lengh1 = 0\n",
        "    lengh2 = 0\n",
        "    for i in source:\n",
        "        lengh1 += 1\n",
        "    for x in range(k,lengh1):\n",
        "        temp_list1.append(source[k])\n",
        "        k += 1\n",
        "    for j in temp_list1:\n",
        "        lengh2 += 1\n",
        "    add = lengh1 - lengh2\n",
        "    while lengh2 <= lengh1:\n",
        "        temp_list1.append(0)\n",
        "        lengh2 += 1\n",
        "    print(temp_list1)\n",
        "source=[10,20,30,40,50,60]\n",
        "shiftLeft(source,3)"
      ],
      "execution_count": null,
      "outputs": []
    },
    {
      "cell_type": "markdown",
      "metadata": {
        "id": "DhhENlFrYvKg"
      },
      "source": [
        "### 2.\tRotate Left k cells\n",
        "Consider an array named source. Write a method/function named rotateLeft( source, k) that rotates all the elements of the source array to the left by 'k' positions. You must execute the method by passing an array and number of cells to be shifted. After calling the method, print the array to show whether the elements have been shifted properly.\n",
        "Example:\n",
        "source=[10,20,30,40,50,60]\n",
        "rotateLeft(source,3)\n",
        "After calling rotateLeft(source,3), printing the array should give the output as: \n",
        " [ 40, 50, 60, 10, 20, 30]"
      ]
    },
    {
      "cell_type": "code",
      "metadata": {
        "id": "C4PZ0QvnYxl4"
      },
      "source": [
        "def rotateLeft(source,k):\n",
        "    temp_list1 = []\n",
        "    length = 0\n",
        "    for i in source:\n",
        "        length += 1\n",
        "    for x in range(k,length):\n",
        "        temp_list1.append(source[k])\n",
        "        k += 1\n",
        "    for y in source:\n",
        "        if y not in temp_list1:\n",
        "            temp_list1.append(y)\n",
        "    print(temp_list1) \n",
        "source=[10,20,30,40,50,60]\n",
        "rotateLeft(source,3)"
      ],
      "execution_count": null,
      "outputs": []
    },
    {
      "cell_type": "markdown",
      "metadata": {
        "id": "YELBv07XYyDo"
      },
      "source": [
        "### 3.\tRemove an element from an array\n",
        " Consider an array named source. Write a method/function named remove( source, size, idx) that removes the element in index idx of the source array. You must execute the method by passing an array, its size and the idx( that is the index of the element to be removed). After calling the method, print the array to show whether the element of that particular index has been removed properly.\n",
        "Example:\n",
        "source=[10,20,30,40,50,0,0]\n",
        "remove(source,5,2)\n",
        "After calling remove(source,5,2) , printing the array should give the output as: \n",
        " [ 10,20,40,50,0,0,0]"
      ]
    },
    {
      "cell_type": "code",
      "metadata": {
        "id": "O6RrEr2PY0RI"
      },
      "source": [
        "def remove(source, size, idx):\n",
        "    temp_list = []\n",
        "    length = 0\n",
        "    for i in source:\n",
        "        length += 1\n",
        "    for x in source:\n",
        "        if x != source[idx]:\n",
        "            temp_list.append(x)\n",
        "    while len(temp_list)<length:\n",
        "        temp_list.append(0)\n",
        "    print(temp_list)\n",
        "\n",
        "source = [10,20,30,40,50,0,0]\n",
        "remove(source,5,2)"
      ],
      "execution_count": null,
      "outputs": []
    },
    {
      "cell_type": "markdown",
      "metadata": {
        "id": "pRnQSokoY1BZ"
      },
      "source": [
        "### 4.\tRemove all occurrences of a particular element from an array\n",
        "Consider an array named source. Write a method/function named removeAll( source, size, element) that removes all the occurrences of the given element in the source array. You must execute the method by passing an array, its size and the element to be removed. After calling the method, print the array to show whether all the occurrences of the element have been removed properly.\n",
        "Example:\n",
        "source=[10,2,30,2,50,2,2,0,0]\n",
        "removeAll(source,7,2)\n",
        "After calling removeAll(source,7,2), all the occurrences of 2 must be removed. Printing the array afterwards should give the output as: \n",
        " [ 10,30,50,0,0,0,0,0,0]"
      ]
    },
    {
      "cell_type": "code",
      "metadata": {
        "id": "KY5CKND7Y4ZY"
      },
      "source": [
        "def removeAll(source, size, element):\n",
        "    temp_list = []\n",
        "    length1 = 0\n",
        "    length2 = 0\n",
        "    for i in source:\n",
        "        length1 += 1\n",
        "    for x in source:\n",
        "        if x != element:\n",
        "            temp_list.append(x)\n",
        "    for j in temp_list:\n",
        "        length2 += 1\n",
        "    while length2 < length1:\n",
        "        temp_list.append(0)\n",
        "        length2 += 1\n",
        "    print(temp_list)\n",
        "source=[10,2,30,2,50,2,2,0,0]\n",
        "removeAll(source,7,2)"
      ],
      "execution_count": null,
      "outputs": []
    },
    {
      "cell_type": "markdown",
      "metadata": {
        "id": "J7P467gUY5Xh"
      },
      "source": [
        "### 5. Splitting an Array\n",
        "Suppose the elements of an array A containing positive integers, denote the weights in kilograms. And we have a beam balance. We want to put the weights on both pans of the balance in such a way that for some index 0 < i < A.length - 1, all values starting from A[0], A[1], upto A[ i - 1], should be on the left pan. And all values starting from A[ i ] upto A[ A.length - 1] should be on the right pan and the left and right pan should be balanced. If such an i exists, return true. Else, return false. \n",
        "Input: [1, 1, 1, 2, 1]\tOutput : true\n",
        "Explanation: (summation of [1, 1, 1] = summation of [2,1])\n",
        "Input: [2, 1, 1, 2, 1] Output: false\n",
        "Input: [10, 3, 1, 2, 10]  Output: true \n",
        "Explanation: (summation of [10, 3] = summation of [1,2,10]))"
      ]
    },
    {
      "cell_type": "code",
      "metadata": {
        "id": "D7pDLRUtY8vJ",
        "colab": {
          "base_uri": "https://localhost:8080/"
        },
        "outputId": "9bce4688-7e5e-4dc4-d223-7c15036ee7e7"
      },
      "source": [
        "def beam_balance(source):\n",
        "    length = 0\n",
        "    temp_1 = []\n",
        "    temp_2 = []\n",
        "    temp_3 = []\n",
        "    temp_4 = []\n",
        "    sum1 = 0\n",
        "    sum2 = 0\n",
        "    sum3 = 0\n",
        "    sum4 = 0\n",
        "    for i in source:\n",
        "        length += 1\n",
        "    reversed_list=[0]*length \n",
        "    i=0\n",
        "    j=len(reversed_list)-1 \n",
        "    while(i<len(source)):\n",
        "        reversed_list[j]=source[i] \n",
        "        i=i+1\n",
        "        j=j-1\n",
        "    print(reversed_list)\n",
        "    if length%2 == 0:\n",
        "        for x in range(int(length/2)):\n",
        "            temp_1.append(source[x])\n",
        "        for y in range(int(length/2)):\n",
        "            temp_2.append(reversed_list[y])\n",
        "        for a in temp_1:\n",
        "            sum1 += a\n",
        "        for b in temp_2:\n",
        "            sum2 += b\n",
        "        if sum1 == sum2:\n",
        "            print(\"true\")\n",
        "        else:\n",
        "            print(\"false\")\n",
        "    else:\n",
        "        for x in range(int((length/2)//1)+1):\n",
        "            temp_1.append(source[x])\n",
        "        for y in range(int((length/2)//1)):\n",
        "            temp_2.append(reversed_list[y])\n",
        "        for k in range(int((length/2)//1)):\n",
        "            temp_3.append(source[k])\n",
        "        for l in range(int((length/2)//1+1)):\n",
        "            temp_4.append(reversed_list[l])\n",
        "        for a in temp_1:\n",
        "            sum1 += a\n",
        "        for b in temp_2:\n",
        "            sum2 += b\n",
        "        for c in temp_3:\n",
        "            sum3 += c\n",
        "        for d in temp_4:\n",
        "            sum4 += d\n",
        "        print(temp_1)\n",
        "        print(temp_2)\n",
        "        print(temp_3)\n",
        "        print(temp_4)\n",
        "        if sum1 == sum2 or sum3 == sum4:\n",
        "            print(\"true\")\n",
        "        else:\n",
        "            print(\"false\")\n",
        "source = [10, 3, 1, 2, 10]\n",
        "beam_balance(source)"
      ],
      "execution_count": null,
      "outputs": [
        {
          "output_type": "stream",
          "name": "stdout",
          "text": [
            "false\n"
          ]
        }
      ]
    },
    {
      "cell_type": "markdown",
      "metadata": {
        "id": "vCyFOprFZhwZ"
      },
      "source": [
        "### 6. Array series\n",
        "Write a method that takes an integer value n as a parameter. Inside the method, you should create an array of length n squared (n*n) and fill the array with the following pattern. Return the array at the end and print it.\n",
        "If,\n",
        "n=2: { 0,1,   2,1 } (spaces have been added to show two distinct groups).\n",
        "n=3 : { 0, 0, 1,    0, 2, 1,    3, 2, 1 } ((spaces have been added to show three distinct \n",
        "groups).\n",
        "n=4 : {0, 0, 0, 1,   0, 0, 2, 1,    0, 3, 2, 1,   4, 3, 2, 1}  (spaces have been added to show four distinct groups)."
      ]
    },
    {
      "cell_type": "code",
      "metadata": {
        "id": "p5q3MFGqZlBf"
      },
      "source": [
        "def array_series(n):\n",
        "    count=1\n",
        "    s=1\n",
        "    l='{'\n",
        "    for i in range(1,n+1):\n",
        "        count=1\n",
        "        for j in range(1,n+1):\n",
        "            if(count<=n-i): l+='0'\n",
        "            else: l+=str(n-count+1)\n",
        "            count+=1\n",
        "            if(i==n and j!=n): l+=','\n",
        "            elif(i<n): l+=','\n",
        "        if(i<n): l+=' '\n",
        "        else: l+='}'\n",
        "    print(l)\n",
        "n = 4\n",
        "array_series(n)"
      ],
      "execution_count": null,
      "outputs": []
    },
    {
      "cell_type": "markdown",
      "metadata": {
        "id": "qse0EcUXZm1h"
      },
      "source": [
        "### 7. Max Bunch Count\n",
        "A \"bunch\" in an array is a consecutive chain of two or more adjacent elements of the same value. Write a method that returns the number of elements in the largest bunch found in the given array.\n",
        "Input: [1, 2, 2, 3, 4, 4, 4]   Output: 3\n",
        "Explanation: There are two bunches here {2,2} and {4,4,4}. The largest bunch is {4,4,4} containing 3 elements so 3 is returned.\n",
        "Input: [1,1,2, 2, 1, 1,1,1] Output:4\n",
        " Explanation: There are three bunches here {1,1} and {2,2} and {1,1,1,1}. The largest bunch is {1,1,1,1} containing 4 elements so 4 is returned."
      ]
    },
    {
      "cell_type": "code",
      "metadata": {
        "id": "BVgV43b8ZohH"
      },
      "source": [
        "def Max_Bunch_count(array):\n",
        "    count = 0\n",
        "    highest = 0\n",
        "    for x in range(len(array)):\n",
        "            if array[x] == array[x-1]:\n",
        "                count += 1\n",
        "                if count > highest:\n",
        "                    highest = count\n",
        "            else:\n",
        "                count = 0\n",
        "    print(highest+1)\n",
        "array = [1, 2, 2, 3, 4, 4, 4]\n",
        "Max_Bunch_count(array)"
      ],
      "execution_count": null,
      "outputs": []
    },
    {
      "cell_type": "markdown",
      "metadata": {
        "id": "i3Q7Nf1CZpKB"
      },
      "source": [
        "### 8.\tRepetition\n",
        "Write a method that takes in an array as a parameter and counts the repetition of each element. That is, if an element has appeared in the array more than once, then its ‘repetition’ is its number of occurrences. The method returns true if there are at least two elements with the same number of ‘repetition’. Otherwise, return false.\n",
        "Input: {4,5,6,6,4,3,6,4} Output: True\n",
        "Explanation: Two numbers repeat in this array: 4 and 6. 4 has a repetition of 3, 6 has a repetition of 3. Since two numbers have the same repetition output is True.\n",
        "Input: {3,4,6,3,4,7,4,6,8,6,6} Output: False\n",
        "Explanation: Three numbers repeat in this array:3,4 and 6 .3 has a repetition of 2, 4 has a repetition of 3, 6 has a repetition of 4. Since no two numbers have the same repetition output is False."
      ]
    },
    {
      "cell_type": "code",
      "metadata": {
        "id": "WT0435AFZq4n",
        "colab": {
          "base_uri": "https://localhost:8080/"
        },
        "outputId": "805fac00-153e-4218-94e1-e9e43eaeca0b"
      },
      "source": [
        "def Repetition(array):\n",
        "    counter = []\n",
        "    new_list = []\n",
        "    single_list = []\n",
        "    highest =0\n",
        "    while array:\n",
        "        min = array[0]  \n",
        "        for x in array: \n",
        "            if x < min:\n",
        "                min = x\n",
        "        new_list.append(min)\n",
        "        array.remove(min)\n",
        "    count = 0\n",
        "    for x in range(len(new_list)):\n",
        "        if x > 0 and new_list[x] != new_list[x-1]:\n",
        "            if count != 1:\n",
        "                counter.append(count)\n",
        "            count = 0\n",
        "        count+=1\n",
        "        if(x==len(new_list)-1):\n",
        "            if count != 1:\n",
        "                counter.append(count)\n",
        "    unique = []\n",
        "    for x in counter:\n",
        "        if x not in unique:\n",
        "            unique.append(x)\n",
        "    if unique != counter:\n",
        "        print(True)\n",
        "    else:\n",
        "        print(False) \n",
        "array = [4,5,6,6,4,3,6,4]\n",
        "Repetition(array)"
      ],
      "execution_count": null,
      "outputs": [
        {
          "output_type": "stream",
          "name": "stdout",
          "text": [
            "True\n"
          ]
        }
      ]
    },
    {
      "cell_type": "markdown",
      "metadata": {
        "id": "LvQfFvI1ZrbY"
      },
      "source": [
        "## Circular Array"
      ]
    },
    {
      "cell_type": "markdown",
      "metadata": {
        "id": "ILrs5pPRZudg"
      },
      "source": [
        "### 1.\t Palindrome\n",
        "Write a method/function that takes in a circular array, its size and start index and finds whether the elements in the array form a palindrome or not. Return true if the elements form a palindrome, otherwise, return false.\n",
        "Example:\n",
        "\n",
        "Input: [20,10,0,0,0,10,20,30] (start =5, size=5) Output: True.\n",
        "\n",
        "Input:[10,20,0,0,0,10,20,30] (start =5, size=5) Output: False"
      ]
    },
    {
      "cell_type": "code",
      "metadata": {
        "id": "drLk6dInZwAn"
      },
      "source": [
        "def Palindrome(array,start,size):\n",
        "    reversed_array = []\n",
        "    length = len(array)\n",
        "    temp_list1 = []\n",
        "    temp_list2 = []\n",
        "    counter = 0\n",
        "    counter2 = 0\n",
        "    index1 = start\n",
        "    index2 = start\n",
        "    while counter < size:\n",
        "        if array[index1] != 0:\n",
        "            temp_list1.append(array[index1])\n",
        "        index1 = (index1 + 1)% len(array)\n",
        "        counter += 1\n",
        "    for x in range(length):\n",
        "        reversed_array.append(array[length-1])\n",
        "        length -= 1\n",
        "    while counter2 < size:\n",
        "        if reversed_array[index2] != 0:\n",
        "            temp_list2.append(reversed_array[index2])\n",
        "            counter2 += 1\n",
        "        index2 = (index2 + 1)% len(reversed_array)\n",
        "    if temp_list1 == temp_list2:\n",
        "        print(True)\n",
        "    else:\n",
        "        print(False)\n",
        "array = [20,10,0,0,0,10,20,30]\n",
        "Palindrome(array,5,5)"
      ],
      "execution_count": null,
      "outputs": []
    },
    {
      "cell_type": "markdown",
      "metadata": {
        "id": "v9986nLVZxjY"
      },
      "source": [
        "### 2.\tIntersection\n",
        "Write a method/function that takes two circular arrays, their sizes and start indexes and returns a linear array containing the common elements between the two circular arrays.\n",
        "Input: \n",
        "Circular array 1 : [40,50,0,0,0,10,20,30] (start_1 =5, size_1 =5)\n",
        "[10 20 30 40 50]\n",
        "Circular array 2 : [10,20,5,0,0,0,0,0,5,40,15,25] (start_2=8, size_2 =7)\n",
        "[5 40 15 25 10 20 5]\n",
        "\n",
        "Output: [10,20,40]"
      ]
    },
    {
      "cell_type": "code",
      "metadata": {
        "id": "VvlavsgwZx7n"
      },
      "source": [
        "def\tIntersection(array1,start1,size1,array2,start2,size2):\n",
        "    temp_list1 = []\n",
        "    temp_list2 = []\n",
        "    final = []\n",
        "    counter = 0\n",
        "    counter2 = 0\n",
        "    index1 = start1\n",
        "    index2 = start2\n",
        "    while counter < size1:\n",
        "        if array1[index1] != 0:\n",
        "            temp_list1.append(array1[index1])\n",
        "        index1 = (index1 + 1)% len(array1)\n",
        "        counter += 1\n",
        "    while counter2 < size2:\n",
        "        if array2[index2] != 0:\n",
        "            temp_list2.append(array2[index2])\n",
        "            counter2 += 1\n",
        "        index2 = (index2 + 1)% len(array2)\n",
        "    for x in temp_list1:\n",
        "        for y in temp_list2:\n",
        "            if x==y:\n",
        "                final.append(x)\n",
        "    print(final)\n",
        "array1= [40,50,0,0,0,10,20,30]\n",
        "start1 = 5\n",
        "size1 = 5\n",
        "array2 = [10,20,5,0,0,0,0,0,5,40,15,25]\n",
        "start2 = 8\n",
        "size2 = 7\n",
        "Intersection(array1,start1,size1,array2,start2,size2)"
      ],
      "execution_count": null,
      "outputs": []
    },
    {
      "cell_type": "markdown",
      "metadata": {
        "id": "GmR1Ti2cZyVQ"
      },
      "source": [
        "3. Suppose you have been hired to develop a musical chair game. In this game there will be 7\n",
        "participants and all of them will be moving clockwise around a set of 7 chairs organized in\n",
        "a circular manner while a music will be played in the background. You will control the\n",
        "music using random numbers between 0-3.If the generated random number is 1, you will\n",
        "stop the music and if the number of participants who are still in the game is n, the\n",
        "participants at position (n/2) will be eliminated. Each time a participant is eliminated, a\n",
        "chair will be removed and you have to print the player names who are still in the game.\n",
        "The game will end when there will be only one participant left. At the end of the game,\n",
        "display the name of the winner.\n",
        "[Hint: You will need to invoke a method to generate a random number between 0\n",
        "(inclusive) to 3 (inclusive)]\n"
      ]
    },
    {
      "cell_type": "code",
      "metadata": {
        "id": "q_ivx6puZ3kI"
      },
      "source": [
        "import random\n",
        "\n",
        "def Musical_Chair(source):\n",
        "    index1 = random.randint(0,3)\n",
        "    index2 = random.randint(0,3)\n",
        "    index3 = random.randint(0,3)\n",
        "    index4 = random.randint(0,3)\n",
        "    index5 = random.randint(0,2)\n",
        "    index6 = random.randint(0,1)\n",
        "    \n",
        "    temp_list1 = []\n",
        "    temp_list2 = []\n",
        "    temp_list3 = []\n",
        "    temp_list4 = []\n",
        "    temp_list5 = []\n",
        "    temp_list6 = []\n",
        "\n",
        "    for a in source:\n",
        "        temp_list1.append(a)\n",
        "    count = 0\n",
        "    while count<len(source):\n",
        "        temp_list1[index1] = source[count]\n",
        "        count += 1\n",
        "        index1 = (index1+1)%len(source)\n",
        "    temp_list1.pop(3)\n",
        "    print(temp_list1)\n",
        "    \n",
        "    for b in temp_list1:\n",
        "        temp_list2.append(b)\n",
        "    count = 0\n",
        "    while count<len(temp_list1):\n",
        "        temp_list2[index2] = temp_list1[count]\n",
        "        count += 1\n",
        "        index2 = (index2+1)%len(temp_list1)\n",
        "    temp_list2.pop(2)\n",
        "    print(temp_list2)\n",
        "\n",
        "    for c in temp_list2:\n",
        "        temp_list3.append(c)\n",
        "    count = 0\n",
        "    while count<len(temp_list2):\n",
        "        temp_list3[index3] = temp_list2[count]\n",
        "        count += 1\n",
        "        index3 = (index3+1)%len(temp_list2)\n",
        "    temp_list3.pop(2)\n",
        "    print(temp_list3)\n",
        "\n",
        "    for d in temp_list3:\n",
        "        temp_list4.append(d)\n",
        "    count = 0\n",
        "    while count<len(temp_list3):\n",
        "        temp_list4[index4] = temp_list3[count]\n",
        "        count += 1\n",
        "        index4 = (index4+1)%len(temp_list3)\n",
        "    temp_list4.pop(1)\n",
        "    print(temp_list4)\n",
        "\n",
        "    for e in temp_list4:\n",
        "        temp_list5.append(e)\n",
        "    count = 0\n",
        "    while count<len(temp_list4):\n",
        "        temp_list5[index5] = temp_list4[count]\n",
        "        count += 1\n",
        "        index5 = (index5+1)%len(temp_list4)\n",
        "    temp_list5.pop(1)\n",
        "    print(temp_list5)\n",
        "\n",
        "    for f in temp_list5:\n",
        "        temp_list6.append(f)\n",
        "    count = 0\n",
        "    while count<len(temp_list5):\n",
        "        temp_list6[index6] = temp_list5[count]\n",
        "        count += 1\n",
        "        index6 = (index6+1)%len(temp_list5)\n",
        "    temp_list6.pop(0)\n",
        "    print(temp_list6)\n",
        " \n",
        "array = [\"Marin\", \"Lola\", \"Alex\", \"Yousuf\", \"Peter\", \"Jonny\", \"Hoque\"]\n",
        "Musical_Chair(array)"
      ],
      "execution_count": null,
      "outputs": []
    }
  ]
}