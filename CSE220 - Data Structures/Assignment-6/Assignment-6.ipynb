{
  "nbformat": 4,
  "nbformat_minor": 0,
  "metadata": {
    "colab": {
      "name": "CSE220 Assignment-6.ipynb",
      "provenance": [],
      "collapsed_sections": []
    },
    "kernelspec": {
      "name": "python3",
      "display_name": "Python 3"
    },
    "language_info": {
      "name": "python"
    }
  },
  "cells": [
    {
      "cell_type": "markdown",
      "metadata": {
        "id": "NuMMvjRJSNDD"
      },
      "source": [
        "1. Sort an array RECURSIVELY using selection sort algorithm"
      ]
    },
    {
      "cell_type": "code",
      "metadata": {
        "id": "fffXJoiwR5DP"
      },
      "source": [
        "def selection_sorting(array,length):\n",
        "    for x in range(0,length):\n",
        "        index = x\n",
        "        for y in range(x+1,length):\n",
        "            if array[index] > array[y]:\n",
        "                index = y\n",
        "        array[x],array[index] = array[index],array[x]\n",
        "    return array\n",
        "array = [2,4,5,3,7,1,6]\n",
        "length = len(array)\n",
        "print(selection_sorting(array,length))"
      ],
      "execution_count": null,
      "outputs": []
    },
    {
      "cell_type": "markdown",
      "metadata": {
        "id": "muAYx3NqSRR1"
      },
      "source": [
        "2.\tSort an array RECURSIVELY using insertion sort algorithm."
      ]
    },
    {
      "cell_type": "code",
      "metadata": {
        "id": "QKGnjzHCSTvk"
      },
      "source": [
        "def insertion_sort(array,length):\n",
        "    for x in range(0,length):\n",
        "        temp = array[x]\n",
        "        temp2 = x-1\n",
        "        while temp2 >= 0 and array[temp2] > temp:\n",
        "            array[temp2+1] = array[temp2]\n",
        "            temp2 -= 1\n",
        "        array[temp2+1] = temp\n",
        "    return array\n",
        "array = [2,4,5,3,7,1,6]\n",
        "length = len(array)\n",
        "print(insertion_sort(array,length))"
      ],
      "execution_count": null,
      "outputs": []
    },
    {
      "cell_type": "markdown",
      "metadata": {
        "id": "t6RgA2OESWgF"
      },
      "source": [
        "3.\tSort a singly linked sequential list using bubble sort algorithm."
      ]
    },
    {
      "cell_type": "code",
      "metadata": {
        "id": "LxNXs2URSbHE"
      },
      "source": [
        "def bubble_sort(array,length):\n",
        "    if length == 1:\n",
        "        return array\n",
        "    for x in range(0,len(array)-1):\n",
        "        temp = array[x]\n",
        "        temp2 = array[x+1]\n",
        "        if temp > temp2:\n",
        "            array[x] = temp2\n",
        "            array[x+1] = temp\n",
        "    return bubble_sort(array,length-1)\n",
        "array = [2,4,5,3,7,1,6]\n",
        "length = len(array)\n",
        "print(bubble_sort(array,length))"
      ],
      "execution_count": null,
      "outputs": []
    },
    {
      "cell_type": "markdown",
      "metadata": {
        "id": "uBwfJNmJSbl2"
      },
      "source": [
        "4.\tSort a singly linked sequential list using selection sort algorithm."
      ]
    },
    {
      "cell_type": "code",
      "metadata": {
        "id": "puGI7PFHSdf0"
      },
      "source": [
        "class Node:\n",
        "    def __init__(self,element):\n",
        "        self.element = element\n",
        "        self.next = None\n",
        "\n",
        "class LinkedList:\n",
        "    def __init__(self,a=None):\n",
        "        self.head = Node(-1)\n",
        "        self.size = 0\n",
        "        if a != None:\n",
        "            self.head.next = a.head.next\n",
        "            length = self.head.next\n",
        "\n",
        "            while length != None:\n",
        "                self.size += 1\n",
        "                length = length.next\n",
        "\n",
        "    def create_list(self,key):\n",
        "        a=self.head\n",
        "        for x in key:\n",
        "            self.size+=1\n",
        "            b=Node(x)\n",
        "            a.next=b\n",
        "            a=a.next\n",
        "            x+=1\n",
        "    def showList(self):\n",
        "        if self.size != 0:\n",
        "            length = self.head.next\n",
        "            while length != None:\n",
        "                print(length.element,end=\" \")\n",
        "                length = length.next\n",
        "            print()\n",
        "        else:\n",
        "            print(\"Empty\")\n",
        "\n",
        "    def selection_sort(self):\n",
        "        temp = self.head\n",
        "        while temp:\n",
        "            start = temp\n",
        "            temp2 = temp.next\n",
        "            while temp2:\n",
        "                if start.element > temp2.element:\n",
        "                    start = temp2\n",
        "                temp2 = temp2.next\n",
        "            temp3 = temp.element\n",
        "            temp.element = start.element\n",
        "            start.element = temp3\n",
        "            temp = temp.next\n",
        "    \n",
        "array = [2,4,5,3,7,1,6]\n",
        "list1 = LinkedList()\n",
        "list1.create_list(array)\n",
        "list1.selection_sort()\n",
        "list1.showList()"
      ],
      "execution_count": null,
      "outputs": []
    },
    {
      "cell_type": "markdown",
      "metadata": {
        "id": "jyH5ygErSfol"
      },
      "source": [
        "5.\tSort a DOUBLY linked sequential list using insertion sort algorithm."
      ]
    },
    {
      "cell_type": "code",
      "metadata": {
        "id": "ZGGmp0AoSgCD"
      },
      "source": [
        "class Node:\n",
        "    def __init__(self,element):\n",
        "        self.element = element\n",
        "        self.next = None\n",
        "        self.previous = None\n",
        "class DoublyLinkedList:\n",
        "    def __init__(self):\n",
        "        self.head = None\n",
        "        self.tail = None\n",
        "    def NewValue(self,value):\n",
        "        new = Node(value)\n",
        "        if self.head == None:\n",
        "            self.head = self.tail = new\n",
        "            self.head.previous = None\n",
        "            self.tail.next = None\n",
        "        else:\n",
        "            self.tail.next = new\n",
        "            new.previous = self.tail\n",
        "            self.tail = new\n",
        "            self.tail.next = None\n",
        "    def insetion_sort(self):\n",
        "        if self.head != None:\n",
        "            temp = self.head\n",
        "            while temp.next != None:\n",
        "                value = temp.next\n",
        "                while value != None:\n",
        "                    if temp.element > value.element:\n",
        "                        temp2 = temp.element\n",
        "                        temp.element = value.element\n",
        "                        value.element = temp2\n",
        "                    value = value.next\n",
        "                temp = temp.next\n",
        "        else:\n",
        "            return\n",
        "\n",
        "    def showList(self):\n",
        "        temp = self.head\n",
        "        if self.head == None:\n",
        "            print(\"Empty List\")\n",
        "            return\n",
        "        while temp != None:\n",
        "            print(temp.element,end=\" \")\n",
        "            temp = temp.next\n",
        "        print()\n",
        "\n",
        "\n",
        "list1 = DoublyLinkedList()\n",
        "list1.NewValue(3)\n",
        "list1.NewValue(1)\n",
        "list1.NewValue(7)\n",
        "list1.NewValue(2)\n",
        "list1.NewValue(5)\n",
        "list1.NewValue(6)\n",
        "list1.NewValue(4)\n",
        "list1.insetion_sort()\n",
        "list1.showList()"
      ],
      "execution_count": null,
      "outputs": []
    },
    {
      "cell_type": "markdown",
      "metadata": {
        "id": "_SEDwFy_SiNM"
      },
      "source": [
        "6.\tImplement binary search algorithm RECURSIVELY."
      ]
    },
    {
      "cell_type": "code",
      "metadata": {
        "id": "8xWIZ97nSisj"
      },
      "source": [
        "def binary_search(array,value,left,right):\n",
        "    m = (left+right)//2\n",
        "    if value == array[m]:\n",
        "        return m\n",
        "    elif value > array[m]:\n",
        "        return binary_search(array,value,m+1,left)\n",
        "    elif value < array[m]:\n",
        "        return binary_search(array,value,left,m-1)\n",
        "    else:\n",
        "        return \"Invalid Value\"\n",
        "array = [1,2,3,4,5,6,7]\n",
        "start = 0\n",
        "end = len(array)-1\n",
        "print(binary_search(array,7,start,end))"
      ],
      "execution_count": null,
      "outputs": []
    },
    {
      "cell_type": "markdown",
      "metadata": {
        "id": "53urwS64SjM8"
      },
      "source": [
        "7.\tImplement a recursive algorithm to find the n-th Fibonacci number using memoization."
      ]
    },
    {
      "cell_type": "code",
      "metadata": {
        "id": "nWr9w9XASlRk"
      },
      "source": [
        "def fibonacci(limit):\n",
        "    if limit == 1:\n",
        "        result = 1\n",
        "    elif limit == 2:\n",
        "        result = 1\n",
        "    elif limit > 2:\n",
        "        result = fibonacci(limit-1)+fibonacci(limit-2)\n",
        "    return result\n",
        "print(fibonacci(5))"
      ],
      "execution_count": null,
      "outputs": []
    }
  ]
}