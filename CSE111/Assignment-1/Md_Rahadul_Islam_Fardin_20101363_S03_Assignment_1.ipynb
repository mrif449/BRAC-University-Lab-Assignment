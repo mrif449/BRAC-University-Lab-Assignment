{
 "cells": [
  {
   "cell_type": "markdown",
   "id": "1b3925c3",
   "metadata": {
    "id": "1b3925c3"
   },
   "source": [
    "## String"
   ]
  },
  {
   "cell_type": "markdown",
   "id": "_YUwA21incyf",
   "metadata": {
    "id": "_YUwA21incyf"
   },
   "source": [
    "### Answer To the Question Number: 1\n"
   ]
  },
  {
   "cell_type": "code",
   "execution_count": 1,
   "id": "dc9ae3b7",
   "metadata": {
    "id": "dc9ae3b7"
   },
   "outputs": [
    {
     "name": "stdout",
     "output_type": "stream",
     "text": [
      "HOUSE\n",
      "apple\n",
      "banana\n"
     ]
    }
   ],
   "source": [
    "def case(string):\n",
    "    upper_counter = 0\n",
    "    lower_counter = 0\n",
    "    for x in string:\n",
    "        if \"A\"<=x<=\"Z\":\n",
    "            upper_counter += 1\n",
    "        elif \"a\"<=x<=\"z\":\n",
    "            lower_counter += 1\n",
    "    if upper_counter>lower_counter:\n",
    "        print(string.upper())\n",
    "    elif upper_counter<lower_counter:\n",
    "        print(string.lower())\n",
    "    else:\n",
    "        print(string.lower())\n",
    "case(\"HOusE\")\n",
    "case(\"ApplE\")\n",
    "case(\"BaNaNa\")"
   ]
  },
  {
   "cell_type": "markdown",
   "id": "E6jnxm6HRwp7",
   "metadata": {
    "id": "E6jnxm6HRwp7"
   },
   "source": [
    "### Answer to the Question Number: 2"
   ]
  },
  {
   "cell_type": "code",
   "execution_count": 2,
   "id": "7e5d8de3",
   "metadata": {
    "id": "7e5d8de3"
   },
   "outputs": [
    {
     "name": "stdout",
     "output_type": "stream",
     "text": [
      "NUMBER\n",
      "MIXED\n",
      "WORD\n"
     ]
    }
   ],
   "source": [
    "def type(data):\n",
    "    alphabet = data.isalpha()\n",
    "    number = data.isnumeric()\n",
    "    mixed = data.isalnum()\n",
    "    if alphabet==True:\n",
    "        print(\"WORD\")\n",
    "    elif number==True:\n",
    "        print(\"NUMBER\")\n",
    "    elif mixed == True:\n",
    "        print(\"MIXED\")\n",
    "type(\"213213\")\n",
    "type(\"jhg231j213\")\n",
    "type(\"Hello\")"
   ]
  },
  {
   "cell_type": "markdown",
   "id": "F3ON1Ta4R3Iz",
   "metadata": {
    "id": "F3ON1Ta4R3Iz"
   },
   "source": [
    "### Answer to the Question Number: 3"
   ]
  },
  {
   "cell_type": "code",
   "execution_count": 4,
   "id": "6gNS5kReR3iL",
   "metadata": {
    "id": "6gNS5kReR3iL"
   },
   "outputs": [
    {
     "name": "stdout",
     "output_type": "stream",
     "text": [
      "glad\n",
      "BLANK\n"
     ]
    }
   ],
   "source": [
    "def slicing(word):\n",
    "    list_0 = []\n",
    "    for x in range(len(word)):\n",
    "        if \"A\"<=word[x]<=\"Z\":\n",
    "            list_0.append(x)\n",
    "    output = word[list_0[0]+1:list_0[1]]\n",
    "    if output == \"\":\n",
    "        print(\"BLANK\")\n",
    "    else:\n",
    "        print(output)\n",
    "slicing(\"baNgladEsh\")\n",
    "slicing(\"coDIng\")"
   ]
  },
  {
   "cell_type": "markdown",
   "id": "Jh8r_vWiFqf-",
   "metadata": {
    "id": "Jh8r_vWiFqf-"
   },
   "source": [
    "### Answer To the Question Number: 4"
   ]
  },
  {
   "cell_type": "code",
   "execution_count": 5,
   "id": "7dc71a3c",
   "metadata": {
    "id": "7dc71a3c"
   },
   "outputs": [
    {
     "name": "stdout",
     "output_type": "stream",
     "text": [
      "The book is not excellent!\n",
      "The book is good too!\n"
     ]
    }
   ],
   "source": [
    "def replace(sentence):\n",
    "    if \"too good\" in sentence:\n",
    "        print(sentence.replace(\"too good\",\"excellent\"))\n",
    "    else:\n",
    "        print(sentence)\n",
    "replace(\"The book is not too good!\")\n",
    "replace(\"The book is good too!\")"
   ]
  },
  {
   "cell_type": "markdown",
   "id": "xEgDE1GQFk7u",
   "metadata": {
    "id": "xEgDE1GQFk7u"
   },
   "source": [
    "### Answer To the Question Number: 5"
   ]
  },
  {
   "cell_type": "code",
   "execution_count": 6,
   "id": "jUiP21IPFj9H",
   "metadata": {
    "id": "jUiP21IPFj9H"
   },
   "outputs": [
    {
     "name": "stdout",
     "output_type": "stream",
     "text": [
      "hrrhr\n",
      "Nothing in common.\n"
     ]
    }
   ],
   "source": [
    "def common(word1,word2):\n",
    "    result1 = \"\"\n",
    "    result2 = \"\"\n",
    "    for x in word1:\n",
    "        if x in word2:\n",
    "            result1 += x\n",
    "    for y in word2:\n",
    "        if y in word1:\n",
    "            result2+=y\n",
    "    result = result1+result2\n",
    "    if result == \"\":\n",
    "        print(\"Nothing in common.\")\n",
    "    else:\n",
    "        print(result)\n",
    "common(\"harry\",\"hermione\")\n",
    "common(\"dean\",\"tom\")"
   ]
  },
  {
   "cell_type": "markdown",
   "id": "VyJL3-w9UX2R",
   "metadata": {
    "id": "VyJL3-w9UX2R"
   },
   "source": [
    "### Answer To the Question Number: 6"
   ]
  },
  {
   "cell_type": "code",
   "execution_count": 9,
   "id": "JtZBmJ3qUWNS",
   "metadata": {
    "id": "JtZBmJ3qUWNS"
   },
   "outputs": [
    {
     "name": "stdout",
     "output_type": "stream",
     "text": [
      "Enter the password: OhMyBR@CU20\n",
      "OK\n"
     ]
    }
   ],
   "source": [
    "password = input(\"Enter the password: \")\n",
    "lower_case = 0\n",
    "upper_case = 0\n",
    "digit = 0\n",
    "special_character = 0\n",
    "missing1 = \"Uppercase character missing,\"\n",
    "missing2 = \"Lowercase character missing,\"\n",
    "missing3 = \"Digit missing,\"\n",
    "missing4 = \"Special character missing,\"\n",
    "list = [\"_\",\"$\",\"#\",\"@\"]\n",
    "for x in password:\n",
    "    if \"A\"<=x<=\"Z\":\n",
    "        upper_case += 1\n",
    "    if \"a\"<=x<=\"z\":\n",
    "        lower_case += 1\n",
    "    if ord(x)>=48 and ord(x)<=57:\n",
    "        digit += 1\n",
    "    for y in list:\n",
    "        if x==y:\n",
    "            special_character += 1\n",
    "result = \"\"\n",
    "if upper_case == 0 or lower_case == 0 or digit == 0 or special_character == 0:\n",
    "    if upper_case == 0:\n",
    "        result += missing1\n",
    "    if lower_case == 0:\n",
    "        result += missing2\n",
    "    if digit == 0:\n",
    "        result += missing3\n",
    "    if special_character == 0:\n",
    "        result += missing4\n",
    "else:\n",
    "    result = \"OK\"\n",
    "if len(result) != 2:\n",
    "    print(result[0:-1])\n",
    "else:\n",
    "    print(result)"
   ]
  },
  {
   "cell_type": "markdown",
   "id": "nAfNcIb46mcW",
   "metadata": {
    "id": "nAfNcIb46mcW"
   },
   "source": [
    "## List"
   ]
  },
  {
   "cell_type": "markdown",
   "id": "r9bLz_c36p6x",
   "metadata": {
    "id": "r9bLz_c36p6x"
   },
   "source": [
    "### Answer to the Question Number: 1"
   ]
  },
  {
   "cell_type": "code",
   "execution_count": 10,
   "id": "jnE6YZ096ybx",
   "metadata": {
    "id": "jnE6YZ096ybx"
   },
   "outputs": [
    {
     "name": "stdout",
     "output_type": "stream",
     "text": [
      "Enter a number: 10\n",
      "Enter a number: 20\n",
      "Enter a number: 20\n",
      "Enter a number: 30\n",
      "Enter a number: 10\n",
      "Enter a number: 50\n",
      "Enter a number: 90\n",
      "Enter a number: STOP\n",
      "10 - 2 times\n",
      "20 - 2 times\n",
      "30 - 1 times\n",
      "50 - 1 times\n",
      "90 - 1 times\n"
     ]
    }
   ],
   "source": [
    "list_0 = []\n",
    "list_1 = []\n",
    "while True:\n",
    "    number = input(\"Enter a number: \")\n",
    "    if number == \"STOP\":\n",
    "        break\n",
    "    else:\n",
    "        list_0.append(number)\n",
    "for y in list_0:\n",
    "    if y not in list_1:\n",
    "        list_1.append(y)\n",
    "for y in list_1:\n",
    "    print(y,\"-\",list_0.count(y),\"times\")"
   ]
  },
  {
   "cell_type": "markdown",
   "id": "SHSV41b265qC",
   "metadata": {
    "id": "SHSV41b265qC"
   },
   "source": [
    "### Answer to the Question Number: 2"
   ]
  },
  {
   "cell_type": "code",
   "execution_count": 11,
   "id": "ZBAc1NgR67Wh",
   "metadata": {
    "id": "ZBAc1NgR67Wh"
   },
   "outputs": [
    {
     "name": "stdout",
     "output_type": "stream",
     "text": [
      "Enter the number of lists: 4\n",
      "Enter a list: 1 2 3\n",
      "Enter a list: 4 5 6\n",
      "Enter a list: 10 11 12\n",
      "Enter a list: 7 8 9\n",
      "33\n",
      "[10, 11, 12]\n"
     ]
    }
   ],
   "source": [
    "limit = int(input(\"Enter the number of lists: \"))\n",
    "list_0 = []\n",
    "counter = 0\n",
    "for x in range(limit):\n",
    "    list = input(\"Enter a list: \").split()\n",
    "    itt = [int(y) for y in list]\n",
    "    list_0.append(itt)\n",
    "maximum = sum(list_0[0])\n",
    "for z in list_0:\n",
    "    if sum(z) > maximum:\n",
    "        maximum = sum(z)\n",
    "        max_list = z\n",
    "print(maximum)\n",
    "print(max_list)"
   ]
  },
  {
   "cell_type": "markdown",
   "id": "saEeKdLKNgky",
   "metadata": {
    "id": "saEeKdLKNgky"
   },
   "source": [
    "### Answer to the Question Number: 3"
   ]
  },
  {
   "cell_type": "code",
   "execution_count": 12,
   "id": "3qfL0ynZNe68",
   "metadata": {
    "id": "3qfL0ynZNe68"
   },
   "outputs": [
    {
     "name": "stdout",
     "output_type": "stream",
     "text": [
      "Enter a list: 2 3 6\n",
      "Enter a list: 3 4 5\n",
      "[6, 8, 10, 9, 12, 15, 18, 24, 30]\n"
     ]
    }
   ],
   "source": [
    "list_1 = []\n",
    "list_2 = []\n",
    "list_0 = []\n",
    "result = []\n",
    "for x in range(2):\n",
    "    list = input(\"Enter a list: \").split()\n",
    "    itt = [int(y) for y in list]\n",
    "    list_0.append(itt)\n",
    "list_1 = list_0[0]\n",
    "list_2 = list_0[1]\n",
    "for x in list_1:\n",
    "    for y in list_2:\n",
    "        multiple = x*y\n",
    "        result.append(multiple)\n",
    "print(result)"
   ]
  },
  {
   "cell_type": "markdown",
   "id": "YvBfis_Vv5Ra",
   "metadata": {
    "id": "YvBfis_Vv5Ra"
   },
   "source": [
    "### Ansewer to the Question Number: 4"
   ]
  },
  {
   "cell_type": "code",
   "execution_count": 13,
   "id": "3YNl4lLlv5bx",
   "metadata": {
    "id": "3YNl4lLlv5bx"
   },
   "outputs": [
    {
     "name": "stdout",
     "output_type": "stream",
     "text": [
      "Enter a list: 1 4 2 3\n",
      "Enter a list: 2 1 4 6 10\n",
      "Enter a list: 1 4 2 -1 6\n",
      "Enter a list: STOP\n",
      "UB Jumper\n",
      "UB Jumper\n",
      "Not UB Jumper\n"
     ]
    }
   ],
   "source": [
    "store_list = []\n",
    "intl = []\n",
    "list_0 = []\n",
    "while True:\n",
    "    list1 = input(\"Enter a list: \")\n",
    "    if list1 == \"STOP\":\n",
    "        break\n",
    "    else:\n",
    "        list_0.append(list1.split())\n",
    "\n",
    "for k in list_0:\n",
    "    for y in k:\n",
    "        intl.append(int(y))\n",
    "    for x in range(len(intl)):\n",
    "        if abs(intl[x]-(intl[x-1])) <= len(intl)-1 and abs(intl[x]-(intl[x-1])) not in store_list:\n",
    "            store_list.append(abs(intl[x]-(intl[x-1])))\n",
    "    if len(store_list)==len(k)-1:\n",
    "        print(\"UB Jumper\")\n",
    "    else:\n",
    "        print(\"Not UB Jumper\")"
   ]
  },
  {
   "cell_type": "markdown",
   "id": "Wfg12vaSv5mq",
   "metadata": {
    "id": "Wfg12vaSv5mq"
   },
   "source": [
    "### Answer to the Question Number: 5"
   ]
  },
  {
   "cell_type": "code",
   "execution_count": 14,
   "id": "RZvOa_jMv5v5",
   "metadata": {
    "id": "RZvOa_jMv5v5"
   },
   "outputs": [
    {
     "name": "stdout",
     "output_type": "stream",
     "text": [
      "Enter a string: Bracu1234\n",
      "racuB1324\n"
     ]
    }
   ],
   "source": [
    "inner = input(\"Enter a string: \")\n",
    "output = \"\"\n",
    "numbers = ['1','2','3','4','5','6','7','8','9','0']\n",
    "for z in inner:\n",
    "    if \"a\"<=z<=\"z\":\n",
    "        output += z\n",
    "for x in inner:\n",
    "    if \"A\"<=x<=\"Z\":\n",
    "        output += x\n",
    "for y in inner:\n",
    "    if y in numbers:\n",
    "        number = int(y)\n",
    "\n",
    "        if number%2 != 0:\n",
    "            output += str(number)\n",
    "for a in inner:\n",
    "    if a not in output:\n",
    "        output+= a\n",
    "print(output)"
   ]
  },
  {
   "cell_type": "markdown",
   "id": "jpVpBUlUwNMA",
   "metadata": {
    "id": "jpVpBUlUwNMA"
   },
   "source": [
    "### Answer to the Question Number: 6"
   ]
  },
  {
   "cell_type": "code",
   "execution_count": 18,
   "id": "YU4lTfWswNWn",
   "metadata": {
    "id": "YU4lTfWswNWn"
   },
   "outputs": [
    {
     "name": "stdout",
     "output_type": "stream",
     "text": [
      "Enter a list: 6 5\n",
      "Enter a list: 0 0 0 0 0 0\n",
      "2\n"
     ]
    }
   ],
   "source": [
    "list_0 = []\n",
    "eligible = 0\n",
    "for x in range(2):\n",
    "    list = input(\"Enter a list: \").split()\n",
    "    itt = [int(y) for y in list]\n",
    "    list_0.append(itt)\n",
    "for y in list_0[1]:\n",
    "    if list_0[0][1] + y <= 5:\n",
    "        eligible += 1\n",
    "team = eligible//3\n",
    "print(team)"
   ]
  },
  {
   "cell_type": "markdown",
   "id": "i-LoTU0JGOH9",
   "metadata": {
    "id": "i-LoTU0JGOH9"
   },
   "source": [
    "## Dictionary and Tuple"
   ]
  },
  {
   "cell_type": "markdown",
   "id": "uzQIqOCvi83L",
   "metadata": {
    "id": "uzQIqOCvi83L"
   },
   "source": [
    "### Answer to the Question Number: 1"
   ]
  },
  {
   "cell_type": "code",
   "execution_count": null,
   "id": "0a802341",
   "metadata": {},
   "outputs": [],
   "source": [
    "dictionary_1 = {}\n",
    "dict = input(\"Enter a dictionary: \")\n",
    "temp_list = dict.split(\", \")\n",
    "for x in temp_list:\n",
    "    key,value = x.split(\": \")\n",
    "    dictionary_1[key] = int(value)\n",
    "dictionary_2 = {}\n",
    "dict2 = input(\"Enter a dictionary: \")\n",
    "temp_list2 = dict2.split(\", \")\n",
    "for y in temp_list2:\n",
    "    key,value = y.split(\": \")\n",
    "    dictionary_2[key] = int(value)\n",
    "for key,value in dictionary_2.items():\n",
    "    if dictionary_1.get(key)==None:\n",
    "        dictionary_1[key] = value\n",
    "    else:\n",
    "        dictionary_1[key] += value\n",
    "print(dictionary_1)\n",
    "values = []\n",
    "for x in dictionary_1.items():\n",
    "    if dictionary_1.get(x) not in values:\n",
    "        values.append(dictionary_1.get(x))\n",
    "for key,value in dictionary_1.items():\n",
    "    if dictionary_1.get(key) not in values:\n",
    "        values.append(dictionary_1.get(key))\n",
    "values = list(dictionary_1.values())\n",
    "count = len(values)\n",
    "for x in range(count):\n",
    "    for y in range(0, count-x-1):\n",
    "\n",
    "        if values[y] > values[y+1]:\n",
    "            values[y], values[y+1] = values[y+1], values[y]\n",
    "values_final = []\n",
    "for f in values:\n",
    "    if f not in values_final:\n",
    "        values_final.append(f)\n",
    "print(values_final)"
   ]
  },
  {
   "cell_type": "markdown",
   "id": "M3RNbdU_AJqE",
   "metadata": {
    "id": "M3RNbdU_AJqE"
   },
   "source": [
    "### Answer to the Question Number: 2"
   ]
  },
  {
   "cell_type": "code",
   "execution_count": null,
   "id": "2e266d70",
   "metadata": {},
   "outputs": [],
   "source": [
    "dictionary = {}\n",
    "count = 1\n",
    "while True:\n",
    "    number = input(\"Enter a number: \")\n",
    "    if (number) != \"STOP\":\n",
    "       dictionary[count] = int(number)\n",
    "       count += 1\n",
    "    else:\n",
    "        break\n",
    "list_1 = []\n",
    "list_0 = list(dictionary.values())\n",
    "for x in list_0:\n",
    "    if x in list_1:\n",
    "        continue\n",
    "    else:\n",
    "        list_1.append(x)\n",
    "for y in list_1:\n",
    "    counter = 0\n",
    "    for a in list_0:\n",
    "        if y == a:\n",
    "            counter += 1\n",
    "        else:\n",
    "            continue\n",
    "    print(f\"{y} - {counter} times\")"
   ]
  },
  {
   "cell_type": "markdown",
   "id": "kdCoZx4MASJE",
   "metadata": {
    "id": "kdCoZx4MASJE"
   },
   "source": [
    "### Answer to the Question Number: 3"
   ]
  },
  {
   "cell_type": "code",
   "execution_count": null,
   "id": "xv4v06tCASPM",
   "metadata": {
    "id": "xv4v06tCASPM"
   },
   "outputs": [],
   "source": [
    "dictionary_1 = {}\n",
    "i_dict = input(\"Enter a dictionary: \")\n",
    "temp_list = i_dict.split(\", \")\n",
    "for x in temp_list:\n",
    "    key,value = x.split(\": \")\n",
    "    dictionary_1[key] = (value)\n",
    "dict = {}\n",
    "for k,v in dictionary_1.items():\n",
    "    if v not in dict:\n",
    "        dict[v]=dict.get(v, []) + [k]\n",
    "    else:\n",
    "        dict[v].append(k)\n",
    "print(dict)"
   ]
  },
  {
   "cell_type": "markdown",
   "id": "i0WZlUYiV9dC",
   "metadata": {
    "id": "i0WZlUYiV9dC"
   },
   "source": [
    "### Answer to the Question Number: 4"
   ]
  },
  {
   "cell_type": "code",
   "execution_count": null,
   "id": "HYUAThHdV9m4",
   "metadata": {
    "id": "HYUAThHdV9m4"
   },
   "outputs": [],
   "source": [
    "dictionary_1 = {}\n",
    "dictionary_2 = {}\n",
    "dic1 = {}\n",
    "dic2 = {}\n",
    "word_1 = input(\"Enter the first word: \")\n",
    "word_2 = input(\"Enter the second word: \")\n",
    "count = 1\n",
    "count2 = 1\n",
    "for x in word_1:\n",
    "    if x != \"\":\n",
    "        dictionary_1[count] = x\n",
    "        count += 1\n",
    "for y in word_2:\n",
    "    if y != \"\":\n",
    "        dictionary_2[count2] = y\n",
    "        count2 += 1\n",
    "root_list = list(dictionary_1.values())\n",
    "sep_list = []\n",
    "for x in root_list:\n",
    "    if x not in sep_list:\n",
    "        sep_list.append(x)\n",
    "    else:\n",
    "        continue\n",
    "for y in sep_list:\n",
    "    counter1 = 0\n",
    "    for a in root_list:\n",
    "        if a==y:\n",
    "            counter1 += 1\n",
    "        else:\n",
    "            continue\n",
    "    dic1[y] = counter1\n",
    "root_list2 = list(dictionary_2.values())\n",
    "sep_list2 = []\n",
    "for i in root_list2:\n",
    "    if i not in sep_list2:\n",
    "        sep_list2.append(i)\n",
    "    else:\n",
    "        continue\n",
    "for j in sep_list2:\n",
    "    counter2 = 0\n",
    "    for k in root_list2:\n",
    "        if j==k:\n",
    "            counter2 += 1\n",
    "        else:\n",
    "            continue\n",
    "    dic2[j] = counter2\n",
    "if dic1 == dic2:\n",
    "    print(\"Those strings are anagrams.\")\n",
    "else:\n",
    "    print(\"Those strings are not anagrams.\")"
   ]
  },
  {
   "cell_type": "markdown",
   "id": "5YUEwRX5zuVS",
   "metadata": {
    "id": "5YUEwRX5zuVS"
   },
   "source": [
    "### Answer to the Question Number: 5"
   ]
  },
  {
   "cell_type": "code",
   "execution_count": null,
   "id": "9dygBGUlzuoZ",
   "metadata": {
    "id": "9dygBGUlzuoZ"
   },
   "outputs": [],
   "source": [
    "dictionary = {\"1\":\".,?!:\",\"2\":\"ABC\",\"3\":\"DEF\",\"4\":\"GHI\",\"5\":\"JKL\",\"6\":\"MNO\",\"7\":\"PQRS\",\"8\":\"TUV\",\"9\":\"WXYZ\",\"0\":\" \"}\n",
    "string = input(\"Enter a string: \").upper()\n",
    "key_press = \"\"\n",
    "count = \"\"\n",
    "for i in string:\n",
    "    for key,value in dictionary.items():\n",
    "        if i in value:\n",
    "            for key in dictionary:\n",
    "                counter = 0\n",
    "                for a in range(len(dictionary[key])):\n",
    "                    if dictionary[key][a] == i:\n",
    "                        counter = a+1\n",
    "                        for x in range(counter):\n",
    "                                key_press += key\n",
    "            \n",
    "print(key_press)"
   ]
  }
 ],
 "metadata": {
  "colab": {
   "collapsed_sections": [],
   "name": "Md. Rahadul Islam Fardin_20101363_S03_Assignment 1.ipynb",
   "provenance": []
  },
  "kernelspec": {
   "display_name": "Python 3 (ipykernel)",
   "language": "python",
   "name": "python3"
  },
  "language_info": {
   "codemirror_mode": {
    "name": "ipython",
    "version": 3
   },
   "file_extension": ".py",
   "mimetype": "text/x-python",
   "name": "python",
   "nbconvert_exporter": "python",
   "pygments_lexer": "ipython3",
   "version": "3.9.7"
  }
 },
 "nbformat": 4,
 "nbformat_minor": 5
}
