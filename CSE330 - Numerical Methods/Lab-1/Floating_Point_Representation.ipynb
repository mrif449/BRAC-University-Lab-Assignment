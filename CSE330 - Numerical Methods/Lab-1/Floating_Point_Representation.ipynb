{
  "cells": [
    {
      "cell_type": "markdown",
      "metadata": {
        "id": "iiq6Xum6rAJO"
      },
      "source": [
        "---"
      ]
    },
    {
      "cell_type": "markdown",
      "metadata": {
        "deletable": false,
        "editable": false,
        "id": "Io3ii0VArAJO",
        "nbgrader": {
          "cell_type": "markdown",
          "checksum": "7c4e9d0fccc2e8dd26580075f9ceb52d",
          "grade": false,
          "grade_id": "intro_8bit",
          "locked": true,
          "schema_version": 3,
          "solution": false,
          "task": false
        }
      },
      "source": [
        "# Floating Point Representation\n",
        "\n",
        "## 8 bit Floating Point Representation\n",
        "\n",
        "We will implement an 8 bit Floating point number system in this part, where First bit is a sign bit, next three bits are exponents,\n",
        "and the rest 4 bits are mantissas (significands).\n",
        "\n",
        "Numbers are divided into two categories: normals and subnormals.\n",
        "\n",
        "For normals the encoding is:\n",
        "\\begin{equation}\n",
        "(-1)^{sign} \\times 2^{(e-3)} \\times 1.fraction\n",
        "\\end{equation}\n",
        "For subnormals the encoding is:\n",
        "\\begin{equation}\n",
        "(-1)^{sign} \\times 2^{(1-3)} \\times 0.fraction\n",
        "\\end{equation}\n",
        "\n",
        "Example:\n",
        "\\begin{aligned}\n",
        "    0 001 0000 &= 2^{(1-3)} \\times 1.0 = 0.25\\\\\n",
        "    0 010 0000 &= 2^{(2-3)} \\times 1.0 = 0.5\\\\\n",
        "    0 011 0000 &= 2^{(3-3)} \\times 1.0 = 1.0\\\\\n",
        "    0 011 0100 &= 2^{(3-3)} \\times 1.25 = 1.25\n",
        "\\end{aligned}\n",
        "\n",
        "If the exponent is 0 then the number is considered subnormal.\n",
        "\n",
        "Example:\n",
        "\\begin{aligned}\n",
        "    0 000 0000 &= 2^{-2} \\times 0   = 0.0\\\\\n",
        "    0 000 1000 &= 2^{-2} \\times 0.5 = 0.125\\\\\n",
        "    0 000 1100 &= 2^{-2} \\times 0.75 = 0.1875\n",
        "\\end{aligned}\n",
        "\n",
        "If the exponent is 7 then and mantissa is zero then the number is \n",
        "considered infinity (inf), otherwise it is not-a-number (nan).\n",
        "\n",
        "Example:\n",
        "\\begin{aligned}\n",
        "    0 111 0000 &= +\\infty\\\\\n",
        "    1 111 0000 &= -\\infty\\\\\n",
        "    X 111 XXXX &= NaN\n",
        "\\end{aligned}\n",
        "\n",
        "### Instructions\n",
        "In this task, you need to implement the `Float8()` class. Some parts of the class are already written for you. You only need to modify `__init__(self, bitstring)` and `calculate_value(self)` fuctions, where it says `# YOUR CODE HERE`. You may ignore `raise NotImplementedError()`."
      ]
    },
    {
      "cell_type": "code",
      "execution_count": 2,
      "metadata": {
        "deletable": false,
        "editable": false,
        "id": "qIGtiRs-rAJP",
        "nbgrader": {
          "cell_type": "code",
          "checksum": "ac5f73bdfe958d67ad35fcd7def0142b",
          "grade": false,
          "grade_id": "import",
          "locked": true,
          "schema_version": 3,
          "solution": false,
          "task": false
        }
      },
      "outputs": [],
      "source": [
        "import math\n",
        "import itertools\n",
        "import matplotlib.pyplot as plt"
      ]
    },
    {
      "cell_type": "code",
      "execution_count": 3,
      "metadata": {
        "deletable": false,
        "id": "ubVFqV6mrAJP",
        "nbgrader": {
          "cell_type": "code",
          "checksum": "98f9407d030b5a7e7abf8599b885afad",
          "grade": false,
          "grade_id": "8bit_ans",
          "locked": false,
          "schema_version": 3,
          "solution": true,
          "task": false
        }
      },
      "outputs": [],
      "source": [
        "class Float8():\n",
        "    \n",
        "    def __init__(self, bitstring):\n",
        "        '''Constructor\n",
        "        takes a 8-bit string of 0's and 1's as input and stores the sub-strings\n",
        "        accordingly.\n",
        "        Usage: Float8('00011110')\n",
        "        '''\n",
        "        assert(len(bitstring)==8)\n",
        "        \n",
        "        self.sign = int(bitstring[0])\n",
        "        self.exponent = bitstring[1:4]\n",
        "        self.mantissa = bitstring[4:]\n",
        "        self.val = self.calculate_value()\n",
        "        \n",
        "    def __str__(self):\n",
        "        return f'Sign bit value: {self.sign}\\n' + \\\n",
        "            f'Exponent value: {self.exponent}\\n' + \\\n",
        "            f'Mantissa value: {self.mantissa}\\n' + \\\n",
        "            f'Floating value: {self.val}\\n'\n",
        "    \n",
        "    def tobitstring(self):\n",
        "        return self.sign + self.exponent + self.mantissa\n",
        "    \n",
        "    def toformattedstring(self):\n",
        "        return ' '.join([self.sign, self.exponent, self.mantissa])\n",
        "\n",
        "    def exp_to_number(self):\n",
        "        number1 = 0\n",
        "        for x in range(len(self.exponent)):\n",
        "            number1 += int(self.exponent[x])*2**(len(self.exponent)-1-x)\n",
        "        return number1\n",
        "\n",
        "    def mantissa_to_number(self):\n",
        "        number2 = 0\n",
        "        for y in range(len(self.mantissa)):\n",
        "            number2 += int(self.mantissa[y])* 2**-(y+1)\n",
        "        return number2\n",
        "    \n",
        "    def calculate_value(self):\n",
        "        '''Calculate the value of the number from bits'''\n",
        "        val = 0.0\n",
        "        if self.exponent == '1'*len(self.exponent):\n",
        "            if self.mantissa == '0'*len(self.mantissa):\n",
        "                if self.sign == 0:\n",
        "                    val = 'inf'\n",
        "                else:\n",
        "                    val = '-inf'\n",
        "            else:\n",
        "                val = 'nan'\n",
        "        elif  self.exponent == '0'*len(self.exponent):\n",
        "            val = ((-1)**self.sign)*(0+self.mantissa_to_number())*(2**(1-3))\n",
        "        else:\n",
        "            val = ((-1)**self.sign)*(1+self.mantissa_to_number())*(2**(self.exp_to_number()-3))\n",
        "        \n",
        "        return val"
      ]
    },
    {
      "cell_type": "code",
      "execution_count": 4,
      "metadata": {
        "colab": {
          "base_uri": "https://localhost:8080/"
        },
        "deletable": false,
        "editable": false,
        "id": "dnTMKYNKrAJQ",
        "nbgrader": {
          "cell_type": "code",
          "checksum": "6ca28ff8f98269b69d905fdcd45d338c",
          "grade": true,
          "grade_id": "8bit_test",
          "locked": true,
          "points": 10,
          "schema_version": 3,
          "solution": false,
          "task": false
        },
        "outputId": "a4262a9d-3e95-47b7-9ba4-235ae2712889"
      },
      "outputs": [
        {
          "name": "stdout",
          "output_type": "stream",
          "text": [
            "27 out of 27 outputs matched for 8-bit floating points\n"
          ]
        }
      ],
      "source": [
        "'''27 test cases for 8-bit floating points'''\n",
        "import numpy as np\n",
        "\n",
        "data = [ '00000000', '00000001', '00001001', '00010000',\n",
        "         '00010001', '00011000', '00011011', '00100000',\n",
        "         '00101101', '00110000', '00110101', '01000011',\n",
        "         '01000000', '01010000', '01011100', '01100000',\n",
        "         '01110111', '01110000', '10000000', '10000001',\n",
        "         '11110001', '11110000', '10110001', '10111101',\n",
        "         '11100000', '11101011', '11010000']\n",
        "results = ['(0, 1)', '(1, 64)', '(9, 64)', '(1, 4)', '(17, 64)', '(3, 8)', '(27, 64)',\n",
        "          '(1, 2)', '(29, 32)', '(1, 1)', '(21, 16)', '(19, 8)', '(2, 1)', '(4, 1)',\n",
        "          '(7, 1)', '(8, 1)', 'nan', 'inf', '(0, 1)', '(-1, 64)', 'nan', '-inf',\n",
        "          '(-17, 16)', '(-29, 16)', '(-8, 1)', '(-27, 2)', '(-4, 1)']\n",
        "\n",
        "test = [Float8(x).val for x in data]\n",
        "\n",
        "for index in range(len(test)):\n",
        "    d = test[index]\n",
        "    try:\n",
        "        test[index] = str(d.as_integer_ratio())\n",
        "    except Exception:\n",
        "        test[index] = str(d)\n",
        "\n",
        "np.testing.assert_equal(np.array(test), np.array(results))\n",
        "print('27 out of 27 outputs matched for 8-bit floating points')"
      ]
    },
    {
      "cell_type": "markdown",
      "metadata": {
        "deletable": false,
        "editable": false,
        "id": "D2V7P4eyrAJR",
        "nbgrader": {
          "cell_type": "markdown",
          "checksum": "56c84b861684b011679fc374962c97d8",
          "grade": false,
          "grade_id": "intro_16bit",
          "locked": true,
          "schema_version": 3,
          "solution": false,
          "task": false
        }
      },
      "source": [
        "## 16 Bit Floating Point Representation\n",
        "\n",
        "Over here, we will implement a 16 bit Floating point number system,\n",
        "where the first bit is a sign bit, next four bits are exponents,\n",
        "and the rest 11 bits are mantissas (significands).\n",
        "\n",
        "Numbers are divided into two categories: normals and subnormals.\n",
        "\n",
        "For normals the encoding is:\n",
        "\\begin{equation}\n",
        "(-1)^{sign} \\times 2^{(e-7)} \\times 1.fraction\n",
        "\\end{equation}\n",
        "For subnormals the encoding is:\n",
        "\\begin{equation}\n",
        "(-1)^{sign} \\times 2^{(1-7)} \\times 0.fraction\n",
        "\\end{equation}\n",
        "\n",
        "Example:\n",
        "\\begin{aligned}\n",
        "    0 0101 00000000000 &= 2^{(5-7)} \\times 1.0  = 0.25\\\\\n",
        "    0 0110 00000000000 &= 2^{(6-7)} \\times 1.0  = 0.5\\\\\n",
        "    0 0111 00000000000 &= 2^{(3-7)} \\times 1.0  = 1.0\\\\\n",
        "    0 0111 01000000000 &= 2^{(3-7)} \\times 1.25 = 1.25\n",
        "\\end{aligned}\n",
        "\n",
        "If the exponent is 0 then the number is considered subnormal.\n",
        "\n",
        "Example:\n",
        "\\begin{aligned}\n",
        "    0 0000 00000000000 &= 2^{-6} \\times 0    = +0.0\\\\\n",
        "    0 0000 10000000000 &= 2^{-6} \\times 0.5  = +0.0078125\\\\\n",
        "    0 0000 11000000000 &= 2^{-6} \\times 0.75 = +0.01171875\n",
        "\\end{aligned}\n",
        "\n",
        "If the exponent is 15 (all 1's) then and mantissa is zero then the number is considered infinity (inf), otherwise it is not-a-number (nan).\n",
        "    \n",
        "Example:\n",
        "\\begin{aligned}\n",
        "    0 1111 00000000000 &= +\\infty\\\\\n",
        "    1 1111 00000000000 &= -\\infty\\\\\n",
        "    X 1111 XXXXXXXXXXX &= NaN\n",
        "\\end{aligned}\n",
        "\n",
        "### Instructions\n",
        "In this task, you need to implement the `Float16()` class. Some parts of the class are already written for you. You only need to modify `__init__(self, bitstring)` and `calculate_value(self)` fuctions, where it says `# YOUR CODE HERE`. You may ignore `raise NotImplementedError()`."
      ]
    },
    {
      "cell_type": "code",
      "execution_count": 5,
      "metadata": {
        "deletable": false,
        "id": "FEARBhuYrAJS",
        "nbgrader": {
          "cell_type": "code",
          "checksum": "9176054a6507a9547cb18a21136d733e",
          "grade": false,
          "grade_id": "16bit_ans",
          "locked": false,
          "schema_version": 3,
          "solution": true,
          "task": false
        }
      },
      "outputs": [],
      "source": [
        "class Float16():\n",
        "    \n",
        "\n",
        "    def __init__(self, bitstring):\n",
        "        '''Constructor\n",
        "        takes a 16-bit string of 0's and 1's as input and stores the sub-strings\n",
        "        accordingly.\n",
        "        Usage: Float16('0001111000011110')\n",
        "        '''\n",
        "\n",
        "        assert(len(bitstring)==16)\n",
        "\n",
        "        self.sign = int(bitstring[0])\n",
        "        self.exponent = bitstring[1:5]\n",
        "        self.mantissa = bitstring[5:]\n",
        "        self.val = self.calculate_value()\n",
        "        \n",
        "    def __str__(self):\n",
        "        return f'Sign bit value: {self.sign}\\n' + \\\n",
        "            f'Exponent value: {self.exponent}\\n' + \\\n",
        "            f'Mantissa value: {self.mantissa}\\n' + \\\n",
        "            f'Floating value: {self.val}\\n'\n",
        "    \n",
        "    def tobitstring(self):\n",
        "        return self.sign + self.exponent + self.mantissa\n",
        "    \n",
        "    def toformattedstring(self):\n",
        "        return ' '.join([self.sign, self.exponent, self.mantissa])\n",
        "    \n",
        "    def exp_to_number(self):\n",
        "        number1 = 0\n",
        "        for x in range(len(self.exponent)):\n",
        "            number1 += int(self.exponent[x])*2**(len(self.exponent)-1-x)\n",
        "        return number1\n",
        "\n",
        "    def mantissa_to_number(self):\n",
        "        number2 = 0\n",
        "        for y in range(len(self.mantissa)):\n",
        "            number2 += int(self.mantissa[y])* 2**-(y+1)\n",
        "        return number2\n",
        "    \n",
        "    def calculate_value(self):\n",
        "        '''Calculate the value of the number from bits'''\n",
        "        val = 0.0\n",
        "\n",
        "        if self.exponent == '1'*len(self.exponent):\n",
        "            if self.mantissa == '0'*len(self.mantissa):\n",
        "                if self.sign == 0:\n",
        "                    val = 'inf'\n",
        "                else:\n",
        "                    val = '-inf'\n",
        "            else:\n",
        "                val = 'nan'\n",
        "        elif  self.exponent == '0'*len(self.exponent):\n",
        "            val = ((-1)**self.sign)*(0+self.mantissa_to_number())*(2**(1-7))\n",
        "        else:\n",
        "           val = ((-1)**self.sign)*(1+self.mantissa_to_number())*(2**(self.exp_to_number()-7))\n",
        "\n",
        "        return val"
      ]
    },
    {
      "cell_type": "code",
      "execution_count": 6,
      "metadata": {
        "colab": {
          "base_uri": "https://localhost:8080/"
        },
        "deletable": false,
        "editable": false,
        "id": "SpIZzEIyrAJT",
        "nbgrader": {
          "cell_type": "code",
          "checksum": "0c6dcd10e961fa37e25e8cba3164cea1",
          "grade": true,
          "grade_id": "16bit_test",
          "locked": true,
          "points": 10,
          "schema_version": 3,
          "solution": false,
          "task": false
        },
        "outputId": "5b5b4cdd-b83a-4c73-ce26-28cb819cf230"
      },
      "outputs": [
        {
          "name": "stdout",
          "output_type": "stream",
          "text": [
            "26 out of 26 outputs matched for 16-bit floating points\n"
          ]
        }
      ],
      "source": [
        "'''26 test cases for 16-bit floating points'''\n",
        "data = [ '0011100000000010', '0100010000000000', '1100010000000000', '0100100000000000', \n",
        "         '1100100000000000', '0100101000000000', '1100101000000000', '0100110000000000', \n",
        "         '1100110000000000', '0101101110000000', '0010010000000000', '0000000000000001', \n",
        "         '0000011111111111', '0000100000000000', '0111011111111111', '0000000000000000', \n",
        "         '1000000000000000', '0111100000000000', '1111100000000000', '0111100000000001', \n",
        "         '0111110000000001', '0111111111111111', '0010101010101011', '0100010010010001', \n",
        "         '0011100000000000', '0011100000000001']\n",
        "results = ['(1025, 1024)', '(3, 1)', '(-3, 1)', '(4, 1)', '(-4, 1)',\n",
        "           '(5, 1)', '(-5, 1)', '(6, 1)', '(-6, 1)', '(23, 1)', '(3, 16)', '(1, 131072)',\n",
        "           '(2047, 131072)', '(1, 64)', '(4095, 16)', '(0, 1)', '(0, 1)', 'inf', '-inf',\n",
        "           'nan', 'nan', 'nan', '(2731, 8192)', '(3217, 1024)', '(1, 1)', '(2049, 2048)']\n",
        "\n",
        "test = [Float16(x).val for x in data]\n",
        "\n",
        "for index in range(len(test)):\n",
        "    d = test[index]\n",
        "    try:\n",
        "        test[index] = str(d.as_integer_ratio())\n",
        "    except Exception:\n",
        "        test[index] = str(d)\n",
        "\n",
        "np.testing.assert_equal(np.array(test), np.array(results))\n",
        "print('26 out of 26 outputs matched for 16-bit floating points')"
      ]
    }
  ],
  "metadata": {
    "colab": {
      "name": "20101363_Md. Rahadul Islam Fardin_04_Floating_Point_Representation.ipynb",
      "provenance": []
    },
    "kernelspec": {
      "display_name": "Python 3.10.7 64-bit",
      "language": "python",
      "name": "python3"
    },
    "language_info": {
      "codemirror_mode": {
        "name": "ipython",
        "version": 3
      },
      "file_extension": ".py",
      "mimetype": "text/x-python",
      "name": "python",
      "nbconvert_exporter": "python",
      "pygments_lexer": "ipython3",
      "version": "3.10.7"
    },
    "vscode": {
      "interpreter": {
        "hash": "3b4bcf71e5b419684ee911c7bbaf0f70bce12017f0d8c78835186c2a07f09cd9"
      }
    }
  },
  "nbformat": 4,
  "nbformat_minor": 0
}
