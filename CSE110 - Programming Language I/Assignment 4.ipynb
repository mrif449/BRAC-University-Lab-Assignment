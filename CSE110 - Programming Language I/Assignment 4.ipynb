{
  "nbformat": 4,
  "nbformat_minor": 0,
  "metadata": {
    "kernelspec": {
      "display_name": "Python 3",
      "language": "python",
      "name": "python3"
    },
    "language_info": {
      "codemirror_mode": {
        "name": "ipython",
        "version": 3
      },
      "file_extension": ".py",
      "mimetype": "text/x-python",
      "name": "python",
      "nbconvert_exporter": "python",
      "pygments_lexer": "ipython3",
      "version": "3.7.6"
    },
    "colab": {
      "name": "20101363_Md_Rahadul_Islam_Fardin_08_CSE110Lab_Assignment_4.ipynb",
      "provenance": [],
      "collapsed_sections": []
    }
  },
  "cells": [
    {
      "cell_type": "markdown",
      "metadata": {
        "id": "xDNsncrtU1yM"
      },
      "source": [
        "# CSE110 Lab Assignment 4\n",
        "\n",
        "This Assignment is to help you develop your concept of Lists in Python."
      ]
    },
    {
      "cell_type": "markdown",
      "metadata": {
        "id": "gh4GUDaIU1yO"
      },
      "source": [
        "\n",
        "\n",
        "\n",
        "\n",
        "\n",
        "\n",
        "##Write your name, student ID and CSE110 theory section number below:\n",
        "\n",
        "\n",
        "\n",
        "\n",
        "\n"
      ]
    },
    {
      "cell_type": "code",
      "metadata": {
        "id": "OAYfzLIqgqyE"
      },
      "source": [
        "#STUDENT NAME: Md. Rahadul Islam Fardin\n",
        "#STUDENT ID: 20101363\n",
        "#CSE110 THEORY SECTION: 08"
      ],
      "execution_count": null,
      "outputs": []
    },
    {
      "cell_type": "markdown",
      "metadata": {
        "id": "KD4EKJf6U1yQ"
      },
      "source": [
        "## Write the code in Python to do the following tasks:\n",
        "\n",
        "**<font color='red'>[MUST MAINTAIN VARIABLE NAMING CONVENTIONS FOR ALL THE TASKS]</font>**"
      ]
    },
    {
      "cell_type": "markdown",
      "metadata": {
        "id": "pbdeIVcyU1yi"
      },
      "source": [
        "### Task 1\n",
        "Write a Python program that reads 10 numbers from the user into a list. After reading each number, print all the numbers that have been entered so far in the list. \n",
        "\n",
        "**Example:**\\\n",
        "After the user enters 3, prints “Numbers in the list: [3]”\\\n",
        "After the user enters 5, prints “Numbers in the list: [3, 5]”\\\n",
        "After the user enters 34, prints “Numbers in the list: [3, 5, 34]”\\\n",
        ".... and so on"
      ]
    },
    {
      "cell_type": "code",
      "metadata": {
        "id": "A5df9pmJU1yj"
      },
      "source": [
        "list_0 = []\n",
        "value = list_0\n",
        "for x in range(0,10):\n",
        "    number = int(input(\"Enter number for the list: \"))\n",
        "    x = value.append(number)\n",
        "    print(\"Numbers in the list:\",list_0)"
      ],
      "execution_count": null,
      "outputs": []
    },
    {
      "cell_type": "markdown",
      "metadata": {
        "id": "ZrjtT-I_U1zD"
      },
      "source": [
        "### Task 2\n",
        "\n",
        "Write a Python program that takes a list as an input from the user.Then creates a new list excluding the first and last two elements of the given list and prints the new list. If there are not enough elements in the list to do the task, the print \"Not possible\".\n",
        "\n",
        "**Note:** You may use list slicing.\n",
        "\n",
        "===================================================================\n",
        "\n",
        "**Sample Input 1:**<br/>\n",
        "[10, 20, 24, 25, 26, 35, 70]<br/>\n",
        "**Sample Output 1:**<br/>\n",
        "[24, 25, 26]<br/>\n",
        "\n",
        "===================================================================\n",
        "\n",
        "**Sample Input 2:**<br/>\n",
        "[10, 20, 24, 25, 26]<br/>\n",
        "**Sample Output 2:**<br/>\n",
        "[24]<br/>\n",
        "\n",
        "===================================================================\n",
        "\n",
        "**Sample Input 3:**<br/>\n",
        "[10, 20, 24, 25]<br/>\n",
        "**Sample Output 3:**<br/>\n",
        "[]<br/>\n",
        "\n",
        "===================================================================\n",
        "\n",
        "**Sample Input 4:**<br/>\n",
        "[10, 20, 24]<br/>\n",
        "**Sample Output 4:**<br/>\n",
        "Not possible<br/>\n",
        "\n",
        "==================================================================="
      ]
    },
    {
      "cell_type": "code",
      "metadata": {
        "id": "3r7Ripj7U1zE"
      },
      "source": [
        "list_1 = []\n",
        "number = input(\"Enter the list: \").split(\",\")\n",
        "for i in number:\n",
        "    integer = int(i)\n",
        "    list_1.append(integer)\n",
        "if len(list_1)>3:\n",
        "    print(list_1[2:-2])\n",
        "else:\n",
        "    print(\"Not possible\")\n"
      ],
      "execution_count": null,
      "outputs": []
    },
    {
      "cell_type": "markdown",
      "metadata": {
        "id": "AWgZaBZCzmaM"
      },
      "source": [
        "### Task 3\n",
        "\n",
        "Write a python program that reads 5 numbers from the user into a list, and then prints them in the reverse order.\n",
        "\n",
        "*Hint: You may create a list to store the input numbers and then use loop to print them in reverse order*\n",
        "\n",
        "===================================================================\n",
        "\n",
        "**Sample Input:**\\\n",
        "5\\\n",
        "-5\\\n",
        "100\\\n",
        "1\\\n",
        "0\n",
        "\n",
        "**Sample Output:**\\\n",
        "0\\\n",
        "1\\\n",
        "100\\\n",
        "-5\\\n",
        "5\n",
        "\n",
        "==================================================================="
      ]
    },
    {
      "cell_type": "code",
      "metadata": {
        "id": "ICW-03YOznTp"
      },
      "source": [
        "list_1 = []\n",
        "for x in range(5):\n",
        "    number = int(input(\"Enter a number: \"))\n",
        "    list_1.append(number)\n",
        "\n",
        "for y in range(len(list_1)-1,-1,-1):\n",
        "    print(list_1[y])"
      ],
      "execution_count": null,
      "outputs": []
    },
    {
      "cell_type": "markdown",
      "metadata": {
        "id": "7a_1pYjfU1zI"
      },
      "source": [
        "### Task 4\n",
        "Assume, you have been given two lists. [Your program should work for any two given lists; change the following lists and check whether your program works correctly for the code you have written]\n",
        "\n",
        "list_one = [1, 2, 3, 4, 5, 6, 7, 8, 9]\\\n",
        "list_two = [10, 11, 12, -13, -14, -15, -16]\n",
        "\n",
        "Write a Python program that creates a new list with all the **even elements** of both of the given lists and prints the new list.\n",
        "\n",
        "**Hint:** You may create a third list to store the even elements of the given lists.\n",
        "\n",
        "===================================================================\n",
        "\n",
        "**Output for the above lists:** [2, 4, 6, 8, 10, 12, -14, -16]\n",
        "\n",
        "==================================================================="
      ]
    },
    {
      "cell_type": "code",
      "metadata": {
        "id": "vToa7yazU1zI"
      },
      "source": [
        "list_one = [1, 2, 3, 4, 5, 6, 7, 8, 9]\n",
        "list_two = [10, 11, 12, -13, -14, -15, -16]\n",
        "list_three = list_one+list_two\n",
        "\n",
        "list_four = []\n",
        "for x in list_three:\n",
        "    if x%2 == 0:\n",
        "        list_four.append(x)\n",
        "print(list_four)"
      ],
      "execution_count": null,
      "outputs": []
    },
    {
      "cell_type": "markdown",
      "metadata": {
        "id": "QaD4hLn92EKT"
      },
      "source": [
        "### Task 5\n",
        "\n",
        "Write a Python program that takes numbers as input into a list, removes multiple occurences of any number and then finally prints a list **without duplicate values**.\n",
        "\n",
        "*Hint: You may create a third list to store the results. You can use membership operators (in, not in) to make sure no duplicates are added.*\n",
        "\n",
        "===================================================================\n",
        "\n",
        "**Sample Input 1:**<br/>\n",
        "0, 0, 1, 2, 3, 4, 4, 5, 6, 6, 6, 7, 8, 9, 4, 4<br/>\n",
        "\n",
        "\n",
        "**Sample Output 1:**<br/>\n",
        "[0, 1, 2, 3, 4, 5, 6, 7, 8, 9]<br/>\n",
        "\n",
        "===================================================================\n",
        "\n",
        "**Sample Input 2:**<br/>\n",
        "7, 7, 7, 1, 0, 3, 3, 55, 9<br/>\n",
        "\n",
        "\n",
        "**Sample Output 2:**<br/>\n",
        "[7, 1, 0, 3, 55, 9]<br/>\n",
        "\n",
        "==================================================================="
      ]
    },
    {
      "cell_type": "code",
      "metadata": {
        "id": "EUbQbz5hU1zP"
      },
      "source": [
        "list_1 = []\n",
        "number = input(\"Enter the list: \").split(\",\")\n",
        "for x in number:\n",
        "    integer = int(x)\n",
        "    if integer not in list_1:\n",
        "        list_1.append(integer)\n",
        "print(list_1)"
      ],
      "execution_count": null,
      "outputs": []
    },
    {
      "cell_type": "markdown",
      "metadata": {
        "id": "wfcSytFVU1zU"
      },
      "source": [
        "### Task 6\n",
        "\n",
        "Write a Python program that reads 5 numbers into a list and prints the largest number and its location or index position on the list. <font color='red'>[You are not allowed to use the max(), sort(), sorted() function here]</font>\n",
        "\n",
        "**Hint:** Assume the first input to be the largest value initially and the largest value’s location to be 0.\n",
        "\n",
        "**Note:** You may need to be careful while printing the output. Depending on your code, you might need data conversion.\n",
        "\n",
        "===================================================================\n",
        "\n",
        "**Sample Input:**\\\n",
        " 7, 13, 2, 10, 6\n",
        "\n",
        "**Sample Output:**\\\n",
        "My list: [7, 13, 2, 10, 6]\\\n",
        "Largest number in the list is 13 which was found at index 1.\n",
        "\n",
        "==================================================================="
      ]
    },
    {
      "cell_type": "code",
      "metadata": {
        "id": "kXbEh1t3U1zV"
      },
      "source": [
        "list_1 = []\n",
        "numbers = input(\"Enter numbers for the list: \").split(\",\")\n",
        "for x in numbers:\n",
        "    integer = int(x)\n",
        "    list_1.append(integer)\n",
        "\n",
        "    highest = 0\n",
        "    for y in list_1:\n",
        "        if y > highest:\n",
        "            highest = y\n",
        "var = highest\n",
        "index = -1\n",
        "for z in range(0, len(list_1)):\n",
        "    if list_1[z]==var:\n",
        "        index=z\n",
        "print(\"My list:\",list_1)\n",
        "print(\"Largest number in the list is\",highest,\" which was found at index\",index,\".\")"
      ],
      "execution_count": null,
      "outputs": []
    },
    {
      "cell_type": "markdown",
      "metadata": {
        "id": "nwRZ3_0tC3fq"
      },
      "source": [
        "### Task 7\n",
        "\n",
        "\n",
        "Assume, you have been given two lists. [Your program should work for any two given lists; make changes to the lists below and check whether your program works correctly]\n",
        "\n",
        "list_one = [1, 2 , 2, 4, 5, 5, 7, 99, 200, 303, 70]\\\n",
        "list_two = [1, 1, 2, 3, 3, 3, 4, 5, 200, 500, -5]\n",
        "\n",
        "Write a Python program that creates a new list with all the **unique elements** of both the given lists. \n",
        "<font color='red'> **You need to make sure that there are no duplicates in the resulting list.**</font> Finally, print the updated list.\n",
        "\n",
        "**Hint:** You may create a third list to store the results. You can use membership operators (in, not in) to make sure no duplicates are added.\n",
        "\n",
        "===================================================================\n",
        "\n",
        "**Output for the above two lists**: \n",
        "[1, 2, 4, 5, 7, 99, 200, 303, 70, 3, 500, -5]\n",
        "\n",
        "===================================================================\n",
        "\n"
      ]
    },
    {
      "cell_type": "code",
      "metadata": {
        "id": "LEnaTlyoMJdS"
      },
      "source": [
        "list_one = [1, 2 , 2, 4, 5, 5, 7, 99, 200, 303, 70]\n",
        "list_two = [1, 1, 2, 3, 3, 3, 4, 5, 200, 500, -5]\n",
        "list_three = []\n",
        "for x in list_one:\n",
        "    if x not in list_three:\n",
        "        list_three.append(x)\n",
        "for y in list_two:\n",
        "    if y not in list_three:\n",
        "        list_three.append(y)\n",
        "print(list_three)"
      ],
      "execution_count": null,
      "outputs": []
    },
    {
      "cell_type": "markdown",
      "metadata": {
        "id": "bvF30RQlemBW"
      },
      "source": [
        "### Task 8\n",
        "\n",
        "Write a Python program that takes two lists and prints True if they have at least one common member.\n",
        "\n",
        "===================================================================\n",
        "\n",
        "**Sample Input 1:**\\\n",
        "List_one : [1, 4, 3, 2, 6]\\\n",
        "List_two : [5, 6, 9, 8, 7]\n",
        "\n",
        "**Sample Output 1:**\\\n",
        "True\n",
        "\n",
        "===================================================================\n",
        "\n",
        "**Sample Input 2:**\\\n",
        "List_one : [1, 4, 3, 2, 5]\\\n",
        "List_two : [8, 7, 6, 9]\n",
        "\n",
        "**Sample Output 2:**\\\n",
        "False\n",
        "\n",
        "===================================================================\n"
      ]
    },
    {
      "cell_type": "code",
      "metadata": {
        "id": "yIlAlqlGe7IA"
      },
      "source": [
        "list_1 = []\n",
        "list_2 = []\n",
        "numbers_1 = input(\"Enter numbers for the first loop: \").split(\",\")\n",
        "for x in numbers_1:\n",
        "    integer = int(x)\n",
        "    list_1.append(integer)\n",
        "numbers_2 = input(\"Enter numbers for the second loop: \").split(\",\")\n",
        "for y in numbers_2:\n",
        "    integer1 = int(y)\n",
        "    list_2.append(integer1)\n",
        "variable = False\n",
        "for z in list_1:\n",
        "    if z in list_2:\n",
        "        variable = True\n",
        "print(variable)"
      ],
      "execution_count": null,
      "outputs": []
    },
    {
      "cell_type": "markdown",
      "metadata": {
        "id": "vyFt-Ra5erR4"
      },
      "source": [
        "### Task 9\n",
        "\n",
        "Write a Python program that reads 10 numbers into a list and prints the numbers of that specified list after removing **even numbers** from it.\n",
        "\n",
        "=========================================================================\n",
        "\n",
        "**Sample Input:**\n",
        "\n",
        "7,12,4,55,96,2,11,61,33,42\n",
        "\n",
        "**Sample Output:**\n",
        "\n",
        "[7, 55, 11, 61, 33]\n",
        "\n",
        "=========================================================================\n",
        "\n",
        "\n",
        "\n"
      ]
    },
    {
      "cell_type": "code",
      "metadata": {
        "id": "1U3bswq9e9B3"
      },
      "source": [
        "list_0 = []\n",
        "numbers = input(\"Enter 10 numbers: \").split(\",\")\n",
        "for x in numbers:\n",
        "    integer= int(x)\n",
        "    if integer%2==1:\n",
        "        list_0.append(integer)\n",
        "print(list_0)\n"
      ],
      "execution_count": null,
      "outputs": []
    },
    {
      "cell_type": "markdown",
      "metadata": {
        "id": "G9jPuLWOetqd"
      },
      "source": [
        "### Task 10\n",
        "\n",
        "Write a Python program that reads an integer N. After, read N inputs from the user and create a list of N items and print the list. Then remove the Empty strings from the list and print the new list.\n",
        "\n",
        "=========================================================================\n",
        "\n",
        "**Sample Input:**\n",
        "\n",
        "8<br />\n",
        "hey<br />\n",
        "there\n",
        "<br />\n",
        "\n",
        "what's\n",
        "<br />\n",
        "\n",
        "up\n",
        "<br />\n",
        "\n",
        "?\n",
        "\n",
        "**Sample Output:**\n",
        "\n",
        "Original List:\n",
        "[\"hey\", \"there\", \" \", \"what's\", \" \", \"up\", \" \", \"?\"]\n",
        "\n",
        "Modified List:\n",
        "[\"hey\", \"there\", \"what's\", \"up\", \"?\"]\n",
        "\n",
        "==========================================================================\n",
        "\n",
        "\n"
      ]
    },
    {
      "cell_type": "code",
      "metadata": {
        "id": "OlrhifBge-TA"
      },
      "source": [
        "list_0 = []\n",
        "list_1 = []\n",
        "number= int(input(\"Enter the count of input: \"))\n",
        "for x in range(number):\n",
        "    data = input(\"Enter data for the list: \")\n",
        "    list_0.append(data)\n",
        "print(\"Original List:\",list_0)\n",
        "for y in list_0:\n",
        "    if y != '':\n",
        "        list_1.append(y)\n",
        "print(\"Modified List:\",list_1)"
      ],
      "execution_count": null,
      "outputs": []
    },
    {
      "cell_type": "markdown",
      "metadata": {
        "id": "UjTy79X6ewce"
      },
      "source": [
        "## Task 11\n",
        "\n",
        "Write a Python program that replaces the last element of first list with second list.\n",
        "\n",
        "===================================================================\n",
        "\n",
        "**Sample Input 1:**\\\n",
        "List_one : [1, 4, 7, 5]\\\n",
        "List_two : [6, 1, 3, 9]\n",
        "\n",
        "**Sample Output 1:**\\\n",
        "[1, 4, 7, 6, 1, 3, 9]\n",
        "\n",
        "===================================================================\n",
        "\n",
        "**Sample Input 2:**\\\n",
        "List_one : [1, 3, 5, 7, 9, 10]\\\n",
        "List_two : [2, 4, 6, 8]\n",
        "\n",
        "**Sample Output 2:**\\\n",
        "[1, 3, 5, 7, 9, 2, 4, 6, 8]\n",
        "\n",
        "===================================================================\n",
        "\n",
        "\n",
        "\n"
      ]
    },
    {
      "cell_type": "code",
      "metadata": {
        "id": "bBseKJuse_bX"
      },
      "source": [
        "List_one = [1,4,7,5]\n",
        "List_two = [6,1,3,9]\n",
        "function = List_one.pop()\n",
        "List_three = List_one + List_two\n",
        "print(List_three)"
      ],
      "execution_count": null,
      "outputs": []
    },
    {
      "cell_type": "markdown",
      "metadata": {
        "id": "4pBLPmvre0jv"
      },
      "source": [
        "### Task 12\n",
        "\n",
        "Write a Python program that turns every item of a list into its square.\n",
        "\n",
        "===================================================================\n",
        "\n",
        "**Sample Input 1:**\\\n",
        "[1, 2, 3, 4, 5, 6, 7]\n",
        "\n",
        "**Sample Output 1:**\\\n",
        "[1, 4, 9, 16, 25, 36, 49]\n",
        "\n",
        "===================================================================\n",
        "\n",
        "**Sample Input 2:**\\\n",
        "[3, 5, 1, 6]\n",
        "\n",
        "**Sample Output 2:**\\\n",
        "[9, 25, 1, 36]\n",
        "\n",
        "\n",
        "===================================================================\n",
        "\n",
        "\n",
        "\n",
        "\n",
        "\n"
      ]
    },
    {
      "cell_type": "code",
      "metadata": {
        "id": "5NDg0odDfANt"
      },
      "source": [
        "list_1 = []\n",
        "inputs = input(\"Enter the numbers to square them: \").split(\",\")\n",
        "for x in inputs:\n",
        "    integer = int(x)\n",
        "    list_1.append(integer**2)\n",
        "print(list_1)\n"
      ],
      "execution_count": null,
      "outputs": []
    },
    {
      "cell_type": "markdown",
      "metadata": {
        "id": "WZXnxHTdGrMC"
      },
      "source": [
        "## Optional Tasks (13-15) [Ungraded]"
      ]
    },
    {
      "cell_type": "markdown",
      "metadata": {
        "id": "lvSiLaobU1zY"
      },
      "source": [
        "### Task 13\n",
        "\n",
        "Write a Python program that reads 5 numbers into a list and prints the smallest and largest number and their locations in the list. <font color='red'>[You are not allowed to use the max(), min(), sort(), sorted() functions here]</font>\n",
        "\n",
        "**Hint:** You may assume the first input to be the largest value initially and the largest value’s location to be 0. Similarly, you can assume the first input to be the smallest value initially and the smallest value’s location to be 0. \n",
        "\n",
        "**Note:** You may need to be careful while printing the output. Depending on your code, you might need data conversion.\n",
        "\n",
        "===================================================================\n",
        "\n",
        "**Sample Input:**\\\n",
        "7, 13, -5, 10, 6\n",
        "\n",
        "**Sample Output:**\\\n",
        "My list: [7, 13, -5, 10, 6]\\\n",
        "Smallest number in the list is -5 which was found at index 2\\\n",
        "Largest number in the list is 13 which was found at index 1\n",
        "\n",
        "==================================================================="
      ]
    },
    {
      "cell_type": "code",
      "metadata": {
        "id": "yiS5TWSDU1zY"
      },
      "source": [
        "list_1 = []\n",
        "numbers = input(\"Enter numbers for the list: \").split(\",\")\n",
        "for x in numbers:\n",
        "    integer = int(x)\n",
        "    list_1.append(integer)\n",
        "\n",
        "    highest = 0\n",
        "    for y in list_1:\n",
        "        if y > highest:\n",
        "            highest = y\n",
        "var = highest\n",
        "index = -1\n",
        "for z in range(0, len(list_1)):\n",
        "    if list_1[z]==var:\n",
        "        index=z\n",
        "\n",
        "    lowest = 0\n",
        "    for i in list_1:\n",
        "        if i < lowest:\n",
        "            lowest = i\n",
        "var2 = lowest\n",
        "index2 = -1\n",
        "for j in range(0,len(list_1)):\n",
        "    if list_1[j]==var2:\n",
        "        index2 = j\n",
        "print(\"My list:\",list_1)\n",
        "print(\"Smallest number in the list is\",lowest,\" which was found at index\",index2,\".\")\n",
        "print(\"Largest number in the list is\",highest,\" which was found at index\",index,\".\")"
      ],
      "execution_count": null,
      "outputs": []
    },
    {
      "cell_type": "markdown",
      "metadata": {
        "id": "rguDZ8SBCHD8"
      },
      "source": [
        "### Task 14\n",
        "Write a Python program that takes two lists as an input from the user. Then print a new list with the **common elements** of both the input lists. \n",
        "\n",
        "*Hint: You may need to create a third list to store the results. You can use membership operators (in, not in) to make sure similar elements are added.*\n",
        "\n",
        "===================================================================\n",
        "\n",
        "**Sample Input 1:**<br/>\n",
        "A, B, C, D\n",
        "\n",
        "\n",
        "C, E , F, B\n",
        "\n",
        "\n",
        "**Sample Output 1:**<br/>\n",
        "['C', 'B']\n",
        "\n",
        "===================================================================\n",
        "\n",
        "**Sample Input 2:**<br/>\n",
        "1, 3, A, H, P\n",
        "\n",
        "\n",
        "A, G, 1, P, O\n",
        "\n",
        "\n",
        "**Sample Output 2:**<br/>\n",
        "['1', 'A', 'P']\n",
        "\n",
        "===================================================================\n"
      ]
    },
    {
      "cell_type": "code",
      "metadata": {
        "id": "3iueGiPPGG66"
      },
      "source": [
        "list1 = []\n",
        "list2 = []\n",
        "list3 = []\n",
        "numbers = input(\"Enter data for the list: \").split(\", \")\n",
        "for x in numbers:\n",
        "    list1.append(x)\n",
        "numbers2 = input(\"Enter data for the list: \").split(\", \")\n",
        "for y in numbers2:\n",
        "    list2.append(y)\n",
        "for z in list1:\n",
        "    if z in list2:\n",
        "        list3.append(z)\n",
        "for l in list2:\n",
        "    if l in list1:\n",
        "        list3.append(l)\n",
        "list4 = []\n",
        "for q in list3:\n",
        "    if q not in list4:\n",
        "        list4.append(q)       \n",
        "print(list4)"
      ],
      "execution_count": null,
      "outputs": []
    },
    {
      "cell_type": "markdown",
      "metadata": {
        "id": "tjcE5oitCM2s"
      },
      "source": [
        "### Task 15\n",
        "\n",
        "\n",
        "Write a Python program that reads 5 numbers into a list and prints the second largest number and its location or index position on the list. <font color='red'>[You are not allowed to use the max(), sort(), sorted() function here]</font>\n",
        "\n",
        "===================================================================\n",
        "\n",
        "**Sample Input:**\\\n",
        " 7, 13, 2, 10, 6\n",
        "\n",
        "**Sample Output:**\\\n",
        "My list: [7, 13, 2, 10, 6]\\\n",
        "Second largest number in the list is 10 which was found at index 3.\n",
        "\n",
        "==================================================================="
      ]
    },
    {
      "cell_type": "code",
      "metadata": {
        "id": "b2TwkUqnGZU-"
      },
      "source": [
        "list_1 = []\n",
        "list_2 = []\n",
        "number = input(\"Enter numbers for the list: \").split(\",\")\n",
        "highest = 0\n",
        "for i in number:\n",
        "    integer = int(i)\n",
        "    list_1.append(integer)\n",
        "    for y in list_1:\n",
        "        if y> highest:\n",
        "            highest = y\n",
        "for f in list_1:\n",
        "    list_2.append(f)\n",
        "list_2.remove(highest)\n",
        "second_highest = 0\n",
        "for x in list_2:\n",
        "    if x > second_highest:\n",
        "        second_highest = x\n",
        "variable = second_highest\n",
        "index = -1\n",
        "for q in range(0,len(list_1)):\n",
        "    if list_1[q]==variable:\n",
        "        index=q\n",
        "print(\"My list:\",list_1)\n",
        "print(\"Second largest number in the list is\",second_highest,\" which was found at index\",index,\".\")\n"
      ],
      "execution_count": null,
      "outputs": []
    }
  ]
}