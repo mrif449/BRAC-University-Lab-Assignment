{
  "nbformat": 4,
  "nbformat_minor": 0,
  "metadata": {
    "colab": {
      "name": "CSE220 Assignment-2.ipynb",
      "provenance": [],
      "collapsed_sections": []
    },
    "kernelspec": {
      "name": "python3",
      "display_name": "Python 3"
    },
    "language_info": {
      "name": "python"
    }
  },
  "cells": [
    {
      "cell_type": "markdown",
      "metadata": {
        "id": "PlyYH0T-Q9yE"
      },
      "source": [
        "# Linked List"
      ]
    },
    {
      "cell_type": "markdown",
      "metadata": {
        "id": "cNf7HnVYRH1T"
      },
      "source": [
        "## Task 1:\n",
        "i) Create a Node class which will hold two fields i.e an integer element and a reference to the next Node.\n",
        "ii) Create a Linked list Abstract Data Type (ADT)named MyList.The elements in the list are Nodes consisting of an integer type key (all keys are unique) and a reference to the next node.\n"
      ]
    },
    {
      "cell_type": "code",
      "metadata": {
        "id": "KRg6yL2eRM5I"
      },
      "source": [
        "class Node:\n",
        "    def __init__(self,element):\n",
        "        self.element = element\n",
        "        self.next = None\n",
        "\n",
        "\n",
        "class myList:\n",
        "    def __init__(self,a=None):\n",
        "        self.head = Node(-1)\n",
        "        self.size = 0\n",
        "\n",
        "        if a != None:\n",
        "            self.head.next = a.head.next\n",
        "            length = self.head.next\n",
        "\n",
        "            while length != None:\n",
        "                self.size += 1\n",
        "                length = length.next"
      ],
      "execution_count": null,
      "outputs": []
    },
    {
      "cell_type": "markdown",
      "metadata": {
        "id": "SqAZ_ZSERPQx"
      },
      "source": [
        "## Task 2:"
      ]
    },
    {
      "cell_type": "markdown",
      "metadata": {
        "id": "4xA3N8nkRUMI"
      },
      "source": [
        "### 1. Constructor\n",
        "a.  \tMyList (int [] a) or def __init__ (self, a)  (5)\n",
        "\n",
        "Pre-condition: Array cannot be empty.\n",
        "Post-condition:This is the default constructor of MyList class. This constructor creates a list from an array.\n"
      ]
    },
    {
      "cell_type": "code",
      "metadata": {
        "id": "M_vnf-k3RWOo"
      },
      "source": [
        ""
      ],
      "execution_count": null,
      "outputs": []
    },
    {
      "cell_type": "markdown",
      "metadata": {
        "id": "Ky0OKDimRauL"
      },
      "source": [
        "### 2. void showList ( ) or def showList(self) (2)\n",
        "\n",
        "Precondition: None.\n",
        "Postcondition: Outputs the keys of the elements of the order list. If the list is empty, outputs “Empty list”.\n",
        "\n"
      ]
    },
    {
      "cell_type": "code",
      "metadata": {
        "id": "xWdWgAq8Rc0Y"
      },
      "source": [
        "def showList(self):\n",
        "        if self.size != 0:\n",
        "            length = self.head.next\n",
        "            while length != None:\n",
        "                print(length.element,end=\" \")\n",
        "                length = length.next\n",
        "            print()\n",
        "        else:\n",
        "            print(\"Empty\")"
      ],
      "execution_count": null,
      "outputs": []
    },
    {
      "cell_type": "markdown",
      "metadata": {
        "id": "lhEAyjifRdrZ"
      },
      "source": [
        "### 3.\tboolean isEmpty ( ) or def isEmpty(self) (1)\n",
        "\n",
        "Pre-condition: None.\n",
        "Post-condition: Returns true if a list is empty. Otherwise, returns false.\n"
      ]
    },
    {
      "cell_type": "code",
      "metadata": {
        "id": "QuckMSGcRhm3"
      },
      "source": [
        "def isEmpty(self):\n",
        "        if self.size == 0:\n",
        "            return True\n",
        "        else: return False"
      ],
      "execution_count": null,
      "outputs": []
    },
    {
      "cell_type": "markdown",
      "metadata": {
        "id": "-B60ZNk0RiN5"
      },
      "source": [
        "### 4.\tvoid clear ( ) or def clear(self) (1)\n",
        "\n",
        "Pre-condition: The list is not empty.\n",
        "Post-condition: Removes all the elements from a list.\n"
      ]
    },
    {
      "cell_type": "code",
      "metadata": {
        "id": "mSgYPEiYRqFY"
      },
      "source": [
        "def clear(self):\n",
        "        if self.size != 0:\n",
        "            self.head.next = None\n",
        "            self.size = 0\n",
        "        else:\n",
        "            print(\"Empty\")"
      ],
      "execution_count": null,
      "outputs": []
    },
    {
      "cell_type": "markdown",
      "metadata": {
        "id": "nLKJKOpNSJ1o"
      },
      "source": [
        "### 5.\tvoid insert (Node newElement) or def insert(self, newElement) (3)\n",
        "Pre-condition: None.\n",
        "Post-condition: This method inserts newElement at the tail of the list. If an element with the same key as newElement already exists in the list, then it concludes the key already exists and does not insert the key.\n"
      ]
    },
    {
      "cell_type": "code",
      "metadata": {
        "id": "e_Pb8xCRSMKf"
      },
      "source": [
        "def insert(self, newElement):\n",
        "        self.idx = None\n",
        "        a = Node(newElement)\n",
        "        b = self.head\n",
        "        while b.next != None:\n",
        "            b = b.next\n",
        "            if b.element == newElement:\n",
        "                print(\"Not empty\")\n",
        "        if self.idx == None:\n",
        "            b.next = a\n",
        "            self.size += 1\n",
        "        elif self.size < self.idx:\n",
        "            print(\"Invalid\")\n",
        "        else:\n",
        "            b = self.head\n",
        "            for x in range(self.idx):\n",
        "                b = b.next\n",
        "                x += 1\n",
        "            a.next = b.next\n",
        "            b.next = a\n",
        "            self.size += 1"
      ],
      "execution_count": null,
      "outputs": []
    },
    {
      "cell_type": "markdown",
      "metadata": {
        "id": "eN9evmHqSN_A"
      },
      "source": [
        "### 6.\tvoid insert (int newElement, int index) or def insert(self, newElement, index) (4)\n",
        "\n",
        "Pre-condition: The list is not empty.\n",
        "Post-condition: This method inserts newElement at the given index of the list. If an element with the same key as newElement value already exists in the list, then it concludes the key already exists and does not insert the key. [You must also check the validity of the index].\n"
      ]
    },
    {
      "cell_type": "code",
      "metadata": {
        "id": "190MQoJ0SOw3"
      },
      "source": [
        ""
      ],
      "execution_count": null,
      "outputs": []
    },
    {
      "cell_type": "markdown",
      "metadata": {
        "id": "mh-z_QV-SSGY"
      },
      "source": [
        "### 7.\tNode remove (int deleteKey) or def remove(self, deletekey) (4)\n",
        "Pre-condition: List is not empty.\n",
        "Post-condition: Removes the element from a list that contains the deleteKey and returns the deleted key value.\n"
      ]
    },
    {
      "cell_type": "code",
      "metadata": {
        "id": "Y2x79CzISTSn"
      },
      "source": [
        "def remove(self, deletekey):\n",
        "        b = self.head\n",
        "        while b.next != None:\n",
        "            if b.next.element == deletekey:\n",
        "                i = b.next\n",
        "                b.next = i.next\n",
        "                i.next = None\n",
        "                self.size -= 1\n",
        "                return i.element\n",
        "            b = b.next\n",
        "        return None"
      ],
      "execution_count": null,
      "outputs": []
    },
    {
      "cell_type": "markdown",
      "metadata": {
        "id": "TxzM7Sg5SlxC"
      },
      "source": [
        "## Task 3:"
      ]
    },
    {
      "cell_type": "markdown",
      "metadata": {
        "id": "-NQ5h8pVSsBJ"
      },
      "source": [
        "1.\tWrite a function to find out the even numbers that are present in the list and output another list with those numbers. (3)\n",
        "\n",
        "Sample Input\t\n",
        "1 -> 2 -> 5 -> 3 -> 8\t\n",
        "\n",
        "Sample Output\n",
        "2 -> 8\n",
        "\n",
        "Sample Input\n",
        "101 -> 120 -> 25 -> 91-> 87 -> 1\t\n",
        "\n",
        "Sample Output\n",
        "120\n"
      ]
    },
    {
      "cell_type": "code",
      "metadata": {
        "id": "yXy9EoBpSaBI"
      },
      "source": [
        "def even_list(self):\n",
        "        b = self.head.next\n",
        "        key = []\n",
        "        new_list = myList()\n",
        "        while b != None:\n",
        "            if b.element%2 == 0:\n",
        "                key += [b.element]\n",
        "            b = b.next\n",
        "        new_list.Myst(key)\n",
        "        return new_list"
      ],
      "execution_count": null,
      "outputs": []
    },
    {
      "cell_type": "markdown",
      "metadata": {
        "id": "SPWDuvYhS-Ox"
      },
      "source": [
        "2.\tWrite a function to find out if the element is in the list or not. (3)\n",
        "\n",
        "Sample Input\t \n",
        "1 -> 2 -> 5 -> 3-> 8 and 7\t\n",
        "\n",
        "Sample Output\n",
        "False\n",
        "\n",
        "Sample Input\n",
        "101 -> 120 -> 25 -> 91-> 87 -> 1 and 87\t\n",
        "\n",
        "Sample Output\n",
        "True\n"
      ]
    },
    {
      "cell_type": "code",
      "metadata": {
        "id": "BnNMh6DdTGJe"
      },
      "source": [
        "def is_in_list(self,b):\n",
        "        a = self.head.next\n",
        "        while a != None:\n",
        "            if a.element == b:\n",
        "                return True\n",
        "            a = a.next\n",
        "        return False"
      ],
      "execution_count": null,
      "outputs": []
    },
    {
      "cell_type": "markdown",
      "metadata": {
        "id": "MS00qWvbTIBR"
      },
      "source": [
        "3.\tWrite a function to reverse the list. [You are not allowed to create any other list] (3)\n",
        "\n",
        "Sample Input\t\n",
        "1 -> 2 -> 5 -> 3-> 8\t\n",
        "\n",
        "Sample Output\n",
        "8 -> 3 -> 5 -> 2 -> 1\n"
      ]
    },
    {
      "cell_type": "code",
      "metadata": {
        "id": "uQNgNN9LTMSo"
      },
      "source": [
        "def reverse_list(self):\n",
        "        start = self.head.next\n",
        "        rev = self.size/2\n",
        "        for x in range(rev):\n",
        "            a = self.head\n",
        "            start2 = start.next\n",
        "            while x<(self.size-x):\n",
        "                a = a.next\n",
        "                x += 1\n",
        "            start.element, a.element = a.element, start.element\n",
        "            start = start2"
      ],
      "execution_count": null,
      "outputs": []
    },
    {
      "cell_type": "markdown",
      "metadata": {
        "id": "4hXtPEjNTOIp"
      },
      "source": [
        "4.\tWrite a function to sort the list. [You are not allowed to create any other list] (3)\n",
        "\n",
        "Sample Input\t\n",
        "1 -> 2 -> 5 -> 3-> 8\t\n",
        "\n",
        "Sample Output\n",
        "1 -> 2 -> 3 -> 5 -> 8\n"
      ]
    },
    {
      "cell_type": "code",
      "metadata": {
        "id": "pKrXvWPGTVbI"
      },
      "source": [
        "def sort(self):\n",
        "        for x in range(self.size):\n",
        "            a = self.head.next\n",
        "            while a.next != None:\n",
        "                if a.element > a.next.element:\n",
        "                    a.element, a.next.element = a.next.element, a.element\n",
        "                a = a.next"
      ],
      "execution_count": null,
      "outputs": []
    },
    {
      "cell_type": "markdown",
      "metadata": {
        "id": "ojZMhha8TWBZ"
      },
      "source": [
        "5.\tWrite a function that prints the sum of the values in the list. (4)\n",
        "\n",
        "Sample Input\t\n",
        "1 -> 2 -> 5 -> 3-> 8\t\n",
        "\n",
        "Sample Output\n",
        "19\n",
        "\n"
      ]
    },
    {
      "cell_type": "code",
      "metadata": {
        "id": "qd1iH-HDTcFo"
      },
      "source": [
        "def sum(self):\n",
        "        i = 0\n",
        "        a = self.head.next\n",
        "        while a != None:\n",
        "            i += a.element\n",
        "            a = a.next\n",
        "        return i"
      ],
      "execution_count": null,
      "outputs": []
    },
    {
      "cell_type": "markdown",
      "metadata": {
        "id": "SEXXoqgrTd-h"
      },
      "source": [
        "6.\tWrite a function that rotates the elements of the list k times. [You are not allowed to create any other list]. (4)\n",
        "Sample Input\t\n",
        "3 -> 2 -> 5 -> 1-> 8, left, 2\t\n",
        "\n",
        "Sample Output\n",
        "5 -> 1 -> 8 -> 3 -> 2\n",
        "\n",
        "\n",
        "Sample Input\n",
        "3 -> 2 -> 5 -> 1-> 8, right, 2\t\n",
        "\n",
        "Sample Output\n",
        "1 -> 8 -> 3 -> 2 -> 5\n"
      ]
    },
    {
      "cell_type": "code",
      "metadata": {
        "id": "-2drpc0YTnE4"
      },
      "source": [
        "def rotateKTimes(self,count,side):\n",
        "        if self.size > 0:\n",
        "            if side == \"left\":\n",
        "                for x in range(count):\n",
        "                #while 1<count:\n",
        "                    a = self.head.next\n",
        "                    b = a.element\n",
        "                    while a.next != None:\n",
        "                        a.element = a.next.element\n",
        "                        a = a.next\n",
        "                    a.element = b\n",
        "                    x += 1\n",
        "            elif side == \"right\":\n",
        "                for x in range(count):\n",
        "                    a = self.head.next\n",
        "                    b = a.element\n",
        "                    while a.next != None:\n",
        "                        c = a.next.element\n",
        "                        a.next.element = b\n",
        "                        b = c\n",
        "                        a = a.next\n",
        "                    self.head.next.element = b"
      ],
      "execution_count": null,
      "outputs": []
    },
    {
      "cell_type": "markdown",
      "metadata": {
        "id": "PnNkyBi1Q75U"
      },
      "source": [
        "##Tester:"
      ]
    },
    {
      "cell_type": "code",
      "metadata": {
        "id": "rBQz4jkPRAYb"
      },
      "source": [
        "#==========================Tester Code==========================#\n",
        "        \n",
        "#Task-2.1, 2.2 -- Constructor & showList\n",
        "print(\"\\n//=======Task 2.1, 2.2 -- Constructor & showList=======//\")\n",
        "a = [10, 20, 30, 40, 50, 60]\n",
        "list1= myList()\n",
        "list1.create_list(a)\n",
        "list1.showList()\n",
        "\n",
        "#Task-2.3 -- isEmpty\n",
        "print(\"\\n//========Task 2.3 -- isEmpty========//\")\n",
        "isListEmpty = list1.isEmpty()\n",
        "print(isListEmpty) #Should print: false\n",
        "b = []\n",
        "list2 = myList()\n",
        "list2.create_list(b)\n",
        "isListEmpty = list2.isEmpty()\n",
        "print(isListEmpty) #Should print: true\n",
        "\n",
        "#Task-2.4 -- Clear\n",
        "print(\"\\n//=======Task 2.4 -- Clear =======//\")\n",
        "print(\"Before clearing Linked List\")\n",
        "list1.showList() #Should print: 10->20->30->40->50->60\n",
        "list1.clear()\n",
        "print(\"After clearing Linked List\")\n",
        "list1.showList() #Should print: Empty List\n",
        "\n",
        "#Task-2.5, 2.6 -- Insert\n",
        "print(\"\\n//=======Task 2.5, 2.6 -- Insert=======//\")\n",
        "c = [10, 20, 30, 40, 50, 60, 70, 80, 90]\n",
        "l3 = myList()\n",
        "l3.create_list(c)\n",
        "l3.showList() #Should print: 10->20->30->40->50->60->70->80->90\n",
        "l3.insert(100)\n",
        "l3.showList() #Should print: 10->20->30->40->50->60->70->80->90->100\n",
        "l3.insert(0, 0)\n",
        "l3.showList() #Should print: 0->10->20->30->40->50->60->70->80->90->100\n",
        "l3.insert(110, 5)\n",
        "l3.showList() #Should print: 0->10->20->30->40->110->50->60->70->80->90->100\n",
        "l3.showList() #Should print: 0->10->20->30->40->110->50->60->70->80->90->100->120\n",
        "l3.insert(50) #Should print: Key 50 already exists\n",
        "\n",
        "#Task-2.7 -- Remove\n",
        "print(\"\\n//=======Task 2.7 -- Remove=======//\")\n",
        "l3.showList() #Should print: 0->10->20->30->40->110->50->60->70->80->90->100->120\n",
        "l3.remove(0)\n",
        "l3.showList() #Should print: 10->20->30->40->110->50->60->70->80->90->100->120\n",
        "l3.remove(110) \n",
        "l3.showList() #Should print: 10->20->30->40->50->60->70->80->90->100->120\n",
        "l3.remove(120)\n",
        "l3.showList() #Should print: 10->20->30->40->50->60->70->80->90->100\n",
        "l3.remove(120) #Should print: Key 120 does not exist\n",
        "\n",
        "#Task-2.8 -- EvenList\n",
        "print(\"\\n//=======Task 2.8 -- EvenList =======//\")\n",
        "d = [1, 2, 5, 3, 8]\n",
        "l4 = myList()\n",
        "l4.create_list(d)\n",
        "l5 = l4.evenList()\n",
        "l5.showList() #Should print: 2->8\n",
        "\n",
        "#Task-2.9 -- Find\n",
        "print(\"\\n//=======Task 2.9 -- Find =======//\")\n",
        "found = l4.find(5)\n",
        "print(found) #Should print: true\n",
        "found = l4.find(4)\n",
        "print(found) #Should print: false\n",
        "\n",
        "#Task-2.10 -- Reverse List\n",
        "print(\"\\n//=======Task 2.10 -- Reverse =======//\")\n",
        "print(\"Before Reverse: \", end='')\n",
        "l4.showList() #Should print: 1->2->5->3->8\n",
        "l4.reverseList()\n",
        "print(\"After Reverse: \", end='')\n",
        "l4.showList() #Should print: 8->3->5->2->1\n",
        "\n",
        "#Task-2.11 -- Sort\n",
        "print(\"\\n//=======Task 2.11 -- Sort =======//\")\n",
        "print(\"Before Sort: \", end='')\n",
        "l4.showList() #Should print: 8->3->5->2->1\n",
        "l4.sort()\n",
        "print(\"After Sort: \", end='')\n",
        "l4.showList() #Should print: 1->2->3->5->8\n",
        "\n",
        "#Task-2.12 -- Sum of Elements\n",
        "print(\"\\n//=======Task 2.12 -- Sum of Elements =======//\")\n",
        "l4.showList() #Should print: 1->2->3->5->8\n",
        "total = l4.sum()\n",
        "print(\"Sum of Elements:\", total)\n",
        "\n",
        "#Task-2.13 -- Rotate\n",
        "print(\"\\n//=======Task 2.13 -- Rotate =======//\")\n",
        "l4.showList() #Should print: 1->2->3->5->8\n",
        "l4.rotateKTimes(2,\"left\")\n",
        "l4.showList() #Should print: 3->5->8->1->2\n",
        "l4.rotateKTimes(2, \"right\")\n",
        "l4.showList() #Should print: 1->2->3->5->8"
      ],
      "execution_count": null,
      "outputs": []
    },
    {
      "cell_type": "code",
      "metadata": {
        "id": "G5jttXZfCI0k"
      },
      "source": [
        "class Node:\n",
        "    def __init__(self,element):\n",
        "        self.element = element\n",
        "        self.next = None\n",
        "\n",
        "\n",
        "class myList:\n",
        "    def __init__(self,a=None):\n",
        "        self.head = Node(-1)\n",
        "        self.size = 0\n",
        "\n",
        "        if a != None:\n",
        "            self.head.next = a.head.next\n",
        "            length = self.head.next\n",
        "\n",
        "            while length != None:\n",
        "                self.size += 1\n",
        "                length = length.next\n",
        "\n",
        "    def create_list(self,key):\n",
        "        a=self.head\n",
        "        for x in key:\n",
        "            self.size+=1\n",
        "            b=Node(x)\n",
        "            a.next=b\n",
        "            a=a.next\n",
        "            x+=1\n",
        "    \n",
        "\n",
        "    def showList(self):\n",
        "        if self.size != 0:\n",
        "            length = self.head.next\n",
        "            while length != None:\n",
        "                print(length.element,end=\" \")\n",
        "                length = length.next\n",
        "            print()\n",
        "        else:\n",
        "            print(\"Empty\")\n",
        "\n",
        "    def isEmpty(self):\n",
        "        if self.size == 0:\n",
        "            return True\n",
        "        else: return False\n",
        "    \n",
        "    def clear(self):\n",
        "        if self.size != 0:\n",
        "            self.head.next = None\n",
        "            self.size = 0\n",
        "        else:\n",
        "            print(\"Empty List\")\n",
        "    \n",
        "    def insert(self, newElement,idx = None):\n",
        "        a = Node(newElement)\n",
        "        b = self.head\n",
        "        while b.next != None:\n",
        "            b = b.next\n",
        "            if b.element == newElement:\n",
        "                print(\"Not empty\")\n",
        "        if idx == None:\n",
        "            b.next = a\n",
        "            self.size += 1\n",
        "        elif self.size < idx:\n",
        "            print(\"Invalid\")\n",
        "        else:\n",
        "            b = self.head\n",
        "            for x in range(idx):\n",
        "                b = b.next\n",
        "                x += 1\n",
        "            a.next = b.next\n",
        "            b.next = a\n",
        "            self.size += 1\n",
        "    \n",
        "    def remove(self, deletekey):\n",
        "        b = self.head\n",
        "        while b.next != None:\n",
        "            if b.next.element == deletekey:\n",
        "                i = b.next\n",
        "                b.next = i.next\n",
        "                i.next = None\n",
        "                self.size -= 1\n",
        "                return i.element\n",
        "            b = b.next\n",
        "        return None\n",
        "\n",
        "    def evenList(self):\n",
        "        b = self.head.next\n",
        "        key = []\n",
        "        new_list = myList()\n",
        "        while b != None:\n",
        "            if b.element%2 == 0:\n",
        "                key += [b.element]\n",
        "            b = b.next\n",
        "        new_list.create_list(key)\n",
        "        return new_list\n",
        "    \n",
        "    def find(self,b):\n",
        "        a = self.head.next\n",
        "        while a != None:\n",
        "            if a.element == b:\n",
        "                return True\n",
        "            a = a.next\n",
        "        return False\n",
        "\n",
        "    def reverseList(self):\n",
        "        start = self.head.next\n",
        "        rev = self.size/2\n",
        "        for x in range(int(rev)):\n",
        "            a = self.head\n",
        "            start2 = start.next\n",
        "            while x<(self.size-x):\n",
        "                a = a.next\n",
        "                x += 1\n",
        "            start.element, a.element = a.element, start.element\n",
        "            start = start2\n",
        "    \n",
        "    def sort(self):\n",
        "        for x in range(self.size):\n",
        "            a = self.head.next\n",
        "            while a.next != None:\n",
        "                if a.element > a.next.element:\n",
        "                    a.element, a.next.element = a.next.element, a.element\n",
        "                a = a.next\n",
        "    \n",
        "    def sum(self):\n",
        "        i = 0\n",
        "        a = self.head.next\n",
        "        while a != None:\n",
        "            i += a.element\n",
        "            a = a.next\n",
        "        return i\n",
        "    \n",
        "    def rotateKTimes(self,count,side):\n",
        "        if self.size > 0:\n",
        "            if side == \"left\":\n",
        "                for x in range(count):\n",
        "                #while 1<count:\n",
        "                    a = self.head.next\n",
        "                    b = a.element\n",
        "                    while a.next != None:\n",
        "                        a.element = a.next.element\n",
        "                        a = a.next\n",
        "                    a.element = b\n",
        "                    x += 1\n",
        "            elif side == \"right\":\n",
        "                for x in range(count):\n",
        "                    a = self.head.next\n",
        "                    b = a.element\n",
        "                    while a.next != None:\n",
        "                        c = a.next.element\n",
        "                        a.next.element = b\n",
        "                        b = c\n",
        "                        a = a.next\n",
        "                    self.head.next.element = b\n",
        "\n",
        "\n",
        "#==========================Tester Code==========================#\n",
        "        \n",
        "#Task-2.1, 2.2 -- Constructor & showList\n",
        "print(\"\\n//=======Task 2.1, 2.2 -- Constructor & showList=======//\")\n",
        "a = [10, 20, 30, 40, 50, 60]\n",
        "list1= myList()\n",
        "list1.create_list(a)\n",
        "list1.showList()\n",
        "\n",
        "#Task-2.3 -- isEmpty\n",
        "print(\"\\n//========Task 2.3 -- isEmpty========//\")\n",
        "isListEmpty = list1.isEmpty()\n",
        "print(isListEmpty) #Should print: false\n",
        "b = []\n",
        "list2 = myList()\n",
        "list2.create_list(b)\n",
        "isListEmpty = list2.isEmpty()\n",
        "print(isListEmpty) #Should print: true\n",
        "\n",
        "#Task-2.4 -- Clear\n",
        "print(\"\\n//=======Task 2.4 -- Clear =======//\")\n",
        "print(\"Before clearing Linked List\")\n",
        "list1.showList() #Should print: 10->20->30->40->50->60\n",
        "list1.clear()\n",
        "print(\"After clearing Linked List\")\n",
        "list1.showList() #Should print: Empty List\n",
        "\n",
        "#Task-2.5, 2.6 -- Insert\n",
        "print(\"\\n//=======Task 2.5, 2.6 -- Insert=======//\")\n",
        "c = [10, 20, 30, 40, 50, 60, 70, 80, 90]\n",
        "l3 = myList()\n",
        "l3.create_list(c)\n",
        "l3.showList() #Should print: 10->20->30->40->50->60->70->80->90\n",
        "l3.insert(100)\n",
        "l3.showList() #Should print: 10->20->30->40->50->60->70->80->90->100\n",
        "l3.insert(0, 0)\n",
        "l3.showList() #Should print: 0->10->20->30->40->50->60->70->80->90->100\n",
        "l3.insert(110, 5)\n",
        "l3.showList() #Should print: 0->10->20->30->40->110->50->60->70->80->90->100\n",
        "l3.showList() #Should print: 0->10->20->30->40->110->50->60->70->80->90->100->120\n",
        "l3.insert(50) #Should print: Key 50 already exists\n",
        "\n",
        "#Task-2.7 -- Remove\n",
        "print(\"\\n//=======Task 2.7 -- Remove=======//\")\n",
        "l3.showList() #Should print: 0->10->20->30->40->110->50->60->70->80->90->100->120\n",
        "l3.remove(0)\n",
        "l3.showList() #Should print: 10->20->30->40->110->50->60->70->80->90->100->120\n",
        "l3.remove(110) \n",
        "l3.showList() #Should print: 10->20->30->40->50->60->70->80->90->100->120\n",
        "l3.remove(120)\n",
        "l3.showList() #Should print: 10->20->30->40->50->60->70->80->90->100\n",
        "l3.remove(120) #Should print: Key 120 does not exist\n",
        "\n",
        "#Task-2.8 -- EvenList\n",
        "print(\"\\n//=======Task 2.8 -- EvenList =======//\")\n",
        "d = [1, 2, 5, 3, 8]\n",
        "l4 = myList()\n",
        "l4.create_list(d)\n",
        "l5 = l4.evenList()\n",
        "l5.showList() #Should print: 2->8\n",
        "\n",
        "#Task-2.9 -- Find\n",
        "print(\"\\n//=======Task 2.9 -- Find =======//\")\n",
        "found = l4.find(5)\n",
        "print(found) #Should print: true\n",
        "found = l4.find(4)\n",
        "print(found) #Should print: false\n",
        "\n",
        "#Task-2.10 -- Reverse List\n",
        "print(\"\\n//=======Task 2.10 -- Reverse =======//\")\n",
        "print(\"Before Reverse: \", end='')\n",
        "l4.showList() #Should print: 1->2->5->3->8\n",
        "l4.reverseList()\n",
        "print(\"After Reverse: \", end='')\n",
        "l4.showList() #Should print: 8->3->5->2->1\n",
        "\n",
        "#Task-2.11 -- Sort\n",
        "print(\"\\n//=======Task 2.11 -- Sort =======//\")\n",
        "print(\"Before Sort: \", end='')\n",
        "l4.showList() #Should print: 8->3->5->2->1\n",
        "l4.sort()\n",
        "print(\"After Sort: \", end='')\n",
        "l4.showList() #Should print: 1->2->3->5->8\n",
        "\n",
        "#Task-2.12 -- Sum of Elements\n",
        "print(\"\\n//=======Task 2.12 -- Sum of Elements =======//\")\n",
        "l4.showList() #Should print: 1->2->3->5->8\n",
        "total = l4.sum()\n",
        "print(\"Sum of Elements:\", total)\n",
        "\n",
        "#Task-2.13 -- Rotate\n",
        "print(\"\\n//=======Task 2.13 -- Rotate =======//\")\n",
        "l4.showList() #Should print: 1->2->3->5->8\n",
        "l4.rotateKTimes(2,\"left\")\n",
        "l4.showList() #Should print: 3->5->8->1->2\n",
        "l4.rotateKTimes(2, \"right\")\n",
        "l4.showList() #Should print: 1->2->3->5->8"
      ],
      "execution_count": null,
      "outputs": []
    }
  ]
}